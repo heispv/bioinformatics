{
  "nbformat": 4,
  "nbformat_minor": 0,
  "metadata": {
    "colab": {
      "provenance": [],
      "authorship_tag": "ABX9TyOqPmJg1YC2aWsQ3veKB1xZ",
      "include_colab_link": true
    },
    "kernelspec": {
      "name": "python3",
      "display_name": "Python 3"
    },
    "language_info": {
      "name": "python"
    }
  },
  "cells": [
    {
      "cell_type": "markdown",
      "metadata": {
        "id": "view-in-github",
        "colab_type": "text"
      },
      "source": [
        "<a href=\"https://colab.research.google.com/github/heispv/bioinformatics/blob/master/randomized-motif-search.ipynb\" target=\"_parent\"><img src=\"https://colab.research.google.com/assets/colab-badge.svg\" alt=\"Open In Colab\"/></a>"
      ]
    },
    {
      "cell_type": "code",
      "execution_count": 6,
      "metadata": {
        "id": "M-ECIfqgLcKq"
      },
      "outputs": [],
      "source": [
        "import random\n",
        "from collections import defaultdict\n",
        "import sys\n"
      ]
    },
    {
      "cell_type": "code",
      "source": [
        "def RandomMotifs(Dna, k):\n",
        "    \"\"\"\n",
        "    Randomly selects k-mers from each DNA string in Dna.\n",
        "\n",
        "    Parameters:\n",
        "    - Dna: List of DNA strings.\n",
        "    - k: Length of the motif.\n",
        "\n",
        "    Returns:\n",
        "    - motifs: List of selected k-mers.\n",
        "    \"\"\"\n",
        "    motifs = []\n",
        "    for seq in Dna:\n",
        "        start = random.randint(0, len(seq) - k)\n",
        "        motifs.append(seq[start:start + k])\n",
        "    return motifs\n"
      ],
      "metadata": {
        "id": "Sg58DwEvLrTi"
      },
      "execution_count": 7,
      "outputs": []
    },
    {
      "cell_type": "code",
      "source": [
        "def ProfileWithPseudocounts(Motifs):\n",
        "    \"\"\"\n",
        "    Constructs a profile matrix with pseudocounts from the given motifs.\n",
        "\n",
        "    Parameters:\n",
        "    - Motifs: List of k-mers.\n",
        "\n",
        "    Returns:\n",
        "    - profile: Dictionary representing the profile matrix.\n",
        "    \"\"\"\n",
        "    counts = {'A':[1]*len(Motifs[0]),\n",
        "              'C':[1]*len(Motifs[0]),\n",
        "              'G':[1]*len(Motifs[0]),\n",
        "              'T':[1]*len(Motifs[0])}\n",
        "    k = len(Motifs[0])\n",
        "    t = len(Motifs)\n",
        "\n",
        "    for motif in Motifs:\n",
        "        for idx, nucleotide in enumerate(motif):\n",
        "            counts[nucleotide][idx] += 1\n",
        "\n",
        "    profile = {'A':[], 'C':[], 'G':[], 'T':[]}\n",
        "    for nucleotide in 'ACGT':\n",
        "        for count in counts[nucleotide]:\n",
        "            profile[nucleotide].append(count / (t + 4))  # Adding 4 pseudocounts\n",
        "    return profile\n"
      ],
      "metadata": {
        "id": "k9IYVkgaM4S4"
      },
      "execution_count": 8,
      "outputs": []
    },
    {
      "cell_type": "code",
      "source": [
        "def MotifsFromProfile(Profile, Dna, k):\n",
        "    \"\"\"\n",
        "    Selects k-mers from each DNA string in Dna based on the given profile.\n",
        "    The selection is probabilistic.\n",
        "\n",
        "    Parameters:\n",
        "    - Profile: Profile matrix as a dictionary.\n",
        "    - Dna: List of DNA strings.\n",
        "    - k: Length of the motif.\n",
        "\n",
        "    Returns:\n",
        "    - motifs: List of selected k-mers.\n",
        "    \"\"\"\n",
        "    motifs = []\n",
        "    for seq in Dna:\n",
        "        probabilities = []\n",
        "        for i in range(len(seq) - k + 1):\n",
        "            kmer = seq[i:i+k]\n",
        "            prob = 1\n",
        "            for idx, nucleotide in enumerate(kmer):\n",
        "                prob *= Profile[nucleotide][idx]\n",
        "            probabilities.append(prob)\n",
        "\n",
        "        # Normalize the probabilities\n",
        "        total = sum(probabilities)\n",
        "        if total == 0:\n",
        "            probabilities = [1/(len(seq) - k +1)] * (len(seq) - k +1)\n",
        "        else:\n",
        "            probabilities = [p / total for p in probabilities]\n",
        "\n",
        "        # Choose a k-mer based on the probabilities\n",
        "        r = random.random()\n",
        "        cumulative = 0\n",
        "        chosen_kmer = seq[0:k]  # Default k-mer\n",
        "        for i, p in enumerate(probabilities):\n",
        "            cumulative += p\n",
        "            if r <= cumulative:\n",
        "                chosen_kmer = seq[i:i+k]\n",
        "                break\n",
        "        motifs.append(chosen_kmer)\n",
        "    return motifs\n"
      ],
      "metadata": {
        "id": "ZJWB5fqOM5jx"
      },
      "execution_count": 9,
      "outputs": []
    },
    {
      "cell_type": "code",
      "source": [
        "def Score(Motifs):\n",
        "    \"\"\"\n",
        "    Calculates the score of the motifs. Lower scores are better.\n",
        "\n",
        "    Parameters:\n",
        "    - Motifs: List of k-mers.\n",
        "\n",
        "    Returns:\n",
        "    - score: Integer score representing the quality of motifs.\n",
        "    \"\"\"\n",
        "    k = len(Motifs[0])\n",
        "    t = len(Motifs)\n",
        "    score = 0\n",
        "    for idx in range(k):\n",
        "        count = {'A':0, 'C':0, 'G':0, 'T':0}\n",
        "        for motif in Motifs:\n",
        "            nucleotide = motif[idx]\n",
        "            count[nucleotide] +=1\n",
        "        max_count = max(count.values())\n",
        "        score += (t - max_count)\n",
        "    return score\n"
      ],
      "metadata": {
        "id": "giV0tatDM7Nz"
      },
      "execution_count": 10,
      "outputs": []
    },
    {
      "cell_type": "code",
      "source": [
        "def RandomizedMotifSearch(Dna, k, t):\n",
        "    \"\"\"\n",
        "    Executes the Randomized Motif Search algorithm once.\n",
        "\n",
        "    Parameters:\n",
        "    - Dna: List of DNA strings.\n",
        "    - k: Length of the motif.\n",
        "    - t: Number of DNA strings.\n",
        "\n",
        "    Returns:\n",
        "    - BestMotifs: Best set of motifs found in this iteration.\n",
        "    \"\"\"\n",
        "    Motifs = RandomMotifs(Dna, k)\n",
        "    BestMotifs = Motifs.copy()\n",
        "    BestScore = Score(BestMotifs)\n",
        "\n",
        "    while True:\n",
        "        Profile = ProfileWithPseudocounts(Motifs)\n",
        "        Motifs = MotifsFromProfile(Profile, Dna, k)\n",
        "        currentScore = Score(Motifs)\n",
        "        if currentScore < BestScore:\n",
        "            BestMotifs = Motifs.copy()\n",
        "            BestScore = currentScore\n",
        "        else:\n",
        "            return BestMotifs\n"
      ],
      "metadata": {
        "id": "FwbUaDyKM8tY"
      },
      "execution_count": 11,
      "outputs": []
    },
    {
      "cell_type": "code",
      "source": [
        "def FindBestMotifs(Dna, k, t, iterations=1000, seed=None):\n",
        "    \"\"\"\n",
        "    Runs the Randomized Motif Search multiple times to find the best motifs.\n",
        "\n",
        "    Parameters:\n",
        "    - Dna: List of DNA strings.\n",
        "    - k: Length of the motif.\n",
        "    - t: Number of DNA strings.\n",
        "    - iterations: Number of times to run the search.\n",
        "    - seed: Random seed for reproducibility (optional).\n",
        "\n",
        "    Returns:\n",
        "    - BestMotifsOverall: Best set of motifs found across all iterations.\n",
        "    - BestScoreOverall: Score of the best motifs.\n",
        "    \"\"\"\n",
        "    if seed is not None:\n",
        "        random.seed(seed)\n",
        "\n",
        "    BestMotifsOverall = None\n",
        "    BestScoreOverall = float('inf')\n",
        "\n",
        "    for i in range(iterations):\n",
        "        currentMotifs = RandomizedMotifSearch(Dna, k, t)\n",
        "        currentScore = Score(currentMotifs)\n",
        "        if currentScore < BestScoreOverall:\n",
        "            BestScoreOverall = currentScore\n",
        "            BestMotifsOverall = currentMotifs.copy()\n",
        "    return BestMotifsOverall, BestScoreOverall\n"
      ],
      "metadata": {
        "id": "GLBePlh9M997"
      },
      "execution_count": 12,
      "outputs": []
    },
    {
      "cell_type": "code",
      "source": [
        "def read_input(file_path):\n",
        "    \"\"\"\n",
        "    Reads the input file and parses k, t, and Dna sequences.\n",
        "\n",
        "    Parameters:\n",
        "    - file_path: Path to the input text file.\n",
        "\n",
        "    Returns:\n",
        "    - k: Length of the motif (integer).\n",
        "    - t: Number of DNA strings (integer).\n",
        "    - Dna: List of DNA strings.\n",
        "    \"\"\"\n",
        "    with open(file_path, 'r') as file:\n",
        "        lines = file.readlines()\n",
        "\n",
        "    # Remove any leading/trailing whitespace and split the lines\n",
        "    lines = [line.strip() for line in lines if line.strip()]\n",
        "\n",
        "    # Parse k and t from the first line\n",
        "    first_line = lines[0]\n",
        "    k, t = map(int, first_line.split())\n",
        "\n",
        "    # Parse DNA sequences from the remaining lines\n",
        "    Dna = []\n",
        "    for line in lines[1:]:\n",
        "        Dna.extend(line.split())\n",
        "\n",
        "    # Validate the number of DNA strings\n",
        "    if len(Dna) != t:\n",
        "        raise ValueError(f\"Expected {t} DNA strings, but found {len(Dna)}.\")\n",
        "\n",
        "    return k, t, Dna\n"
      ],
      "metadata": {
        "id": "SSdbkbFQM_TU"
      },
      "execution_count": 13,
      "outputs": []
    },
    {
      "cell_type": "code",
      "source": [
        "# Specify the path to your input file\n",
        "input_file = '/content/dataset_30307_5 (1).txt'  # Change this if your file is located elsewhere\n",
        "\n",
        "# Read and parse the input\n",
        "try:\n",
        "    k, t, Dna = read_input(input_file)\n",
        "    print(f\"Successfully read input from '{input_file}'.\")\n",
        "    print(f\"k (Motif Length): {k}\")\n",
        "    print(f\"t (Number of DNA Strings): {t}\")\n",
        "    print(f\"DNA Strings: {Dna}\")\n",
        "except Exception as e:\n",
        "    print(f\"Error reading input file: {e}\")\n"
      ],
      "metadata": {
        "colab": {
          "base_uri": "https://localhost:8080/"
        },
        "id": "VwUfTcPXNaVN",
        "outputId": "fd2fedbb-f19a-4e04-c551-14969290593d"
      },
      "execution_count": 14,
      "outputs": [
        {
          "output_type": "stream",
          "name": "stdout",
          "text": [
            "Successfully read input from '/content/dataset_30307_5 (1).txt'.\n",
            "k (Motif Length): 15\n",
            "t (Number of DNA Strings): 20\n",
            "DNA Strings: ['GGTAGGAAGCGGTGAGTGTACCTCTGCTATCGGGATTTTGATTCAGGGTGGTCGGAGGCTGTGAGGTGGCGAAATATGCTGGCCCGACGAGGAGTCGACTTTATGCCAGCCTAGGTAGTTGTGCTTCGCTGACTGTTACTTGAATTACGAGCTCACCATTATTTGACCGCGTCTGCCTATACTTATGCCTCGGGTAGGAAGCGGTGA', 'GTGTACCTCTGCTATCGGGATTTTGATTCAGGGTGGTCGGAGGCTGTGAGGTGGCGAAATATGCTGGCCCGACGAGGAGTCGACTTTTGGCAAGGAAGAGTTATGCCAGCCTAGGTAGTTGTGCTTCGCTGACTGTTACTTGAATTACGAGCTCACCATTATTTGACCGCGTCTGCCTATACTTATGCCTCGGGTAGGAAGCGGTGA', 'AGGTGATCATAGCGGAAATCCGGGCGATTTCATGGGGTGTTCCTCGCTGGAGAACTGTTGGGGAGGGGAAGAGGCCTTATATCTCGTCAAAGAAAGTTCCACCCCTTGACCCTATCCTAGCGTGCAACGGACAGTGACGGAGTGTCTCGTGCCAATTAGGACCTCAGGAGCTCCGATCTGGAAACCGGGGCTGGGGGCGGATAAATC', 'CGGGCTTATAGTTTTTCAACCGACTACAACGGCCATGAAACGGTCACAACATATGCCAACATACAATGGGTAGGTGACTGGAAACAGCCAGTCGGGTTGACCTATGGTTTCGCGTCCATCAACGCATAGGAGGTAAGAGTCCACATCGCATTAGATGTCTGGAGGTTGAGAGTTAGGGTTTCTGCGATGGCAGCTTCAGAATCAGGA', 'ATCGACATTCGCAGCGTTGACTATATGATTTGGGTGATGGTTGTCCCGTAAACTACTTAGATCTTACGTGACGCTTCCTCAGTAGTTGGAGGGACCGAGTTGTACGGATTTACATAGCGGCGACACAAAATAAGGGGCGTACTCAGAGGACAGTAGGGGAGACCTCGAGACGGGGCAGAGCAAAAGACACCACTGAAAGGTGGTGTA', 'TTCTCCTCATCAAGAATGGGGCCAATACGACCTACGATACTCCCGAACTAGCTGACACCACTATCGATACCGGGTGGAGTACAAGAGTTAGCCAACCTCTTGGCTCTTAGCTAACGGTACTATAGTGGAAGTCGACCAATTGACTACCGGGAGCATGCTGGTAATTTTAGTTAAACAGCTCAGTCTGAGCCACTTGTTAGCGCTGTC', 'GTGTAGACTACGCCAATTATTTGTACGTTACCTGAAAGGCGTGAGAGGCGGTGTGGCGGCTGGGAGGGCCGACGCGATAGTTAATATTAAATAGCCATAAAAACCCGCGTCGCCCGTGGCTCTCTGGAACAGAAGAGTTAACCGCCATTCTTCACACAACTAGGCGGACGGCAGAAGCCGCCTTCCTCGCAGCGATGCAAGTAAGAT', 'TGGAGTAAAAGAGTTGACACGCGTGTAGTTGAGTTGCGTTATGGTTGGCAAACGCTCGTCTCAAACACCATACAACGAACGATCCAGCGCAATCTCAAAAGGCTCGGCGGGGTCAAGTCACGACCCAGCGTGCTCTATTGGTATTTAAGTCTGTCCATGCCCGTAAGAAAGCGTAGGGTAGAATGCGTTCTTCCTTAGTGCCGATGC', 'TTACGTGCTCGGGAAGAGTTCTATTGGTGGTGGAGACGCCTCAGCCGATACATAATAAAGCGGGTGTTAACGCAGCATGGAAGCGATTCCAGGCCGTCTGTATCGTCCGGTGTTGCACCCGCTGCCGGAACGCGGCGGTGCAGCCATTGGGCAGCTGCCAATTTTTCTCGGCGTGGGGGTAGGCGGATTACACCTGCTACCACGCAA', 'GGATGGGCCTACGCAAAAGTTGGTCCGGAAGAGTTCAGGACGCATCTTGTGCTCATACAAGTCTGCTCGTACCACATAACGGTCATCAAACTGAGTCCAGAACGTTCACTAGGAATATCGGCGATAACTGTGCGCAAATGCGTGCGTCCGTAAGCGACGAATCGACGTCACCCCATCATGTTGTAGTCAGTCGCTGCTGGATGATTA', 'TCGATGCATGTTCGCAGAAACAAATTATTTGTGCAAGTACTCGTAGTGTGACCGTTAGGCGTGTATGAGCTTAACAGATTGGTAACCGCTTGCCTTGCGTGCCAAAGCACTAACACGTCGAGGACTAGGTAGTGCAGGGTTCCAGGTGTGGAGGGGGTAAGTTGGCTTTCTCACGTCTACGTTGCTACCTCGAGAACCCATATGTTC', 'TGGATTCGAATTGTTGTGGACTAATCTTAGTACTTGAAAAAGGGGAAGAGTTTGGTTGTCTCGGGTACCGCGTAACCCCATAGTCCCTCGTCTCCTCTTGGAAAGGAAGTCCCTCCAGTGCATGAGTATAGAAAATTCGGAACTGAGTGATGCGTGCTGTGGAATAACCAAAGCCAATATTGGATGTCGTATCGTATGTAACTGACA', 'CGAGACCTCTCCATGGAATTTCGACGGGGCAGATTCTACAAGCGTGAAGAGGCATATTGCTGGGCGAAGTAATGATCGCCAGAATTCCACGTGTGGCGGTGTAAGCTACACGAGGGCGATCCGTTTTAATTAGCGGACACGTAGAGGCGTTGGCACTGGAGGGGAAGAACCTCTCTCGCTCGCACGACTACCATTTGCCTTCATTGC', 'GGTGGTGTATCAGCGTCGGGTGATTACCTCAGGACTCTCCGCTCAACAGTATCTATGATCGTTTCACAGCCGGAGTGCCAACCGCGAAGCTCCGCGCATTGTCCCGGGGGTTTGGCGTACACAGTAGGACTGCATTAGTGAAATGTCTATCTGTCAGGCACATTACCCTACCGAGAGTGGAGGCCCAGAGTTTCAATACCACTTGCT', 'TGTGTCTTCAACCTCTGAAAGCTCACTTCTTGGGCGCTTACAGGAAGCGGTATCGGCCTAGTAGGACTTATCCTTCTGTAGCACCGAAACGCGCCAATCCGGCGAGGTGGGAGCCCCAGCGAGGGGAAGAGTACAGTAACATATAGCGCCAGGAGCACCATATCGGTTCGGAAAAAACAATATCATTCGGTCTGTAAAGGGAACTGC', 'TGCACCAACGCGTCTAGGATGTGGAGGGGAAGCAATTCCCCCATCCTACTTAATTTCTAGCGGCGATGCCTTACTTAGAGGACTTTAAGTTCGAACCCTTAAATACCCATTATTTAAGTGACGAAGTACTTTGAAAGAGTGTTGCTTGAACGTCAGGTAACGTACAGCATGTGATACATATAGAAGGCAAAAACGGGGAATACGAAG', 'TACAGAATGACCGCAACTTTGGCTACAGAAGCACGCCTTCAGGGACTTTATCTTTGTTGCACAAAAGAAGTGAGCAAGGTAACCCTTGCACTAGCCTGCATCCGTTATAGTGTACTATGCAGGTAACCCAACGCCCGTGCTTTTAGTCAGCGCAGGGCCTCGCCTCTCTGCAAAAATAACGGGGAAGAGTTAATCGGTGATACCGCT', 'GATGGAGGTGGACATCGACAGACACACCATGGACCGTGACATTGGTCTATCGTAGCGCGGACGCTCGACCAAAGTCCCCCGAGGTCGGGAACCTAACATACAGCCACTACCACTCATACATGGATAAGAAGAGTTGTCGCCCTACCCTTAGTTAGCGAGGCTTCGGATAAGGAACGGGGACTATCACATCAACGTAAACTACGTATA', 'CAATCATGTGCTCGACATCTAGAGGAGATAGTCATTCGAGTCCCCTACAAGGCATGCCACGCCCTATTTTTTGGCTTATCGAGAACCAATCTCTTGCTTGGCTCGTTAAGTAATTGTGCTGAGCTTGGAGGGGATAGGTTGCTATGATTTCGGAAGCGCCAACCGAGTTCAGACGTGTCAGATGCCGAGTTGTACGGATTAAGGGCC', 'CACGCTGACCCATAACTGGAGGGGAACTCTTAGTATTTCGGGTTCATTTCTCCCCAAACCAATTACGTGCCATTCTTCCAAGACAAATATCTCGCGCGTCGGCCTATGACCGAGCTTCCACGCGCTCTCTAGGCGTCCTAACGTATTATTATGTTCAAAGGTGGTAATCTCACCTCAAACTTGTTTTGTTGTTGTTCCCCGGCCTAG']\n"
          ]
        }
      ]
    },
    {
      "cell_type": "code",
      "source": [
        "# Define the number of iterations and random seed for reproducibility\n",
        "iterations = 1000\n",
        "random_seed = 42  # You can change or set to None for different results each run\n",
        "\n",
        "# Run the Randomized Motif Search algorithm\n",
        "BestMotifs, BestScore = FindBestMotifs(Dna, k, t, iterations=iterations, seed=random_seed)\n",
        "\n",
        "# Display the results\n",
        "print(\"Best Motifs Found:\")\n",
        "print(' '.join(BestMotifs))\n",
        "print(\"\\nScore of Best Motifs:\", BestScore)\n"
      ],
      "metadata": {
        "colab": {
          "base_uri": "https://localhost:8080/"
        },
        "id": "9my2pP68N6oq",
        "outputId": "ee82dd7c-4441-41dd-d3ee-3881809899b7"
      },
      "execution_count": 15,
      "outputs": [
        {
          "output_type": "stream",
          "name": "stdout",
          "text": [
            "Best Motifs Found:\n",
            "AGGAAGCGGTGAGTG TGGCAAGGAAGAGTT GGGAGGGGAAGAGGC TGGAGGTTGAGAGTT TGGAGGGACCGAGTT TGGAGTACAAGAGTT TGGAACAGAAGAGTT TGGAGTAAAAGAGTT TGCTCGGGAAGAGTT TGGTCCGGAAGAGTT TGGAGGGGGTAAGTT AAAAGGGGAAGAGTT TGGAGGGGAAGAACC TGGAGGCCCAGAGTT GCGAGGGGAAGAGTA TGGAGGGGAAGCAAT TAACGGGGAAGAGTT TGGATAAGAAGAGTT TGGAGGGGATAGGTT TGGAGGGGAACTCTT\n",
            "\n",
            "Score of Best Motifs: 63\n"
          ]
        }
      ]
    },
    {
      "cell_type": "code",
      "source": [],
      "metadata": {
        "id": "jN9gZgR-N-1m"
      },
      "execution_count": null,
      "outputs": []
    }
  ]
}