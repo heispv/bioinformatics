{
  "cells": [
    {
      "cell_type": "markdown",
      "metadata": {
        "colab_type": "text",
        "id": "view-in-github"
      },
      "source": [
        "<a href=\"https://colab.research.google.com/github/heispv/bioinformatics/blob/master/hamming-distance.ipynb\" target=\"_parent\"><img src=\"https://colab.research.google.com/assets/colab-badge.svg\" alt=\"Open In Colab\"/></a>"
      ]
    },
    {
      "cell_type": "code",
      "execution_count": 9,
      "metadata": {
        "id": "A_2s6ZubNSUX"
      },
      "outputs": [],
      "source": [
        "def hamming_distance(p, q):\n",
        "\n",
        "    distance = 0\n",
        "    for i in range(len(p)):\n",
        "        if p[i] != q[i]:\n",
        "            distance += 1\n",
        "\n",
        "    return distance\n"
      ]
    },
    {
      "cell_type": "code",
      "execution_count": 10,
      "metadata": {
        "id": "zd_wZzbgPZuk"
      },
      "outputs": [],
      "source": [
        "text = open('hamming_distance_dataset.txt')\n",
        "seq = text.read()\n",
        "text.close()\n",
        "\n",
        "p, q = seq.split('-')"
      ]
    },
    {
      "cell_type": "code",
      "execution_count": 11,
      "metadata": {
        "colab": {
          "base_uri": "https://localhost:8080/"
        },
        "id": "nNZFxfQGNV3N",
        "outputId": "415b99fb-ac0f-47b7-e5e0-e55c485bf1af"
      },
      "outputs": [
        {
          "data": {
            "text/plain": [
              "797"
            ]
          },
          "execution_count": 11,
          "metadata": {},
          "output_type": "execute_result"
        }
      ],
      "source": [
        "hamming_distance(p, q)"
      ]
    },
    {
      "cell_type": "code",
      "execution_count": null,
      "metadata": {},
      "outputs": [],
      "source": []
    }
  ],
  "metadata": {
    "colab": {
      "authorship_tag": "ABX9TyNAVfvZ3v8cGHACAaqszC+Q",
      "include_colab_link": true,
      "provenance": []
    },
    "kernelspec": {
      "display_name": "Python 3",
      "name": "python3"
    },
    "language_info": {
      "codemirror_mode": {
        "name": "ipython",
        "version": 3
      },
      "file_extension": ".py",
      "mimetype": "text/x-python",
      "name": "python",
      "nbconvert_exporter": "python",
      "pygments_lexer": "ipython3",
      "version": "3.11.4"
    }
  },
  "nbformat": 4,
  "nbformat_minor": 0
}
