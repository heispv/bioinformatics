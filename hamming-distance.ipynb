{
  "nbformat": 4,
  "nbformat_minor": 0,
  "metadata": {
    "colab": {
      "provenance": [],
      "authorship_tag": "ABX9TyNAVfvZ3v8cGHACAaqszC+Q",
      "include_colab_link": true
    },
    "kernelspec": {
      "name": "python3",
      "display_name": "Python 3"
    },
    "language_info": {
      "name": "python"
    }
  },
  "cells": [
    {
      "cell_type": "markdown",
      "metadata": {
        "id": "view-in-github",
        "colab_type": "text"
      },
      "source": [
        "<a href=\"https://colab.research.google.com/github/heispv/bioinformatics/blob/master/hamming-distance.ipynb\" target=\"_parent\"><img src=\"https://colab.research.google.com/assets/colab-badge.svg\" alt=\"Open In Colab\"/></a>"
      ]
    },
    {
      "cell_type": "code",
      "execution_count": 9,
      "metadata": {
        "id": "A_2s6ZubNSUX"
      },
      "outputs": [],
      "source": [
        "def hammingDistance(p, q):\n",
        "    if len(p) != len(q):\n",
        "        raise ValueError(\"Input strings must be of equal length.\")\n",
        "\n",
        "    distance = 0\n",
        "    for i in range(len(p)):\n",
        "        if p[i] != q[i]:\n",
        "            distance += 1\n",
        "\n",
        "    return distance\n"
      ]
    },
    {
      "cell_type": "code",
      "source": [
        "text = open('/content/dataset_9_3.txt')\n",
        "seq = text.read()\n",
        "text.close()\n",
        "\n",
        "p, q = seq.split('-')"
      ],
      "metadata": {
        "id": "zd_wZzbgPZuk"
      },
      "execution_count": 10,
      "outputs": []
    },
    {
      "cell_type": "code",
      "source": [
        "hammingDistance(p, q)"
      ],
      "metadata": {
        "colab": {
          "base_uri": "https://localhost:8080/"
        },
        "id": "nNZFxfQGNV3N",
        "outputId": "415b99fb-ac0f-47b7-e5e0-e55c485bf1af"
      },
      "execution_count": 12,
      "outputs": [
        {
          "output_type": "execute_result",
          "data": {
            "text/plain": [
              "797"
            ]
          },
          "metadata": {},
          "execution_count": 12
        }
      ]
    }
  ]
}