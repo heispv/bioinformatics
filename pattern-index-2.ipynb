{
  "cells": [
    {
      "cell_type": "markdown",
      "metadata": {
        "colab_type": "text",
        "id": "view-in-github"
      },
      "source": [
        "<a href=\"https://colab.research.google.com/github/heispv/bioinformatics/blob/master/pattern-index-2.ipynb\" target=\"_parent\"><img src=\"https://colab.research.google.com/assets/colab-badge.svg\" alt=\"Open In Colab\"/></a>"
      ]
    },
    {
      "cell_type": "code",
      "execution_count": 2,
      "metadata": {
        "id": "Nolfb8Nu1dxn"
      },
      "outputs": [],
      "source": [
        "def pattern_index(sequence, pattern):\n",
        "  pattern_idx = []\n",
        "  n = len(sequence)\n",
        "  k = len(pattern)\n",
        "\n",
        "  for i in range(n - k + 1):\n",
        "    seq2check = sequence[i : i+k]\n",
        "    if seq2check == pattern:\n",
        "      pattern_idx.append(i)\n",
        "\n",
        "\n",
        "  return pattern_idx"
      ]
    },
    {
      "cell_type": "code",
      "execution_count": 3,
      "metadata": {
        "id": "W_bkkkd63W2q"
      },
      "outputs": [],
      "source": [
        "text_file = open('genome.txt')\n",
        "sequence = text_file.read()\n",
        "text_file.close()"
      ]
    },
    {
      "cell_type": "code",
      "execution_count": 4,
      "metadata": {
        "id": "hLEojxTMxf9x"
      },
      "outputs": [],
      "source": [
        "pattern = 'CTTGATCAT'"
      ]
    },
    {
      "cell_type": "code",
      "execution_count": 5,
      "metadata": {
        "id": "dwZ2eDIkwFqQ"
      },
      "outputs": [],
      "source": [
        "ans = pattern_index(sequence, pattern)"
      ]
    },
    {
      "cell_type": "code",
      "execution_count": 6,
      "metadata": {
        "colab": {
          "base_uri": "https://localhost:8080/"
        },
        "id": "7sDKxEBK2SAo",
        "outputId": "5fa4b74c-2553-431a-d3a6-1000d245df31"
      },
      "outputs": [
        {
          "name": "stdout",
          "output_type": "stream",
          "text": [
            "[119349 705046 1496758 1505983 1621865]\n"
          ]
        }
      ],
      "source": [
        "print(str(ans).replace(',',''))"
      ]
    },
    {
      "cell_type": "code",
      "execution_count": null,
      "metadata": {
        "id": "JB3Tb-JI4NRa"
      },
      "outputs": [],
      "source": []
    }
  ],
  "metadata": {
    "colab": {
      "authorship_tag": "ABX9TyO/A8Uruh7say0iGaJWw0+t",
      "include_colab_link": true,
      "provenance": []
    },
    "kernelspec": {
      "display_name": "Python 3",
      "name": "python3"
    },
    "language_info": {
      "codemirror_mode": {
        "name": "ipython",
        "version": 3
      },
      "file_extension": ".py",
      "mimetype": "text/x-python",
      "name": "python",
      "nbconvert_exporter": "python",
      "pygments_lexer": "ipython3",
      "version": "3.11.4"
    }
  },
  "nbformat": 4,
  "nbformat_minor": 0
}
