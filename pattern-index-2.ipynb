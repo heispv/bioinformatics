{
  "nbformat": 4,
  "nbformat_minor": 0,
  "metadata": {
    "colab": {
      "provenance": [],
      "authorship_tag": "ABX9TyO/A8Uruh7say0iGaJWw0+t",
      "include_colab_link": true
    },
    "kernelspec": {
      "name": "python3",
      "display_name": "Python 3"
    },
    "language_info": {
      "name": "python"
    }
  },
  "cells": [
    {
      "cell_type": "markdown",
      "metadata": {
        "id": "view-in-github",
        "colab_type": "text"
      },
      "source": [
        "<a href=\"https://colab.research.google.com/github/heispv/bioinformatics/blob/master/pattern-index-2.ipynb\" target=\"_parent\"><img src=\"https://colab.research.google.com/assets/colab-badge.svg\" alt=\"Open In Colab\"/></a>"
      ]
    },
    {
      "cell_type": "code",
      "source": [
        "def patternIndex(sequence, pattern):\n",
        "  pattern_index = []\n",
        "  n = len(sequence)\n",
        "  k = len(pattern)\n",
        "\n",
        "  for i in range(n - k + 1):\n",
        "    seq2check = sequence[i : i+k]\n",
        "    if seq2check == pattern:\n",
        "      pattern_index.append(i)\n",
        "\n",
        "\n",
        "  return pattern_index"
      ],
      "metadata": {
        "id": "Nolfb8Nu1dxn"
      },
      "execution_count": 85,
      "outputs": []
    },
    {
      "cell_type": "code",
      "source": [
        "text_file = open('/content/genome.txt')\n",
        "sequence = text_file.read()\n",
        "text_file.close()"
      ],
      "metadata": {
        "id": "W_bkkkd63W2q"
      },
      "execution_count": 95,
      "outputs": []
    },
    {
      "cell_type": "code",
      "source": [
        "pattern = 'CTTGATCAT'"
      ],
      "metadata": {
        "id": "hLEojxTMxf9x"
      },
      "execution_count": 96,
      "outputs": []
    },
    {
      "cell_type": "code",
      "source": [
        "ans = patternIndex(sequence, pattern)"
      ],
      "metadata": {
        "id": "dwZ2eDIkwFqQ"
      },
      "execution_count": 97,
      "outputs": []
    },
    {
      "cell_type": "code",
      "source": [
        "print(str(ans).replace(',',''))"
      ],
      "metadata": {
        "colab": {
          "base_uri": "https://localhost:8080/"
        },
        "id": "7sDKxEBK2SAo",
        "outputId": "5fa4b74c-2553-431a-d3a6-1000d245df31"
      },
      "execution_count": 98,
      "outputs": [
        {
          "output_type": "stream",
          "name": "stdout",
          "text": [
            "[60039 98409 129189 152283 152354 152411 163207 197028 200160 357976 376771 392723 532935 600085 622755 1065555]\n"
          ]
        }
      ]
    },
    {
      "cell_type": "code",
      "source": [],
      "metadata": {
        "id": "JB3Tb-JI4NRa"
      },
      "execution_count": null,
      "outputs": []
    }
  ]
}