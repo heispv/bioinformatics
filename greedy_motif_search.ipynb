{
  "nbformat": 4,
  "nbformat_minor": 0,
  "metadata": {
    "colab": {
      "provenance": [],
      "authorship_tag": "ABX9TyMjHIInmanjlr+Aj4hrmt65",
      "include_colab_link": true
    },
    "kernelspec": {
      "name": "python3",
      "display_name": "Python 3"
    },
    "language_info": {
      "name": "python"
    }
  },
  "cells": [
    {
      "cell_type": "markdown",
      "metadata": {
        "id": "view-in-github",
        "colab_type": "text"
      },
      "source": [
        "<a href=\"https://colab.research.google.com/github/heispv/bioinformatics/blob/master/greedy_motif_search.ipynb\" target=\"_parent\"><img src=\"https://colab.research.google.com/assets/colab-badge.svg\" alt=\"Open In Colab\"/></a>"
      ]
    },
    {
      "cell_type": "code",
      "source": [
        "def most_probable_kmer(seq: str, k: int, profile_matrix: dict) -> str:\n",
        "    \"\"\"\n",
        "    Find the most probable k-mer in the given sequence based on a profile matrix.\n",
        "\n",
        "    Args:\n",
        "        seq (str): The input DNA sequence.\n",
        "        k (int): The length of the k-mer to search for.\n",
        "        profile_matrix (dict): A dictionary representing the profile matrix.\n",
        "\n",
        "    Returns:\n",
        "        str: The most probable k-mer based on the profile matrix.\n",
        "    \"\"\"\n",
        "    n = len(seq)\n",
        "    pattern = ''\n",
        "    pattern_prob = 0\n",
        "\n",
        "    for i in range(n - k + 1):\n",
        "        kmer = seq[i : i+k]\n",
        "\n",
        "        prob = 1\n",
        "        for j, letter in enumerate(kmer):\n",
        "            letter = letter.capitalize()\n",
        "            prob *= profile_matrix[letter][j]\n",
        "\n",
        "        if prob > pattern_prob:\n",
        "            pattern = kmer\n",
        "            pattern_prob = prob\n",
        "\n",
        "    return pattern\n"
      ],
      "metadata": {
        "id": "3JthhcMIiGQh"
      },
      "execution_count": 48,
      "outputs": []
    },
    {
      "cell_type": "code",
      "source": [
        "# Read the data\n",
        "text = open('/content/dataset_159_3.txt')\n",
        "data = text.read()\n",
        "text.close()"
      ],
      "metadata": {
        "id": "gP1GV8ZYmYne"
      },
      "execution_count": 49,
      "outputs": []
    },
    {
      "cell_type": "code",
      "source": [
        "# Preprocess the data\n",
        "data = data.split('\\n')\n",
        "del data[-1]\n",
        "seq, k, *profile = data\n",
        "k = int(k)"
      ],
      "metadata": {
        "id": "RfwlhSQYmrIe"
      },
      "execution_count": 50,
      "outputs": []
    },
    {
      "cell_type": "code",
      "source": [
        "# profile (str) -> profile (dict)\n",
        "rows = str(profile).strip(\"[]'\").split(\"', '\")\n",
        "keys = ['A', 'C', 'G', 'T']\n",
        "profile_matrix = {}\n",
        "\n",
        "for i, row in enumerate(rows):\n",
        "    values = [float(val) for val in row.split()]\n",
        "    profile_matrix[keys[i]] = values"
      ],
      "metadata": {
        "id": "OGy3wvUWngle"
      },
      "execution_count": 51,
      "outputs": []
    },
    {
      "cell_type": "code",
      "source": [
        "most_probable_kmer(seq, k, profile_matrix)"
      ],
      "metadata": {
        "colab": {
          "base_uri": "https://localhost:8080/",
          "height": 35
        },
        "id": "7s813oyWmJLp",
        "outputId": "73318dac-dd3b-419d-da66-dd2932ddb386"
      },
      "execution_count": 52,
      "outputs": [
        {
          "output_type": "execute_result",
          "data": {
            "text/plain": [
              "'CATCTTTCGGCA'"
            ],
            "application/vnd.google.colaboratory.intrinsic+json": {
              "type": "string"
            }
          },
          "metadata": {},
          "execution_count": 52
        }
      ]
    }
  ]
}