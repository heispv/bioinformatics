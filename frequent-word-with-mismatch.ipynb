{
  "nbformat": 4,
  "nbformat_minor": 0,
  "metadata": {
    "colab": {
      "provenance": [],
      "authorship_tag": "ABX9TyPSZnaZ6ZR0bB99+ejZg13o",
      "include_colab_link": true
    },
    "kernelspec": {
      "name": "python3",
      "display_name": "Python 3"
    },
    "language_info": {
      "name": "python"
    }
  },
  "cells": [
    {
      "cell_type": "markdown",
      "metadata": {
        "id": "view-in-github",
        "colab_type": "text"
      },
      "source": [
        "<a href=\"https://colab.research.google.com/github/heispv/bioinformatics/blob/master/frequent-word-with-mismatch.ipynb\" target=\"_parent\"><img src=\"https://colab.research.google.com/assets/colab-badge.svg\" alt=\"Open In Colab\"/></a>"
      ]
    },
    {
      "cell_type": "code",
      "source": [
        "import numpy as np\n",
        "from functions import neighborhood"
      ],
      "metadata": {
        "id": "dc9j2DdUcDt3"
      },
      "execution_count": 36,
      "outputs": []
    },
    {
      "cell_type": "code",
      "source": [
        "def freq_word_with_mistmatch(seq, k, d):\n",
        "    patterns = []\n",
        "    freq_map = {}\n",
        "    n = len(seq)\n",
        "\n",
        "    for i in range(n - k + 1):\n",
        "        pattern = seq[i : i+k]\n",
        "        neighbors = neighborhood(pattern, d)\n",
        "        for neighbor in neighbors:\n",
        "            if neighbor not in freq_map:\n",
        "                freq_map[neighbor] = 1\n",
        "            else:\n",
        "                freq_map[neighbor] += 1\n",
        "\n",
        "    max_value = np.max(list(freq_map.values()))\n",
        "    for key, value in freq_map.items():\n",
        "        if value == max_value:\n",
        "            patterns.append(key)\n",
        "\n",
        "    return patterns"
      ],
      "metadata": {
        "id": "A35CL4Z7bP4h"
      },
      "execution_count": 37,
      "outputs": []
    },
    {
      "cell_type": "code",
      "source": [
        "seq = 'GCAACGCAACAAGAAACGTAAGAATTGATCAATTGATTGATTGAAGAATTGATTGATTGAAGAATCAGCAACGCAACATTGGCAACGCAACATCAATTGAAGAGCAACATCAATCAAAGAATTGAACGTAACGTATCAGCAACATCAATCAAACGTATCAATTGAAGAAACGTAAGAAACGTATCAAACGTAAGAATCAATCAAAGAAACGTGCAACAACGTATTGAAGAAAGAGCAACAACGTATCAAACGTGCAACATTGAAGAGCAACATCAATTGGCAACAAGAATCAAACGTAACGTAAGAGCAACATTGATCAATTGAAGAAACGTGCAACAACGTAAGAATCAATTGGCAACAAGAAAGAGCAACATTGAACGTAACGTATCAAACGT'\n",
        "k = 6\n",
        "d = 2"
      ],
      "metadata": {
        "id": "aJiclPtWkq2e"
      },
      "execution_count": 38,
      "outputs": []
    },
    {
      "cell_type": "code",
      "source": [
        "freq_word_with_mistmatch(seq, k, d)"
      ],
      "metadata": {
        "colab": {
          "base_uri": "https://localhost:8080/"
        },
        "id": "n--Sq6u8k9jH",
        "outputId": "b3498fb2-0db0-47cf-cfe2-7789caef0679"
      },
      "execution_count": 39,
      "outputs": [
        {
          "output_type": "execute_result",
          "data": {
            "text/plain": [
              "['AAGGAA']"
            ]
          },
          "metadata": {},
          "execution_count": 39
        }
      ]
    }
  ]
}