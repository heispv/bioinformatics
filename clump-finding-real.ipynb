{
  "nbformat": 4,
  "nbformat_minor": 0,
  "metadata": {
    "colab": {
      "provenance": [],
      "gpuType": "T4",
      "authorship_tag": "ABX9TyO1lL4Px9PFZE2naUmXdt7G",
      "include_colab_link": true
    },
    "kernelspec": {
      "name": "python3",
      "display_name": "Python 3"
    },
    "language_info": {
      "name": "python"
    },
    "accelerator": "GPU"
  },
  "cells": [
    {
      "cell_type": "markdown",
      "metadata": {
        "id": "view-in-github",
        "colab_type": "text"
      },
      "source": [
        "<a href=\"https://colab.research.google.com/github/heispv/bioinformatics/blob/master/clump-finding-real.ipynb\" target=\"_parent\"><img src=\"https://colab.research.google.com/assets/colab-badge.svg\" alt=\"Open In Colab\"/></a>"
      ]
    },
    {
      "cell_type": "code",
      "source": [
        "def indexTable(seq, k):\n",
        "    index_table = {}\n",
        "\n",
        "    for i in range(0, len(seq)-k+1):\n",
        "        if (pattern := seq[i: i+k]) not in index_table:\n",
        "            index_table[pattern] = [i]\n",
        "        else:\n",
        "            index_table[pattern].append(i)\n",
        "    return index_table"
      ],
      "metadata": {
        "id": "2lpf3dd4KnND"
      },
      "execution_count": 117,
      "outputs": []
    },
    {
      "cell_type": "code",
      "source": [
        "def findClumps(seq, k, L, t):\n",
        "    index_table = indexTable(seq, k)\n",
        "    clumps_num = 0\n",
        "    clump_list = []\n",
        "\n",
        "    for key in index_table:\n",
        "      for i in range(0, len(value := index_table[key])):\n",
        "        if (i+t-1 < len(value)) and (value[i+t-1] - value[i]) <= L-k:\n",
        "          clumps_num += 1\n",
        "          clump_list.append(key)\n",
        "          break\n",
        "\n",
        "    return clumps_num, clump_list"
      ],
      "metadata": {
        "id": "7uTyXHyKlkpu"
      },
      "execution_count": 121,
      "outputs": []
    },
    {
      "cell_type": "code",
      "source": [
        "text = open('/content/E_coli.txt')\n",
        "seq = text.read()\n",
        "text.close()"
      ],
      "metadata": {
        "id": "k-rqNi_1dbVj"
      },
      "execution_count": 122,
      "outputs": []
    },
    {
      "cell_type": "code",
      "source": [
        "sum, clump_list = findClumps(seq, 9, 500, 3)"
      ],
      "metadata": {
        "id": "7aB4fGDpf5l9"
      },
      "execution_count": 123,
      "outputs": []
    },
    {
      "cell_type": "code",
      "source": [
        "print(sum)"
      ],
      "metadata": {
        "colab": {
          "base_uri": "https://localhost:8080/"
        },
        "id": "3pqhZswZjGQO",
        "outputId": "b0ae1dc3-d6fc-4741-d6a0-0ebe874e3f5e"
      },
      "execution_count": 124,
      "outputs": [
        {
          "output_type": "stream",
          "name": "stdout",
          "text": [
            "1904\n"
          ]
        }
      ]
    }
  ]
}