{
  "cells": [
    {
      "cell_type": "markdown",
      "metadata": {
        "colab_type": "text",
        "id": "view-in-github"
      },
      "source": [
        "<a href=\"https://colab.research.google.com/github/heispv/bioinformatics/blob/master/clump-finding-real.ipynb\" target=\"_parent\"><img src=\"https://colab.research.google.com/assets/colab-badge.svg\" alt=\"Open In Colab\"/></a>"
      ]
    },
    {
      "cell_type": "code",
      "execution_count": 5,
      "metadata": {
        "id": "2lpf3dd4KnND"
      },
      "outputs": [],
      "source": [
        "def index_table(seq, k):\n",
        "    index_table = {}\n",
        "\n",
        "    for i in range(0, len(seq)-k+1):\n",
        "        if (pattern := seq[i: i+k]) not in index_table:\n",
        "            index_table[pattern] = [i]\n",
        "        else:\n",
        "            index_table[pattern].append(i)\n",
        "    return index_table"
      ]
    },
    {
      "cell_type": "code",
      "execution_count": 6,
      "metadata": {
        "id": "7uTyXHyKlkpu"
      },
      "outputs": [],
      "source": [
        "def find_clumps(seq, k, L, t):\n",
        "    idx_table = index_table(seq, k)\n",
        "    clumps_num = 0\n",
        "    clump_list = []\n",
        "\n",
        "    for key in idx_table:\n",
        "      for i in range(0, len(value := idx_table[key])):\n",
        "        if (i+t-1 < len(value)) and (value[i+t-1] - value[i]) <= L-k:\n",
        "          clumps_num += 1\n",
        "          clump_list.append(key)\n",
        "          break\n",
        "\n",
        "    return clumps_num, clump_list"
      ]
    },
    {
      "cell_type": "code",
      "execution_count": 7,
      "metadata": {
        "id": "k-rqNi_1dbVj"
      },
      "outputs": [],
      "source": [
        "text = open('E_coli.txt')\n",
        "seq = text.read()\n",
        "text.close()"
      ]
    },
    {
      "cell_type": "code",
      "execution_count": 8,
      "metadata": {
        "id": "7aB4fGDpf5l9"
      },
      "outputs": [],
      "source": [
        "sum, clump_list = find_clumps(seq, 9, 500, 3)"
      ]
    },
    {
      "cell_type": "code",
      "execution_count": 9,
      "metadata": {
        "colab": {
          "base_uri": "https://localhost:8080/"
        },
        "id": "3pqhZswZjGQO",
        "outputId": "b0ae1dc3-d6fc-4741-d6a0-0ebe874e3f5e"
      },
      "outputs": [
        {
          "name": "stdout",
          "output_type": "stream",
          "text": [
            "1904\n"
          ]
        }
      ],
      "source": [
        "print(sum)"
      ]
    },
    {
      "cell_type": "code",
      "execution_count": null,
      "metadata": {},
      "outputs": [],
      "source": []
    }
  ],
  "metadata": {
    "accelerator": "GPU",
    "colab": {
      "authorship_tag": "ABX9TyO1lL4Px9PFZE2naUmXdt7G",
      "gpuType": "T4",
      "include_colab_link": true,
      "provenance": []
    },
    "kernelspec": {
      "display_name": "Python 3",
      "name": "python3"
    },
    "language_info": {
      "codemirror_mode": {
        "name": "ipython",
        "version": 3
      },
      "file_extension": ".py",
      "mimetype": "text/x-python",
      "name": "python",
      "nbconvert_exporter": "python",
      "pygments_lexer": "ipython3",
      "version": "3.11.4"
    }
  },
  "nbformat": 4,
  "nbformat_minor": 0
}
