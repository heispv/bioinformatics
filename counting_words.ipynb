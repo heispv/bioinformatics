{
  "nbformat": 4,
  "nbformat_minor": 0,
  "metadata": {
    "colab": {
      "provenance": [],
      "authorship_tag": "ABX9TyMltIKqO1/Zyyvb5l1zidOv",
      "include_colab_link": true
    },
    "kernelspec": {
      "name": "python3",
      "display_name": "Python 3"
    },
    "language_info": {
      "name": "python"
    }
  },
  "cells": [
    {
      "cell_type": "markdown",
      "metadata": {
        "id": "view-in-github",
        "colab_type": "text"
      },
      "source": [
        "<a href=\"https://colab.research.google.com/github/heispv/bioinformatics/blob/master/counting_words.ipynb\" target=\"_parent\"><img src=\"https://colab.research.google.com/assets/colab-badge.svg\" alt=\"Open In Colab\"/></a>"
      ]
    },
    {
      "cell_type": "markdown",
      "source": [
        "Pseudocode\n",
        "```\n",
        "PatternCount(Text, Pattern)\n",
        "  count ← 0\n",
        "  for i ← 0 to |Text| − |Pattern|\n",
        "    if Text(i, |Pattern|) = Pattern\n",
        "      count ← count + 1\n",
        "  return count\n",
        "```"
      ],
      "metadata": {
        "id": "j2hJA5uRavdR"
      }
    },
    {
      "cell_type": "code",
      "execution_count": 13,
      "metadata": {
        "id": "IPD9ZgjEQeT-"
      },
      "outputs": [],
      "source": [
        "text = 'ATGAGATAATGAGATATGAGATATGAGATAATGAGATATTGAGATATGTTATTTGAAATGAGATACGGTGAGATAGTGAGATATGAGATATGAGATAGTGAGATATAAGAGACTGAGATACACTGAGATACCTGAGATATAGATCTTGAGATAATGAGATATGAGATAATATAGGCACTGAGATACGCGTAGTGCTATGTGAGATAATGAGATACTGAGATAATTTGAGATATGAGATATGAGATACCTGAGATACGATCTGAGATATCTGAGATAAATGAGATACTGAGATAGGTGAGATAGCTCGCTCTGAGATAGATGAGATAATGAGATAGAGGTGAGATAACGTTAGTGAGATAGTGATGAGATAATGATTGAGATATGAGATATGCTTATAATTGAGATACTGTGAGATAGTGAGATACAGTTATTTACTGAGATATGAGATACGAGGTGAGATATGAGATATGAGATATAAGATTGAGATAGCCTGAGATATGAGATAAGAGATTGAGATATGTGAGATATGAGATATCCCTGAGATAGAGTGAGATAGATTTGAGATAAGATGAGATACCCATGAGATAGACATTGAGATATGAGATATTTGAGATACTGAGATAATCTCTGAGATATGAGATACTGTTCCTTGAGATATAGTGAGATAGATGAGATATGTGAGATATGAGATACCACTTGAGATAATCTGAGATAACTTCCTGAGATACAGTTTGAGATAGCATGAGATATGAGATAGGGAGACACTGAGATATGAGATATGTTGAGATACTACTGAGATACTGAGATAATGAGATACCTTATTGAGATAGGCTACTGAGATATCTGAGATAGTCGTGAGATACCTGAGATACTATGAGATACGGAATGAGATATGTGAGATATTGAGATATTGAGATAATATTTGAGATACTGAGATACAGTGAGATA'"
      ]
    },
    {
      "cell_type": "code",
      "source": [
        "pattern = 'TGAGATATG'"
      ],
      "metadata": {
        "id": "zl5s_3cjQhxI"
      },
      "execution_count": 14,
      "outputs": []
    },
    {
      "cell_type": "code",
      "source": [
        "count = 0\n",
        "\n",
        "for i in range(0, len(text) - len(pattern) + 1):\n",
        "  if text[i: i+len(pattern)] == pattern:\n",
        "    count += 1\n",
        "\n",
        "print(count)"
      ],
      "metadata": {
        "colab": {
          "base_uri": "https://localhost:8080/"
        },
        "id": "Egm6qZLyQj2Q",
        "outputId": "b403b7ea-1641-43ab-8cf6-ad26800949f7"
      },
      "execution_count": 15,
      "outputs": [
        {
          "output_type": "stream",
          "name": "stdout",
          "text": [
            "24\n"
          ]
        }
      ]
    }
  ]
}