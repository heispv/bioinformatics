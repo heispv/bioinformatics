{
  "nbformat": 4,
  "nbformat_minor": 0,
  "metadata": {
    "colab": {
      "provenance": [],
      "authorship_tag": "ABX9TyMX5VKOfcDpRpswtnWJDgca",
      "include_colab_link": true
    },
    "kernelspec": {
      "name": "python3",
      "display_name": "Python 3"
    },
    "language_info": {
      "name": "python"
    }
  },
  "cells": [
    {
      "cell_type": "markdown",
      "metadata": {
        "id": "view-in-github",
        "colab_type": "text"
      },
      "source": [
        "<a href=\"https://colab.research.google.com/github/heispv/bioinformatics/blob/master/patterns-strings-distance.ipynb\" target=\"_parent\"><img src=\"https://colab.research.google.com/assets/colab-badge.svg\" alt=\"Open In Colab\"/></a>"
      ]
    },
    {
      "cell_type": "markdown",
      "source": [
        "Pseudocode\n",
        "```\n",
        "DistanceBetweenPatternAndStrings(Pattern, Dna)\n",
        "    k ← |Pattern|\n",
        "    distance ← 0\n",
        "    for each string Text in Dna\n",
        "        HammingDistance ← ∞\n",
        "        for each k-mer Pattern’ in Text\n",
        "            if HammingDistance > HammingDistance(Pattern, Pattern’)\n",
        "                HammingDistance ← HammingDistance(Pattern, Pattern’)\n",
        "        distance ← distance + HammingDistance\n",
        "    return distance\n",
        "```"
      ],
      "metadata": {
        "id": "xUWYLEV0o8UY"
      }
    },
    {
      "cell_type": "code",
      "source": [
        "def seq_k_mers(seq: str, k: int) -> list:\n",
        "    \"\"\"\n",
        "    In this function we give seq and the\n",
        "    output is all the k_mers in the given\n",
        "    sequence.\n",
        "    \"\"\"\n",
        "    k_mer_list = []\n",
        "    n = len(seq)\n",
        "\n",
        "    for i in range(n - k + 1):\n",
        "        pattern = seq[i : i+k]\n",
        "        if pattern not in k_mer_list:\n",
        "            k_mer_list.append(pattern)\n",
        "\n",
        "    return k_mer_list"
      ],
      "metadata": {
        "id": "qZ9AqeCziaN2"
      },
      "execution_count": 14,
      "outputs": []
    },
    {
      "cell_type": "code",
      "source": [
        "def hamming_distance(p: str, q: str) -> int:\n",
        "    \"\"\"\n",
        "    This functions calculates the hamming distance\n",
        "    between two sequences.\n",
        "    \"\"\"\n",
        "    distance = 0\n",
        "    for i in range(len(p)):\n",
        "        if p[i] != q[i]:\n",
        "            distance += 1\n",
        "\n",
        "    return distance"
      ],
      "metadata": {
        "id": "Z2wWv5FgkMhF"
      },
      "execution_count": 10,
      "outputs": []
    },
    {
      "cell_type": "code",
      "execution_count": 18,
      "metadata": {
        "id": "TIcqQjoahAF5"
      },
      "outputs": [],
      "source": [
        "def patterns_strings_distance(pattern: str, dna_list: list) -> int:\n",
        "    \"\"\"\n",
        "    This function uses seq_k_mers(seq, k) and\n",
        "    hamming_distance(p, q) functions to calculate\n",
        "    the sum of the hamming distance between a pattern\n",
        "    and the k_mers of a dna sequence.\n",
        "    \"\"\"\n",
        "    k = len(pattern)\n",
        "    distance = 0\n",
        "\n",
        "    for dna in dna_list:\n",
        "        max_hamming_distance = 1000\n",
        "        k_mers = seq_k_mers(dna, k)\n",
        "        for k_mer in k_mers:\n",
        "            h_distance = hamming_distance(k_mer, pattern)\n",
        "            if h_distance < max_hamming_distance:\n",
        "                max_hamming_distance = h_distance\n",
        "        distance += max_hamming_distance\n",
        "\n",
        "    return distance"
      ]
    },
    {
      "cell_type": "code",
      "source": [
        "# open the data\n",
        "text = open('/content/dataset_5164_1 (2).txt')\n",
        "data = text.read()\n",
        "text.close()"
      ],
      "metadata": {
        "id": "MUYZtololaMv"
      },
      "execution_count": 63,
      "outputs": []
    },
    {
      "cell_type": "code",
      "source": [
        "# preprocess the data\n",
        "data = data.split('\\n')\n",
        "del data[-1]\n",
        "pattern, dna_list = data\n",
        "dna_list = dna_list.split()"
      ],
      "metadata": {
        "id": "s1xDyGw8mexn"
      },
      "execution_count": 64,
      "outputs": []
    },
    {
      "cell_type": "code",
      "source": [
        "patterns_strings_distance(pattern, dna_list)"
      ],
      "metadata": {
        "colab": {
          "base_uri": "https://localhost:8080/"
        },
        "id": "13UD5ZwPnw4Y",
        "outputId": "f7784d66-baa9-4503-93f7-df0cec4aa44f"
      },
      "execution_count": 65,
      "outputs": [
        {
          "output_type": "execute_result",
          "data": {
            "text/plain": [
              "47"
            ]
          },
          "metadata": {},
          "execution_count": 65
        }
      ]
    }
  ]
}