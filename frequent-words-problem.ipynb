{
  "nbformat": 4,
  "nbformat_minor": 0,
  "metadata": {
    "colab": {
      "provenance": [],
      "authorship_tag": "ABX9TyN139U0iyMfitN8cBd5j/n3",
      "include_colab_link": true
    },
    "kernelspec": {
      "name": "python3",
      "display_name": "Python 3"
    },
    "language_info": {
      "name": "python"
    }
  },
  "cells": [
    {
      "cell_type": "markdown",
      "metadata": {
        "id": "view-in-github",
        "colab_type": "text"
      },
      "source": [
        "<a href=\"https://colab.research.google.com/github/heispv/bioinformatics/blob/master/frequent-words-problem.ipynb\" target=\"_parent\"><img src=\"https://colab.research.google.com/assets/colab-badge.svg\" alt=\"Open In Colab\"/></a>"
      ]
    },
    {
      "cell_type": "markdown",
      "source": [
        "\n",
        "```\n",
        "FrequencyTable(Text, k)\n",
        "    freqMap ← empty map\n",
        "    n ← |Text|\n",
        "    for i ← 0 to n − k\n",
        "        Pattern ← Text(i, k)\n",
        "        if freqMap[Pattern] doesn't exist\n",
        "            freqMap[Pattern]← 1\n",
        "        else\n",
        "           freqMap[pattern] ←freqMap[pattern]+1\n",
        "    return freqMap\n",
        "```"
      ],
      "metadata": {
        "id": "vqIKaRp3rcRa"
      }
    },
    {
      "cell_type": "markdown",
      "source": [
        "```\n",
        "BetterFrequentWords(Text, k)\n",
        "    FrequentPatterns ← an array of strings of length 0\n",
        "    freqMap ← FrequencyTable(Text, k)\n",
        "    max ← MaxMap(freqMap)\n",
        "    for all strings Pattern in freqMap\n",
        "        if freqMap[pattern] = max\n",
        "            append Pattern to frequentPatterns\n",
        "    return frequentPatterns\n",
        "```"
      ],
      "metadata": {
        "id": "1qxLYxZSb6Fd"
      }
    },
    {
      "cell_type": "code",
      "source": [
        "import numpy as np"
      ],
      "metadata": {
        "id": "fWJRaRXu0UOY"
      },
      "execution_count": 44,
      "outputs": []
    },
    {
      "cell_type": "code",
      "source": [
        "def freqTable(text, k):\n",
        "  freq_table = {}\n",
        "  n = len(text)\n",
        "\n",
        "  for i in range(n - k + 1):\n",
        "    pattern = text[i : i+k]\n",
        "\n",
        "    if pattern not in freq_table.keys():\n",
        "      freq_table[pattern] = 1\n",
        "    else:\n",
        "      freq_table[pattern] += 1\n",
        "\n",
        "  return freq_table"
      ],
      "metadata": {
        "id": "apYRDE0zrdvP"
      },
      "execution_count": 45,
      "outputs": []
    },
    {
      "cell_type": "code",
      "source": [
        "def bestPatterns(text, k):\n",
        "  best_patterns = []\n",
        "  freq_table = freqTable(text, k)\n",
        "  max = np.max(list(freq_table.values()))\n",
        "\n",
        "  for key, value in freq_table.items():\n",
        "    if value == max:\n",
        "      best_patterns.append(key)\n",
        "\n",
        "  return best_patterns"
      ],
      "metadata": {
        "id": "8Du3x1blb-ur"
      },
      "execution_count": 46,
      "outputs": []
    },
    {
      "cell_type": "code",
      "source": [
        "text = 'ATATTAGCTATTGGCTGATTGGCTGACGACGCAGCATATTAGCTATATTAGCTATATTAGCTACTACGGTACGACGCAGCATATTAGCTATATTAGCTATATTAGCTACGACGCAGCTGCAGTAGACGACGCAGCACGACGCAGCATATTAGCTATTGGCTGTGCAGTAGATTGGCTGACTACGGTATTGGCTGACGACGCAGCATATTAGCTACTACGGTACGACGCAGCACGACGCAGCTGCAGTAGACTACGGTATTGGCTGATATTAGCTATTGGCTGTGCAGTAGACGACGCAGCTGCAGTAGATTGGCTGACTACGGTTGCAGTAGTGCAGTAGTGCAGTAGACTACGGTATTGGCTGACTACGGTACTACGGTACTACGGTTGCAGTAGATATTAGCTATTGGCTGATATTAGCTTGCAGTAGACTACGGTATATTAGCTACTACGGTATTGGCTGATTGGCTGACGACGCAGCATATTAGCTTGCAGTAGATATTAGCTTGCAGTAGTGCAGTAGATATTAGCTACTACGGTACTACGGTACTACGGTATTGGCTGACGACGCAGCACTACGGTATTGGCTGACGACGCAGCATTGGCTGATTGGCTGACGACGCAGCACGACGCAGCACGACGCAGCACGACGCAGCATATTAGCTATATTAGCTACGACGCAGCATTGGCTGACGACGCAGCATATTAGCTTGCAGTAGACGACGCAGCATATTAGCTACGACGCAGCATTGGCTGTGCAGTAGACGACGCAGCATATTAGCTTGCAGTAGTGCAGTAGATATTAGCTTGCAGTAGACGACGCAGCATTGGCTGACGACGCAGCTGCAGTAGACGACGCAGCACGACGCAGCACGACGCAGCATTGGCTGATTGGCTGTGCAGTAGACTACGGTATATTAGCTACTACGGTATTGGCTGATATTAGCTTGCAGTAG'\n",
        "k = 12"
      ],
      "metadata": {
        "id": "tv3hmCIUz1P2"
      },
      "execution_count": 50,
      "outputs": []
    },
    {
      "cell_type": "code",
      "source": [
        "bestPatterns(text, k)"
      ],
      "metadata": {
        "colab": {
          "base_uri": "https://localhost:8080/"
        },
        "id": "fPo-rWj00Kcp",
        "outputId": "bf8a61d8-d368-4e6d-8117-6c80cc6d19ab"
      },
      "execution_count": 51,
      "outputs": [
        {
          "output_type": "execute_result",
          "data": {
            "text/plain": [
              "['ACGACGCAGCAT']"
            ]
          },
          "metadata": {},
          "execution_count": 51
        }
      ]
    },
    {
      "cell_type": "code",
      "source": [],
      "metadata": {
        "id": "wyPAGnGc0iMh"
      },
      "execution_count": null,
      "outputs": []
    }
  ]
}