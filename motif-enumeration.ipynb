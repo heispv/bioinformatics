{
<a href="https://colab.research.google.com/github/heispv/bioinformatics/blob/master/motif-enumeration.ipynb" target="_parent">
    <img src="https://colab.research.google.com/assets/colab-badge.svg" alt="Open In Colab"/>
</a>
 "cells": [
  {
   "cell_type": "code",
   "execution_count": 28,
   "metadata": {},
   "outputs": [],
   "source": [
    "from functions import neighborhood"
   ]
  },
  {
   "cell_type": "code",
   "execution_count": 33,
   "metadata": {},
   "outputs": [],
   "source": [
    "def motif_enumeration(dna_list, k, d):\n",
    "    dna_list = dna_list.split()\n",
    "    patterns = [set() for _ in range(len(dna_list))]\n",
    "    \n",
    "    for i_dna, dna in enumerate(dna_list):\n",
    "            for i in range(len(dna) - k + 1):\n",
    "                seq = dna[i : i + k]\n",
    "                neighbors = neighborhood(seq, d)\n",
    "                patterns[i_dna].update(neighbors)\n",
    "\n",
    "    ans = patterns[0]\n",
    "\n",
    "    for j in range(1, len(dna_list)):\n",
    "        ans.intersection_update(patterns[j])\n",
    "\n",
    "    return ans"
   ]
  },
  {
   "cell_type": "code",
   "execution_count": 36,
   "metadata": {},
   "outputs": [
    {
     "name": "stdout",
     "output_type": "stream",
     "text": [
      "TGCGC TGGGC GTGCG TGTGC TGAGC GCACT ATGCG\n"
     ]
    }
   ],
   "source": [
    "dna_list = 'ACGATACTGGACACTTCGAATGCGC AACGATGTGCACAAAGCTAGTCATG GCACCTTGGCTGCGCATTATGTATT TCACTTGTCTGGGCCTGTGCGAGAG AAATTTGCGCTTTGGAGGGGAGTAT TGAGACACGTTAAACTGCGCTTGCG'\n",
    "print(*motif_enumeration(dna_list, 5, 1))"
   ]
  }
 ],
 "metadata": {
  "kernelspec": {
   "display_name": "Python 3",
   "language": "python",
   "name": "python3"
  },
  "language_info": {
   "codemirror_mode": {
    "name": "ipython",
    "version": 3
   },
   "file_extension": ".py",
   "mimetype": "text/x-python",
   "name": "python",
   "nbconvert_exporter": "python",
   "pygments_lexer": "ipython3",
   "version": "3.11.4"
  },
  "orig_nbformat": 4
 },
 "nbformat": 4,
 "nbformat_minor": 2
}
