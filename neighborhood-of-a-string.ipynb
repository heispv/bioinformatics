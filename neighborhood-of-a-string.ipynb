{
  "nbformat": 4,
  "nbformat_minor": 0,
  "metadata": {
    "colab": {
      "provenance": [],
      "authorship_tag": "ABX9TyP85Q3yXQthepkutsmJd3xK",
      "include_colab_link": true
    },
    "kernelspec": {
      "name": "python3",
      "display_name": "Python 3"
    },
    "language_info": {
      "name": "python"
    }
  },
  "cells": [
    {
      "cell_type": "markdown",
      "metadata": {
        "id": "view-in-github",
        "colab_type": "text"
      },
      "source": [
        "<a href=\"https://colab.research.google.com/github/heispv/bioinformatics/blob/master/neighborhood-of-a-string.ipynb\" target=\"_parent\"><img src=\"https://colab.research.google.com/assets/colab-badge.svg\" alt=\"Open In Colab\"/></a>"
      ]
    },
    {
      "cell_type": "code",
      "source": [
        "pattern = 'AAA'\n",
        "\n",
        "pattern[:1] + 'B' + pattern[2:]"
      ],
      "metadata": {
        "colab": {
          "base_uri": "https://localhost:8080/",
          "height": 36
        },
        "id": "PooGYFPC_IxL",
        "outputId": "32ae9334-8cb7-4fe4-97da-dd0b432c3b60"
      },
      "execution_count": 1,
      "outputs": [
        {
          "output_type": "execute_result",
          "data": {
            "text/plain": [
              "'ABA'"
            ],
            "application/vnd.google.colaboratory.intrinsic+json": {
              "type": "string"
            }
          },
          "metadata": {},
          "execution_count": 1
        }
      ]
    },
    {
      "cell_type": "code",
      "source": [
        "def hamming_distance(p, q):\n",
        "\n",
        "    distance = 0\n",
        "    for i in range(len(p)):\n",
        "        if p[i] != q[i]:\n",
        "            distance += 1\n",
        "\n",
        "    return distance"
      ],
      "metadata": {
        "id": "KFPh7OCpqabs"
      },
      "execution_count": 1,
      "outputs": []
    },
    {
      "cell_type": "code",
      "execution_count": 2,
      "metadata": {
        "id": "4p02dtfS-HNZ"
      },
      "outputs": [],
      "source": [
        "def immidiate_neighbors(pattern):\n",
        "    neighbors = set()\n",
        "\n",
        "    for i in range(len(pattern)):\n",
        "        for j in 'ATCG':\n",
        "            if pattern[i] != j:\n",
        "                to_add = pattern[:i] + j + pattern[i+1:]\n",
        "                neighbors.add(to_add)\n",
        "\n",
        "    return neighbors"
      ]
    },
    {
      "cell_type": "code",
      "source": [
        "def neighborhood(pattern, d):\n",
        "    if d == 0:\n",
        "        return pattern\n",
        "    if len(pattern) == 1:\n",
        "        return {'A', 'T', 'C', 'G'}\n",
        "\n",
        "    neighbors = set()\n",
        "\n",
        "    suffix_pattern = pattern[1:]\n",
        "    suffix_neighbors = neighborhood(suffix_pattern, d)\n",
        "\n",
        "    for suffix_neighbor in suffix_neighbors:\n",
        "        if hamming_distance(suffix_pattern, suffix_neighbor) < d:\n",
        "            for x in 'ATCG':\n",
        "                neighbors.add(x + suffix_neighbor)\n",
        "        else:\n",
        "            neighbors.add(pattern[0] + suffix_neighbor)\n",
        "\n",
        "    return neighbors\n"
      ],
      "metadata": {
        "id": "P-cJu-He_e37"
      },
      "execution_count": 5,
      "outputs": []
    },
    {
      "cell_type": "code",
      "source": [
        "print(*neighborhood('TTGAAGTGA', 2))"
      ],
      "metadata": {
        "colab": {
          "base_uri": "https://localhost:8080/"
        },
        "id": "Wcp0e2hotPAO",
        "outputId": "fa83379e-5be5-4da4-bb7d-2b2e8984cc6e"
      },
      "execution_count": 11,
      "outputs": [
        {
          "output_type": "stream",
          "name": "stdout",
          "text": [
            "TTGAAATAA TTAAAGTCA TTCTAGTGA TTGGAGAGA TAAAAGTGA TTGAAATTA TTAAGGTGA TTGATGTGT TTGAGGGGA TTAAATTGA TTGAAGTCT TTGTAGTGA GAGAAGTGA TGGAAGTGC TTGAATTTA TTGCTGTGA TTGATGCGA TTTATGTGA TTGACGAGA CTGAAGTGC TTGAATTGA GTGAAGTGA TTGACGTGA GTCAAGTGA GTGAAGTGC TTGAAATGG TTGATCTGA TTGATGTAA GTTAAGTGA TTGAAGTCC TGGTAGTGA TTACAGTGA GTGAAGTGG TTAATGTGA GTGAAGTAA TCGAAGTGT GTGACGTGA TTGTAGAGA TTGAAGTGG TTGAAGAGT TTTACGTGA CGGAAGTGA CTGAAATGA ATGAATTGA CTGATGTGA CTGCAGTGA TTGAACTGC TTGACGGGA TTCAAGCGA TTGATGTGC TTGATGTCA GGGAAGTGA TTTAATTGA TAGAAATGA TTGAAAAGA TTCAAATGA GTGAAGTCA TTTGAGTGA TTGTAGGGA TGCAAGTGA TTGACGTGC TTGAAGTTC CTGAACTGA TTGAGGTTA TTGATATGA TCGAACTGA TTGAGATGA TTGAAGTGT TTGCGGTGA CTAAAGTGA TGGATGTGA TCGGAGTGA TTGAACGGA TTGGAGCGA ATCAAGTGA ATGAACTGA TTGCCGTGA TTCAAGGGA GTAAAGTGA TTCAACTGA TTAAAGAGA TTGAAGTGC TAGAAGAGA TGGAAGTCA TTGTAGTGG TTTAAGTGC TTTAAATGA TGGGAGTGA TAGAACTGA CTGAAGTCA TTGTAGTGC TCGAGGTGA TTGCAGTGA TACAAGTGA TTGAAGTTT TTGCAGGGA TTGACCTGA TTGAGGTGC TTTAAGAGA TTGAAGGGA TCAAAGTGA TCGAAGTGA TTGACGTGT TTTAAGTGA CAGAAGTGA GTGAAGAGA TTGAATAGA TTGATTTGA TTTAAGTCA TTGAAATCA TTCAAGTCA TTTAAGTGT TTATAGTGA TTTCAGTGA ATGAAGTAA TTAAAGTTA TTGCAGTTA TTGAGGTCA CTGAAGTGT CTGGAGTGA TTGAATTCA TTGAATGGA TTCAGGTGA TCGAAGTCA TCGAAGTTA TCGAATTGA TGGAAGCGA TTGAAGAGG CCGAAGTGA TTGAAGGGG TTAAAGTGA GTGAAGTGT TTGAAGGCA TTGAAGCGC TTGAGGTGA TTCAATTGA TTGAAGAGA TTGTACTGA TAGAAGCGA TTCATGTGA TTAAAGGGA TAGTAGTGA TTGAAGAAA GTGAAGTTA TAGAAGTTA TTGTGGTGA TGGAAGTTA TTGCAGAGA TTGAAGTAC TTGAAGCCA TTGAAAGGA TTGAGGTGG TTTAAGTAA ATGACGTGA TTGACGTGG GTGAAATGA TGGAAGTGT TTGAAATGT TTGAAGTCG TAGAAGTAA TTCAAGTGG TGGACGTGA TTGAAACGA TTCAAGTGC TGGAAGTAA TTGGAGTGA TCGAAGTGG TAGATGTGA TTTTAGTGA TTGATGTGA TTGAAGCGG TTGAAGGGT TAGAAGTGA CTGACGTGA TTGGAGTTA CTGAGGTGA CTGAATTGA ATGAAGTGA TTGACGTTA TTTAAGGGA ATGAAGTGC ATGTAGTGA TCCAAGTGA TATAAGTGA TAGAGGTGA TTGCAGCGA CTGAAGTGA TTTAGGTGA ATGAAGTTA TTGAAGTAG TTGAAGTAT GTGCAGTGA TTGATGGGA TTCAAGTAA TTGAACTAA TTGTCGTGA TTGCATTGA TTGAACTTA TGGAACTGA TTGCACTGA TTGACGTAA TTGAAGTGA ATGAAGAGA GTGAAGCGA TTGACATGA TTAACGTGA TTGTAGTCA TTGAAGTAA TTGATGAGA TTGGAGTGC TGGAAGTGA ATGAAGTGG TAGAAGTCA CTGAAGTAA TTGTATTGA TAGACGTGA TTGTAGCGA TTGAGGTAA GTGATGTGA TTAAAGTGT GTGAACTGA TTCAAGTGA TTGCAGTGT TCGATGTGA TTGAAGCGA TGTAAGTGA TGGAAGTGG TTCAAGTGT TCGTAGTGA TTGGAATGA TTTAAGTGG TTGAAGATA TGGCAGTGA TAGGAGTGA TGGAAATGA TTGAAGACA TTGAAGGTA TAGCAGTGA TTGTAGTTA TGGAGGTGA TTGAACTGT TTGATGTTA TTGAATTGG TCGACGTGA ATGAAGTCA TTGATGTGG TTGAACTCA CTGTAGTGA TCGAAGTGC TTGTAGTGT TCGAAGAGA TTGAGGTGT CTGAAGGGA TTGAGGAGA TTGGAGGGA TTGAGGCGA TTGAAGCAA TTGGCGTGA TTGAATTGT TTAGAGTGA TTAAAGTGG TTGGAGTAA GCGAAGTGA AGGAAGTGA TCGAAGGGA TTGAACCGA ATGAAATGA GTGGAGTGA TTGAAGTCA ATAAAGTGA TTGCAATGA CTGAAGCGA CTGAAGTTA CTGAAGTGG ATGCAGTGA TGGAAGGGA TGGAATTGA TTGCAGTGG TGGAAGAGA CTTAAGTGA ATTAAGTGA TTAAACTGA TTAAAGTGC TTGAGTTGA TTCGAGTGA CTGAAGAGA TTGAATTAA GTGAATTGA ATGAAGTGT TTGAACTGG GTGAAGGGA TAGAAGGGA TTTAAGTTA TTGAATTGC TTGAACAGA ATGGAGTGA TTGAAGTTA TTGAAATGA TAGAAGTGG ATGAAGGGA TAGAAGTGC TTGACGCGA TTGGAGTCA TTAAAATGA TTGAAATGC TTCAAGTTA TTGTTGTGA ATGAGGTGA TCGCAGTGA TTGTAGTAA TTGCAGTGC CTCAAGTGA TTGGGGTGA TAGAATTGA TTGGAGTGG GTGTAGTGA TTGAAGGAA TTGGATTGA TTTAAGCGA TTGGTGTGA TTCAAGAGA TCTAAGTGA ATGAAGCGA TTGAAGAGC TTGAAGCTA AAGAAGTGA TGAAAGTGA TTTAACTGA TTGGACTGA TCGAAGCGA TTGAGCTGA TTAAAGTAA TTCACGTGA TTGCAGTCA TTGCAGTAA TTGACGTCA TTGAAGTTG TTGTAATGA ACGAAGTGA TTGAAGCGT TTGGAGTGT GTGAGGTGA TTGAACTGA TAGAAGTGT TCGAAATGA TTCCAGTGA TTGAATCGA TTGACTTGA TTAAAGCGA TTGAAGGGC TCGAAGTAA ATGATGTGA\n"
          ]
        }
      ]
    },
    {
      "cell_type": "code",
      "source": [],
      "metadata": {
        "id": "-0N1-LuFtTQV"
      },
      "execution_count": null,
      "outputs": []
    }
  ]
}