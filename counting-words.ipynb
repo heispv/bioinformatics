{
  "cells": [
    {
      "cell_type": "markdown",
      "metadata": {
        "colab_type": "text",
        "id": "view-in-github"
      },
      "source": [
        "<a href=\"https://colab.research.google.com/github/heispv/bioinformatics/blob/master/counting_words.ipynb\" target=\"_parent\"><img src=\"https://colab.research.google.com/assets/colab-badge.svg\" alt=\"Open In Colab\"/></a>"
      ]
    },
    {
      "cell_type": "markdown",
      "metadata": {
        "id": "j2hJA5uRavdR"
      },
      "source": [
        "Pseudocode\n",
        "```\n",
        "PatternCount(Text, Pattern)\n",
        "  count ← 0\n",
        "  for i ← 0 to |Text| − |Pattern|\n",
        "    if Text(i, |Pattern|) = Pattern\n",
        "      count ← count + 1\n",
        "  return count\n",
        "```"
      ]
    },
    {
      "cell_type": "code",
      "execution_count": 1,
      "metadata": {
        "id": "IPD9ZgjEQeT-"
      },
      "outputs": [],
      "source": [
        "text = 'ATGAGATAATGAGATATGAGATATGAGATAATGAGATATTGAGATATGTTATTTGAAATGAGATACGGTGAGATAGTGAGATATGAGATATGAGATAGTGAGATATAAGAGACTGAGATACACTGAGATACCTGAGATATAGATCTTGAGATAATGAGATATGAGATAATATAGGCACTGAGATACGCGTAGTGCTATGTGAGATAATGAGATACTGAGATAATTTGAGATATGAGATATGAGATACCTGAGATACGATCTGAGATATCTGAGATAAATGAGATACTGAGATAGGTGAGATAGCTCGCTCTGAGATAGATGAGATAATGAGATAGAGGTGAGATAACGTTAGTGAGATAGTGATGAGATAATGATTGAGATATGAGATATGCTTATAATTGAGATACTGTGAGATAGTGAGATACAGTTATTTACTGAGATATGAGATACGAGGTGAGATATGAGATATGAGATATAAGATTGAGATAGCCTGAGATATGAGATAAGAGATTGAGATATGTGAGATATGAGATATCCCTGAGATAGAGTGAGATAGATTTGAGATAAGATGAGATACCCATGAGATAGACATTGAGATATGAGATATTTGAGATACTGAGATAATCTCTGAGATATGAGATACTGTTCCTTGAGATATAGTGAGATAGATGAGATATGTGAGATATGAGATACCACTTGAGATAATCTGAGATAACTTCCTGAGATACAGTTTGAGATAGCATGAGATATGAGATAGGGAGACACTGAGATATGAGATATGTTGAGATACTACTGAGATACTGAGATAATGAGATACCTTATTGAGATAGGCTACTGAGATATCTGAGATAGTCGTGAGATACCTGAGATACTATGAGATACGGAATGAGATATGTGAGATATTGAGATATTGAGATAATATTTGAGATACTGAGATACAGTGAGATA'"
      ]
    },
    {
      "cell_type": "code",
      "execution_count": 2,
      "metadata": {
        "id": "zl5s_3cjQhxI"
      },
      "outputs": [],
      "source": [
        "pattern = 'TGAGATATG'"
      ]
    },
    {
      "cell_type": "code",
      "execution_count": 3,
      "metadata": {
        "colab": {
          "base_uri": "https://localhost:8080/"
        },
        "id": "Egm6qZLyQj2Q",
        "outputId": "b403b7ea-1641-43ab-8cf6-ad26800949f7"
      },
      "outputs": [
        {
          "name": "stdout",
          "output_type": "stream",
          "text": [
            "24\n"
          ]
        }
      ],
      "source": [
        "count = 0\n",
        "\n",
        "for i in range(0, len(text) - len(pattern) + 1):\n",
        "  if text[i: i+len(pattern)] == pattern:\n",
        "    count += 1\n",
        "\n",
        "print(count)"
      ]
    }
  ],
  "metadata": {
    "colab": {
      "authorship_tag": "ABX9TyMltIKqO1/Zyyvb5l1zidOv",
      "include_colab_link": true,
      "provenance": []
    },
    "kernelspec": {
      "display_name": "Python 3",
      "name": "python3"
    },
    "language_info": {
      "codemirror_mode": {
        "name": "ipython",
        "version": 3
      },
      "file_extension": ".py",
      "mimetype": "text/x-python",
      "name": "python",
      "nbconvert_exporter": "python",
      "pygments_lexer": "ipython3",
      "version": "3.11.4"
    }
  },
  "nbformat": 4,
  "nbformat_minor": 0
}
