{
  "nbformat": 4,
  "nbformat_minor": 0,
  "metadata": {
    "colab": {
      "provenance": [],
      "authorship_tag": "ABX9TyOey12YzA2fRseD1nezQqFu",
      "include_colab_link": true
    },
    "kernelspec": {
      "name": "python3",
      "display_name": "Python 3"
    },
    "language_info": {
      "name": "python"
    }
  },
  "cells": [
    {
      "cell_type": "markdown",
      "metadata": {
        "id": "view-in-github",
        "colab_type": "text"
      },
      "source": [
        "<a href=\"https://colab.research.google.com/github/heispv/bioinformatics/blob/master/median-string.ipynb\" target=\"_parent\"><img src=\"https://colab.research.google.com/assets/colab-badge.svg\" alt=\"Open In Colab\"/></a>"
      ]
    },
    {
      "cell_type": "markdown",
      "source": [
        "```\n",
        "MedianString(Dna, k)\n",
        "    distance ← ∞\n",
        "    Patterns ← AllStrings(k)\n",
        "    for i ← 0 to |Patterns|\n",
        "        Pattern ← Patterns[i]\n",
        "        if distance > DistanceBetweenPatternAndStrings(Pattern, Dna)\n",
        "            distance ← DistanceBetweenPatternAndStrings(Pattern, Dna)\n",
        "            Median ← Pattern\n",
        "    return Median\n",
        "```"
      ],
      "metadata": {
        "id": "uY0eFhVoTe-J"
      }
    },
    {
      "cell_type": "code",
      "source": [
        "def seq_k_mers(seq: str, k: int) -> list:\n",
        "    \"\"\"\n",
        "    Generate all k-mers from the given sequence.\n",
        "\n",
        "    Args:\n",
        "        seq (str): The input DNA sequence.\n",
        "        k (int): The length of k-mers to generate.\n",
        "\n",
        "    Returns:\n",
        "        list: A list of k-mers from the sequence.\n",
        "    \"\"\"\n",
        "    k_mer_list = []\n",
        "    n = len(seq)\n",
        "\n",
        "    for i in range(n - k + 1):\n",
        "        k_mer = seq[i : i+k]\n",
        "        k_mer_list.append(k_mer)\n",
        "\n",
        "    return k_mer_list\n"
      ],
      "metadata": {
        "id": "qZ9AqeCziaN2"
      },
      "execution_count": 6,
      "outputs": []
    },
    {
      "cell_type": "code",
      "source": [
        "def neighborhood(pattern: str, d: int) -> list:\n",
        "    \"\"\"\n",
        "    Generate all DNA patterns within Hamming distance 'd' from the given pattern.\n",
        "\n",
        "    Args:\n",
        "        pattern (str): The input DNA pattern.\n",
        "        d (int): The maximum Hamming distance allowed.\n",
        "\n",
        "    Returns:\n",
        "        list: A list of DNA patterns within the specified Hamming distance.\n",
        "    \"\"\"\n",
        "    if d == 0:\n",
        "        return {pattern}\n",
        "    if len(pattern) == 1:\n",
        "        return {'A', 'T', 'C', 'G'}\n",
        "\n",
        "    neighbors = set()\n",
        "\n",
        "    suffix = pattern[1:]\n",
        "    suffix_neighbors = neighborhood(suffix, d)\n",
        "\n",
        "    for suffix_neighbor in suffix_neighbors:\n",
        "        if hamming_distance(suffix, suffix_neighbor) < d:\n",
        "            for nucleotide in 'ATCG':\n",
        "                neighbors.add(nucleotide + suffix_neighbor)\n",
        "        else:\n",
        "            neighbors.add(pattern[0] + suffix_neighbor)\n",
        "\n",
        "    return list(neighbors)\n"
      ],
      "metadata": {
        "id": "rr-ZpRkJbNUr"
      },
      "execution_count": 43,
      "outputs": []
    },
    {
      "cell_type": "code",
      "source": [
        "def hamming_distance(p: str, q: str) -> int:\n",
        "    \"\"\"\n",
        "    Calculate the Hamming distance between two sequences.\n",
        "\n",
        "    Args:\n",
        "        p (str): The first sequence.\n",
        "        q (str): The second sequence.\n",
        "\n",
        "    Returns:\n",
        "        int: The Hamming distance between the sequences.\n",
        "    \"\"\"\n",
        "    distance = 0\n",
        "    for i in range(len(p)):\n",
        "        if p[i] != q[i]:\n",
        "            distance += 1\n",
        "\n",
        "    return distance\n"
      ],
      "metadata": {
        "id": "Z2wWv5FgkMhF"
      },
      "execution_count": 8,
      "outputs": []
    },
    {
      "cell_type": "code",
      "execution_count": 9,
      "metadata": {
        "id": "TIcqQjoahAF5"
      },
      "outputs": [],
      "source": [
        "def patterns_strings_distance(pattern: str, dna_list: list) -> int:\n",
        "    \"\"\"\n",
        "    Calculate the sum of minimum Hamming distances\n",
        "    between a pattern and the k-mers of DNA sequences.\n",
        "\n",
        "    Args:\n",
        "        pattern (str): The pattern to compare against.\n",
        "        dna_list (list): A list of DNA sequences.\n",
        "\n",
        "    Returns:\n",
        "        int: The sum of minimum Hamming distances.\n",
        "    \"\"\"\n",
        "    k = len(pattern)\n",
        "    total_distance = 0\n",
        "\n",
        "    for dna in dna_list:\n",
        "        min_hamming_distance = float('inf')\n",
        "        k_mers = seq_k_mers(dna, k)\n",
        "\n",
        "        for k_mer in k_mers:\n",
        "            current_hamming_distance = hamming_distance(k_mer, pattern)\n",
        "\n",
        "            if current_hamming_distance < min_hamming_distance:\n",
        "                min_hamming_distance = current_hamming_distance\n",
        "\n",
        "        total_distance += min_hamming_distance\n",
        "\n",
        "    return total_distance\n"
      ]
    },
    {
      "cell_type": "code",
      "source": [
        "def median_string(dna_list: list, k: int) -> str:\n",
        "    \"\"\"\n",
        "    Find the median string of length k that minimizes the sum of distances\n",
        "    between the pattern and k-mers in DNA sequences.\n",
        "\n",
        "    Args:\n",
        "        dna_list (list): A list of DNA sequences.\n",
        "        k (int): The length of the median string to find.\n",
        "\n",
        "    Returns:\n",
        "        str: The median string that minimizes the sum of distances.\n",
        "    \"\"\"\n",
        "    best_distance = float('inf')\n",
        "    median = None\n",
        "\n",
        "    patterns = neighborhood(k * 'A', k)\n",
        "\n",
        "    for pattern in patterns:\n",
        "        pattern_distance = patterns_strings_distance(pattern, dna_list)\n",
        "\n",
        "        if pattern_distance < best_distance:\n",
        "            best_distance = pattern_distance\n",
        "            median = pattern\n",
        "\n",
        "    return median"
      ],
      "metadata": {
        "id": "Wx8jW9--TmFE"
      },
      "execution_count": 37,
      "outputs": []
    },
    {
      "cell_type": "code",
      "source": [
        "# open the data\n",
        "text = open('/content/median_string.txt')\n",
        "data = text.read()\n",
        "text.close()"
      ],
      "metadata": {
        "id": "MUYZtololaMv"
      },
      "execution_count": 61,
      "outputs": []
    },
    {
      "cell_type": "code",
      "source": [
        "# preprocess the data\n",
        "data = data.split('\\n')\n",
        "del data[-1]\n",
        "k, *dna_list = data\n",
        "k = int(k)"
      ],
      "metadata": {
        "id": "s1xDyGw8mexn"
      },
      "execution_count": 62,
      "outputs": []
    },
    {
      "cell_type": "code",
      "source": [
        "median_string(dna_list, k)"
      ],
      "metadata": {
        "colab": {
          "base_uri": "https://localhost:8080/",
          "height": 35
        },
        "id": "-MXfyA0tZTFX",
        "outputId": "cdb6d3b0-8a27-4b87-9d81-5428d36df9ed"
      },
      "execution_count": 64,
      "outputs": [
        {
          "output_type": "execute_result",
          "data": {
            "text/plain": [
              "'GGGAGG'"
            ],
            "application/vnd.google.colaboratory.intrinsic+json": {
              "type": "string"
            }
          },
          "metadata": {},
          "execution_count": 64
        }
      ]
    }
  ]
}