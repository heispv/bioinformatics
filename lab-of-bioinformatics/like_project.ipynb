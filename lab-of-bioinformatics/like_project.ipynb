{
  "nbformat": 4,
  "nbformat_minor": 0,
  "metadata": {
    "colab": {
      "provenance": [],
      "authorship_tag": "ABX9TyMdiDxITC9eSRUpPevWGbLR",
      "include_colab_link": true
    },
    "kernelspec": {
      "name": "python3",
      "display_name": "Python 3"
    },
    "language_info": {
      "name": "python"
    }
  },
  "cells": [
    {
      "cell_type": "markdown",
      "metadata": {
        "id": "view-in-github",
        "colab_type": "text"
      },
      "source": [
        "<a href=\"https://colab.research.google.com/github/heispv/bioinformatics/blob/master/lab-of-bioinformatics/like_project.ipynb\" target=\"_parent\"><img src=\"https://colab.research.google.com/assets/colab-badge.svg\" alt=\"Open In Colab\"/></a>"
      ]
    },
    {
      "cell_type": "markdown",
      "source": [
        "The steps that we should take to solve the problem.\n",
        "\n",
        "1. First we ant to select all the proteins in swiss proit with the BPTI/Kunitz domain.\n",
        "    * kun + human / kun + non-human / review + human\n",
        "2. Separate human from non human proteins. Use the non human proteins\n",
        "as a positive in the testing set.\n",
        "3. Generate a random set of negative of the same size of the positive set.\n",
        "4. Remove both positives and negatives from SwissProt and perform the\n",
        "prediction based on the results of the blast search"
      ],
      "metadata": {
        "id": "PVj5UAppOuMZ"
      }
    },
    {
      "cell_type": "markdown",
      "source": [
        "PF00014 -> kunitz in pfam"
      ],
      "metadata": {
        "id": "udSQzhM_PsRH"
      }
    },
    {
      "cell_type": "markdown",
      "source": [
        "in the advanced search of the uniprot go to cross-reference -> family and domain databases -> pfam"
      ],
      "metadata": {
        "id": "7PW9wOOEQcaA"
      }
    },
    {
      "cell_type": "code",
      "source": [
        "!wget -O human_bpti.fasta.gz 'https://rest.uniprot.org/uniprotkb/stream?compressed=true&format=fasta&query=%28%28xref%3Apfam-PF00014%29%29+AND+%28reviewed%3Atrue%29+AND+%28model_organism%3A9606%29'\n"
      ],
      "metadata": {
        "colab": {
          "base_uri": "https://localhost:8080/"
        },
        "id": "wXlHlhHZRBG2",
        "outputId": "ab305b26-ae95-4ca1-c1f9-e987e239fb44"
      },
      "execution_count": 1,
      "outputs": [
        {
          "output_type": "stream",
          "name": "stdout",
          "text": [
            "--2024-04-05 08:24:46--  https://rest.uniprot.org/uniprotkb/stream?compressed=true&format=fasta&query=%28%28xref%3Apfam-PF00014%29%29+AND+%28reviewed%3Atrue%29+AND+%28model_organism%3A9606%29\n",
            "Resolving rest.uniprot.org (rest.uniprot.org)... 193.62.193.81\n",
            "Connecting to rest.uniprot.org (rest.uniprot.org)|193.62.193.81|:443... connected.\n",
            "HTTP request sent, awaiting response... 200 \n",
            "Length: unspecified [text/plain]\n",
            "Saving to: ‘human_bpti.fasta.gz’\n",
            "\n",
            "human_bpti.fasta.gz     [ <=>                ]   8.38K  --.-KB/s    in 0s      \n",
            "\n",
            "2024-04-05 08:24:47 (80.7 MB/s) - ‘human_bpti.fasta.gz’ saved [8581]\n",
            "\n"
          ]
        }
      ]
    },
    {
      "cell_type": "code",
      "source": [
        "!zcat -f /content/human_bpti.fasta.gz > human_bpti.fasta"
      ],
      "metadata": {
        "id": "bW6N-4_VRvfn"
      },
      "execution_count": 2,
      "outputs": []
    },
    {
      "cell_type": "code",
      "source": [
        "!grep \">\" /content/human_bpti.fasta | wc"
      ],
      "metadata": {
        "colab": {
          "base_uri": "https://localhost:8080/"
        },
        "id": "UrA7Tq0FSN7L",
        "outputId": "0c4c65f9-5dfb-49dc-e31e-e631d1588f61"
      },
      "execution_count": 3,
      "outputs": [
        {
          "output_type": "stream",
          "name": "stdout",
          "text": [
            "     18     203    1793\n"
          ]
        }
      ]
    },
    {
      "cell_type": "code",
      "source": [
        "!wget -O non_human_bpti.fasta.gz \"https://rest.uniprot.org/uniprotkb/stream?compressed=true&format=fasta&query=%28%28xref%3Apfam-PF00014%29+NOT+%28organism_id%3A9606%29%29+AND+%28reviewed%3Atrue%29\"\n"
      ],
      "metadata": {
        "colab": {
          "base_uri": "https://localhost:8080/"
        },
        "id": "vkydh7bWS4FH",
        "outputId": "9c846340-8a06-4e4b-9876-85c4dc090314"
      },
      "execution_count": 4,
      "outputs": [
        {
          "output_type": "stream",
          "name": "stdout",
          "text": [
            "--2024-04-05 08:24:47--  https://rest.uniprot.org/uniprotkb/stream?compressed=true&format=fasta&query=%28%28xref%3Apfam-PF00014%29+NOT+%28organism_id%3A9606%29%29+AND+%28reviewed%3Atrue%29\n",
            "Resolving rest.uniprot.org (rest.uniprot.org)... 193.62.193.81\n",
            "Connecting to rest.uniprot.org (rest.uniprot.org)|193.62.193.81|:443... connected.\n",
            "HTTP request sent, awaiting response... 200 \n",
            "Length: unspecified [text/plain]\n",
            "Saving to: ‘non_human_bpti.fasta.gz’\n",
            "\n",
            "non_human_bpti.fast     [ <=>                ]  34.71K   179KB/s    in 0.2s    \n",
            "\n",
            "2024-04-05 08:24:48 (179 KB/s) - ‘non_human_bpti.fasta.gz’ saved [35542]\n",
            "\n"
          ]
        }
      ]
    },
    {
      "cell_type": "code",
      "source": [
        "!zcat -f /content/non_human_bpti.fasta.gz > non_human_bpti.fasta"
      ],
      "metadata": {
        "id": "8N1PWoTHS6Im"
      },
      "execution_count": 5,
      "outputs": []
    },
    {
      "cell_type": "code",
      "source": [
        "!grep \">\" /content/non_human_bpti.fasta | wc"
      ],
      "metadata": {
        "colab": {
          "base_uri": "https://localhost:8080/"
        },
        "id": "i_4K6h5QTHQ3",
        "outputId": "70ee1d0a-2fee-41f1-e964-dc16c88ed037"
      },
      "execution_count": 6,
      "outputs": [
        {
          "output_type": "stream",
          "name": "stdout",
          "text": [
            "    373    3715   38651\n"
          ]
        }
      ]
    },
    {
      "cell_type": "code",
      "source": [
        "!wget -O reviewd_human.fasta.gz \"https://rest.uniprot.org/uniprotkb/stream?compressed=true&format=fasta&query=%28%28reviewed%3Atrue%29+AND+%28organism_id%3A9606%29%29\"\n"
      ],
      "metadata": {
        "colab": {
          "base_uri": "https://localhost:8080/"
        },
        "id": "cq3ruhWDTlR5",
        "outputId": "086cae9a-3ba9-446a-ddad-61d76d8c9405"
      },
      "execution_count": 7,
      "outputs": [
        {
          "output_type": "stream",
          "name": "stdout",
          "text": [
            "--2024-04-05 08:24:48--  https://rest.uniprot.org/uniprotkb/stream?compressed=true&format=fasta&query=%28%28reviewed%3Atrue%29+AND+%28organism_id%3A9606%29%29\n",
            "Resolving rest.uniprot.org (rest.uniprot.org)... 193.62.193.81\n",
            "Connecting to rest.uniprot.org (rest.uniprot.org)|193.62.193.81|:443... connected.\n",
            "HTTP request sent, awaiting response... 200 \n",
            "Length: unspecified [text/plain]\n",
            "Saving to: ‘reviewd_human.fasta.gz’\n",
            "\n",
            "reviewd_human.fasta     [   <=>              ]   7.16M   562KB/s    in 18s     \n",
            "\n",
            "2024-04-05 08:25:07 (408 KB/s) - ‘reviewd_human.fasta.gz’ saved [7505825]\n",
            "\n"
          ]
        }
      ]
    },
    {
      "cell_type": "code",
      "source": [
        "!zcat -f /content/reviewd_human.fasta.gz > reviewd_human.fasta"
      ],
      "metadata": {
        "id": "7pOC50Y3TqIC"
      },
      "execution_count": 8,
      "outputs": []
    },
    {
      "cell_type": "code",
      "source": [
        "!grep \">\" /content/reviewd_human.fasta | wc"
      ],
      "metadata": {
        "colab": {
          "base_uri": "https://localhost:8080/"
        },
        "id": "hn_AmfuzTx_k",
        "outputId": "7a3475ff-3d25-4c66-9dc5-afdb39b9e711"
      },
      "execution_count": 9,
      "outputs": [
        {
          "output_type": "stream",
          "name": "stdout",
          "text": [
            "  20434  224167 2053803\n"
          ]
        }
      ]
    },
    {
      "cell_type": "markdown",
      "source": [
        "We want to use the BLAST and the reference would be the human one."
      ],
      "metadata": {
        "id": "EDgwpuipT2CI"
      }
    },
    {
      "cell_type": "code",
      "source": [
        "!sudo apt-get update"
      ],
      "metadata": {
        "id": "_bt8rozgaXc1"
      },
      "execution_count": null,
      "outputs": []
    },
    {
      "cell_type": "code",
      "source": [
        "!sudo apt upgrade"
      ],
      "metadata": {
        "id": "mHWIf85RetnL"
      },
      "execution_count": null,
      "outputs": []
    },
    {
      "cell_type": "code",
      "source": [
        "!sudo apt-get install ncbi-blast+"
      ],
      "metadata": {
        "id": "dMJX41OZae65"
      },
      "execution_count": null,
      "outputs": []
    },
    {
      "cell_type": "code",
      "source": [
        "!makeblastdb -in \"/content/human_bpti.fasta\" -dbtype prot"
      ],
      "metadata": {
        "colab": {
          "base_uri": "https://localhost:8080/"
        },
        "id": "vSdV8TtDarZb",
        "outputId": "de98d312-0055-4e38-8b71-ab75ec961bd1"
      },
      "execution_count": 45,
      "outputs": [
        {
          "output_type": "stream",
          "name": "stdout",
          "text": [
            "\n",
            "\n",
            "Building a new DB, current time: 04/05/2024 08:51:29\n",
            "New DB name:   /content/human_bpti.fasta\n",
            "New DB title:  /content/human_bpti.fasta\n",
            "Sequence type: Protein\n",
            "Deleted existing Protein BLAST database named /content/human_bpti.fasta\n",
            "Keep MBits: T\n",
            "Maximum file size: 1000000000B\n",
            "Adding sequences from FASTA; added 18 sequences in 0.00214815 seconds.\n",
            "\n",
            "\n"
          ]
        }
      ]
    },
    {
      "cell_type": "code",
      "source": [
        "!blastp -query \"/content/non_human_bpti.fasta\" -db \"/content/human_bpti.fasta\" -out non-human-bpti.blast -outfmt 7"
      ],
      "metadata": {
        "id": "CNnLgNY4axj_"
      },
      "execution_count": 46,
      "outputs": []
    },
    {
      "cell_type": "code",
      "source": [
        "!grep -v \"^#\" non-human-bpti.blast | head -n 50"
      ],
      "metadata": {
        "colab": {
          "base_uri": "https://localhost:8080/"
        },
        "id": "ArNXn1zGcIdw",
        "outputId": "8e153df9-d56a-474a-8877-cdd9e61668b7"
      },
      "execution_count": 47,
      "outputs": [
        {
          "output_type": "stream",
          "name": "stdout",
          "text": [
            "sp|A0A1Z0YU59|MAMB1_DENAN\tsp|P10646|TFPI1_HUMAN\t43.636\t55\t31\t0\t1\t55\t121\t175\t2.98e-16\t61.2\n",
            "sp|A0A1Z0YU59|MAMB1_DENAN\tsp|P10646|TFPI1_HUMAN\t40.741\t54\t32\t0\t3\t56\t52\t105\t1.23e-14\t57.0\n",
            "sp|A0A1Z0YU59|MAMB1_DENAN\tsp|P10646|TFPI1_HUMAN\t40.741\t54\t32\t0\t2\t55\t214\t267\t4.03e-11\t47.0\n",
            "sp|A0A1Z0YU59|MAMB1_DENAN\tsp|Q02388|CO7A1_HUMAN\t46.296\t54\t26\t1\t5\t55\t2876\t2929\t8.17e-15\t57.8\n",
            "sp|A0A1Z0YU59|MAMB1_DENAN\tsp|P12111|CO6A3_HUMAN\t41.176\t51\t30\t0\t5\t55\t3112\t3162\t1.77e-14\t56.6\n",
            "sp|A0A1Z0YU59|MAMB1_DENAN\tsp|P48307|TFPI2_HUMAN\t45.283\t53\t29\t0\t3\t55\t34\t86\t3.12e-14\t55.5\n",
            "sp|A0A1Z0YU59|MAMB1_DENAN\tsp|P48307|TFPI2_HUMAN\t40.000\t50\t30\t0\t2\t51\t155\t204\t9.09e-10\t43.1\n",
            "sp|A0A1Z0YU59|MAMB1_DENAN\tsp|P48307|TFPI2_HUMAN\t29.310\t58\t38\t2\t2\t56\t93\t150\t0.005\t24.3\n",
            "sp|A0A1Z0YU59|MAMB1_DENAN\tsp|O95925|EPPI_HUMAN\t40.000\t55\t33\t0\t1\t55\t73\t127\t3.41e-14\t53.9\n",
            "sp|A0A1Z0YU59|MAMB1_DENAN\tsp|P49223|SPIT3_HUMAN\t38.889\t54\t33\t0\t2\t55\t33\t86\t4.53e-14\t52.4\n",
            "sp|A0A1Z0YU59|MAMB1_DENAN\tsp|Q8TEU8|WFKN2_HUMAN\t43.137\t51\t29\t0\t5\t55\t386\t436\t5.59e-14\t55.1\n",
            "sp|A0A1Z0YU59|MAMB1_DENAN\tsp|Q8TEU8|WFKN2_HUMAN\t30.769\t52\t36\t0\t5\t56\t328\t379\t9.18e-07\t34.7\n",
            "sp|A0A1Z0YU59|MAMB1_DENAN\tsp|P02760|AMBP_HUMAN\t43.137\t51\t29\t0\t5\t55\t287\t337\t4.15e-13\t52.8\n",
            "sp|A0A1Z0YU59|MAMB1_DENAN\tsp|P02760|AMBP_HUMAN\t43.137\t51\t29\t0\t5\t55\t231\t281\t3.29e-12\t50.1\n",
            "sp|A0A1Z0YU59|MAMB1_DENAN\tsp|Q96NZ8|WFKN1_HUMAN\t45.098\t51\t28\t0\t5\t55\t359\t409\t7.47e-13\t52.0\n",
            "sp|A0A1Z0YU59|MAMB1_DENAN\tsp|Q96NZ8|WFKN1_HUMAN\t31.818\t44\t30\t0\t12\t55\t308\t351\t1.78e-05\t31.2\n",
            "sp|A0A1Z0YU59|MAMB1_DENAN\tsp|Q2UY09|COSA1_HUMAN\t36.538\t52\t33\t0\t5\t56\t1072\t1123\t8.32e-13\t52.0\n",
            "sp|A0A1Z0YU59|MAMB1_DENAN\tsp|P05067|A4_HUMAN\t45.455\t44\t24\t0\t12\t55\t298\t341\t3.23e-12\t50.1\n",
            "sp|A0A1Z0YU59|MAMB1_DENAN\tsp|O95428|PPN_HUMAN\t37.500\t56\t35\t0\t2\t57\t751\t806\t2.65e-11\t47.8\n",
            "sp|A0A1Z0YU59|MAMB1_DENAN\tsp|Q06481|APLP2_HUMAN\t33.962\t53\t35\t0\t3\t55\t308\t360\t4.39e-11\t47.0\n",
            "sp|A0A1Z0YU59|MAMB1_DENAN\tsp|O43291|SPIT2_HUMAN\t35.849\t53\t34\t0\t3\t55\t131\t183\t9.17e-11\t45.8\n",
            "sp|A0A1Z0YU59|MAMB1_DENAN\tsp|O43291|SPIT2_HUMAN\t33.962\t53\t35\t0\t3\t55\t36\t88\t3.95e-09\t41.6\n",
            "sp|A0A1Z0YU59|MAMB1_DENAN\tsp|Q8IUA0|WFDC8_HUMAN\t40.385\t52\t31\t0\t5\t56\t95\t146\t7.78e-10\t43.5\n",
            "sp|A0A1Z0YU59|MAMB1_DENAN\tsp|O43278|SPIT1_HUMAN\t40.000\t55\t33\t0\t3\t57\t248\t302\t8.61e-10\t43.5\n",
            "sp|A0A1Z0YU59|MAMB1_DENAN\tsp|O43278|SPIT1_HUMAN\t38.462\t52\t31\t1\t6\t57\t393\t443\t2.69e-08\t39.3\n",
            "sp|A0A1Z0YU59|MAMB1_DENAN\tsp|Q6UDR6|SPIT4_HUMAN\t28.302\t53\t38\t0\t5\t57\t41\t93\t9.83e-07\t33.9\n",
            "sp|A0A1Z0YU59|MAMB1_DENAN\tsp|Q9BQY6|WFDC6_HUMAN\t48.387\t31\t16\t0\t25\t55\t97\t127\t1.24e-05\t31.2\n",
            "sp|B2G331|VKT2B_HETCR\tsp|Q06481|APLP2_HUMAN\t50.909\t55\t27\t0\t24\t78\t308\t362\t3.66e-19\t70.9\n",
            "sp|B2G331|VKT2B_HETCR\tsp|Q8TEU8|WFKN2_HUMAN\t54.902\t51\t23\t0\t26\t76\t386\t436\t2.54e-18\t68.6\n",
            "sp|B2G331|VKT2B_HETCR\tsp|Q8TEU8|WFKN2_HUMAN\t37.255\t51\t32\t0\t26\t76\t328\t378\t2.71e-09\t43.1\n",
            "sp|B2G331|VKT2B_HETCR\tsp|O95925|EPPI_HUMAN\t42.593\t54\t31\t0\t24\t77\t75\t128\t4.07e-17\t62.4\n",
            "sp|B2G331|VKT2B_HETCR\tsp|P05067|A4_HUMAN\t56.818\t44\t19\t0\t33\t76\t298\t341\t1.68e-16\t63.5\n",
            "sp|B2G331|VKT2B_HETCR\tsp|P48307|TFPI2_HUMAN\t51.852\t54\t26\t0\t23\t76\t33\t86\t6.68e-16\t60.8\n",
            "sp|B2G331|VKT2B_HETCR\tsp|P48307|TFPI2_HUMAN\t42.857\t49\t28\t0\t24\t72\t156\t204\t9.64e-10\t43.9\n",
            "sp|B2G331|VKT2B_HETCR\tsp|P48307|TFPI2_HUMAN\t26.923\t52\t36\t1\t27\t76\t98\t149\t0.028\t23.1\n",
            "sp|B2G331|VKT2B_HETCR\tsp|P49223|SPIT3_HUMAN\t44.444\t54\t30\t0\t24\t77\t34\t87\t1.50e-15\t57.0\n",
            "sp|B2G331|VKT2B_HETCR\tsp|O43291|SPIT2_HUMAN\t49.020\t51\t26\t0\t26\t76\t133\t183\t1.86e-14\t57.0\n",
            "sp|B2G331|VKT2B_HETCR\tsp|O43291|SPIT2_HUMAN\t45.098\t51\t28\t0\t26\t76\t38\t88\t2.37e-13\t54.3\n",
            "sp|B2G331|VKT2B_HETCR\tsp|O43291|SPIT2_HUMAN\t43.750\t16\t9\t0\t1\t16\t201\t216\t6.8\t16.5\n",
            "sp|B2G331|VKT2B_HETCR\tsp|P02760|AMBP_HUMAN\t47.170\t53\t28\t0\t24\t76\t285\t337\t2.48e-14\t57.4\n",
            "sp|B2G331|VKT2B_HETCR\tsp|P02760|AMBP_HUMAN\t43.478\t46\t26\t0\t32\t77\t237\t282\t5.85e-11\t47.8\n",
            "sp|B2G331|VKT2B_HETCR\tsp|P10646|TFPI1_HUMAN\t54.545\t44\t20\t0\t33\t76\t61\t104\t3.48e-14\t56.6\n",
            "sp|B2G331|VKT2B_HETCR\tsp|P10646|TFPI1_HUMAN\t38.983\t59\t36\t0\t19\t77\t118\t176\t4.73e-13\t53.5\n",
            "sp|B2G331|VKT2B_HETCR\tsp|P10646|TFPI1_HUMAN\t46.296\t54\t29\t0\t24\t77\t215\t268\t1.03e-11\t49.7\n",
            "sp|B2G331|VKT2B_HETCR\tsp|Q96NZ8|WFKN1_HUMAN\t42.593\t54\t31\t0\t23\t76\t356\t409\t1.35e-13\t55.1\n",
            "sp|B2G331|VKT2B_HETCR\tsp|Q96NZ8|WFKN1_HUMAN\t34.091\t44\t29\t0\t33\t76\t308\t351\t1.85e-07\t37.7\n",
            "sp|B2G331|VKT2B_HETCR\tsp|O95428|PPN_HUMAN\t41.509\t53\t31\t0\t26\t78\t754\t806\t1.63e-13\t55.1\n",
            "sp|B2G331|VKT2B_HETCR\tsp|P12111|CO6A3_HUMAN\t40.385\t52\t31\t0\t25\t76\t3111\t3162\t5.95e-13\t53.5\n",
            "sp|B2G331|VKT2B_HETCR\tsp|Q2UY09|COSA1_HUMAN\t37.255\t51\t32\t0\t26\t76\t1072\t1122\t5.39e-12\t50.8\n",
            "sp|B2G331|VKT2B_HETCR\tsp|Q2UY09|COSA1_HUMAN\t40.000\t15\t9\t0\t53\t67\t929\t943\t4.5\t16.9\n"
          ]
        }
      ]
    },
    {
      "cell_type": "code",
      "source": [
        "!grep -v \"^#\" non-human-bpti.blast | cut -f 1 | sort | uniq -c | head -n 20"
      ],
      "metadata": {
        "colab": {
          "base_uri": "https://localhost:8080/"
        },
        "id": "RSDdWr80dHL7",
        "outputId": "466f4498-bc0c-4bff-e833-418596e55b17"
      },
      "execution_count": 48,
      "outputs": [
        {
          "output_type": "stream",
          "name": "stdout",
          "text": [
            "     48 sp|A0A1D0BND9|TD1A_HADIN\n",
            "     27 sp|A0A1Z0YU59|MAMB1_DENAN\n",
            "     30 sp|A0A3G2FQK2|3DPD_HETMG\n",
            "     31 sp|A0A6B7FA07|VKT2J_HETCR\n",
            "     32 sp|A0A6B7FBD3|VKT2I_HETCR\n",
            "     31 sp|A0A6B7FEJ3|VKT2K_HETCR\n",
            "     72 sp|A0A6P8HC43|ATPI1_ACTTE\n",
            "     34 sp|A5X2X1|VKT_SISCA\n",
            "     31 sp|A6MFL1|VKT1_DEMVE\n",
            "     32 sp|A6MFL2|VKT2_DEMVE\n",
            "     30 sp|A6MFL3|VKT3_DEMVE\n",
            "     28 sp|A6MFL4|VKT4_DEMVE\n",
            "     30 sp|A6MGX9|VKT5_DEMVE\n",
            "     31 sp|A6MGY1|VKT7_DEMVE\n",
            "     31 sp|A7X3V4|VKT1_TELDH\n",
            "     31 sp|A7X3V7|VKT1_PHIOL\n",
            "     29 sp|A8Y7N4|VKTC1_DABSI\n",
            "     29 sp|A8Y7N5|VKTC2_DABSI\n",
            "     32 sp|A8Y7N6|VKTC3_DABSI\n",
            "     32 sp|A8Y7N7|VKTC4_DABSI\n"
          ]
        }
      ]
    },
    {
      "cell_type": "markdown",
      "source": [
        "because BLAST is based on the local alignment, if the inputs are long maybe there are 2 matches between the first sequence and first seq in the blastdb"
      ],
      "metadata": {
        "id": "hmGGnwFbdkZl"
      }
    },
    {
      "cell_type": "code",
      "source": [
        "!grep -v \"^#\" non-human-bpti.blast | cut -f 1 | sort -u | cut -d \"|\" -f 2 > non-human-bpti.ids"
      ],
      "metadata": {
        "id": "yG3AGKXNebW2"
      },
      "execution_count": 49,
      "outputs": []
    },
    {
      "cell_type": "code",
      "source": [
        "!cat non-human-bpti.ids | head -n 10"
      ],
      "metadata": {
        "colab": {
          "base_uri": "https://localhost:8080/"
        },
        "id": "WD-ybDerfTJ9",
        "outputId": "63a83883-7940-4f2e-ff5d-397359ea5c91"
      },
      "execution_count": 50,
      "outputs": [
        {
          "output_type": "stream",
          "name": "stdout",
          "text": [
            "A0A1D0BND9\n",
            "A0A1Z0YU59\n",
            "A0A3G2FQK2\n",
            "A0A6B7FA07\n",
            "A0A6B7FBD3\n",
            "A0A6B7FEJ3\n",
            "A0A6P8HC43\n",
            "A5X2X1\n",
            "A6MFL1\n",
            "A6MFL2\n"
          ]
        }
      ]
    },
    {
      "cell_type": "code",
      "source": [
        "!for i in `cat non-human-bpti.ids`; do grep \"|\"$i\"|\" non-human-bpti.blast | grep -v \"^#\" | head -n 1; done | wc"
      ],
      "metadata": {
        "colab": {
          "base_uri": "https://localhost:8080/"
        },
        "id": "pa9AVRv-ftN_",
        "outputId": "4561150c-6175-46ff-a961-1e4707d710cc"
      },
      "execution_count": 51,
      "outputs": [
        {
          "output_type": "stream",
          "name": "stdout",
          "text": [
            "    373    4476   32107\n"
          ]
        }
      ]
    },
    {
      "cell_type": "code",
      "source": [
        "!for i in `cat non-human-bpti.ids`; do grep \"|\"$i\"|\" non-human-bpti.blast | grep -v \"^#\" | sort -nrk 11; done | head -n 10"
      ],
      "metadata": {
        "colab": {
          "base_uri": "https://localhost:8080/"
        },
        "id": "_Zfejk6mgE2c",
        "outputId": "b90dd458-8562-4f28-bcbc-a81af51fcccd"
      },
      "execution_count": 52,
      "outputs": [
        {
          "output_type": "stream",
          "name": "stdout",
          "text": [
            "sp|A0A1D0BND9|TD1A_HADIN\tsp|P02760|AMBP_HUMAN\t36.765\t68\t41\t1\t16\t81\t277\t344\t8.31e-06\t34.7\n",
            "sp|A0A1D0BND9|TD1A_HADIN\tsp|P02760|AMBP_HUMAN\t39.560\t91\t51\t1\t32\t122\t237\t323\t8.24e-14\t57.8\n",
            "sp|A0A1D0BND9|TD1A_HADIN\tsp|O43278|SPIT1_HUMAN\t30.645\t62\t43\t0\t17\t78\t241\t302\t7.91e-06\t34.7\n",
            "sp|A0A1D0BND9|TD1A_HADIN\tsp|P49223|SPIT3_HUMAN\t48.077\t52\t26\t1\t71\t122\t22\t72\t7.71e-12\t49.3\n",
            "sp|A0A1D0BND9|TD1A_HADIN\tsp|P49223|SPIT3_HUMAN\t38.182\t55\t34\t0\t22\t76\t32\t86\t6.68e-09\t41.6\n",
            "sp|A0A1D0BND9|TD1A_HADIN\tsp|Q6UDR6|SPIT4_HUMAN\t46.512\t43\t23\t0\t81\t123\t36\t78\t6.60e-10\t44.3\n",
            "sp|A0A1D0BND9|TD1A_HADIN\tsp|P12111|CO6A3_HUMAN\t39.583\t48\t29\t0\t75\t122\t3101\t3148\t6.41e-11\t49.7\n",
            "sp|A0A1D0BND9|TD1A_HADIN\tsp|Q06481|APLP2_HUMAN\t47.619\t42\t22\t0\t81\t122\t305\t346\t6.16e-12\t52.4\n",
            "sp|A0A1D0BND9|TD1A_HADIN\tsp|P05067|A4_HUMAN\t50.000\t34\t17\t0\t89\t122\t294\t327\t6.11e-10\t46.6\n",
            "sp|A0A1D0BND9|TD1A_HADIN\tsp|P12111|CO6A3_HUMAN\t40.000\t10\t6\t0\t84\t93\t2589\t2598\t5.9\t17.7\n"
          ]
        }
      ]
    },
    {
      "cell_type": "code",
      "source": [
        "!for i in `cat non-human-bpti.ids`; do grep \"|\"$i\"|\" non-human-bpti.blast | grep -v \"^#\" | sort -gk 11; done | head -n 10"
      ],
      "metadata": {
        "colab": {
          "base_uri": "https://localhost:8080/"
        },
        "id": "lCarRIHjgzAk",
        "outputId": "fa23d933-b4b4-4967-a7cc-70a0ed1985fe"
      },
      "execution_count": 53,
      "outputs": [
        {
          "output_type": "stream",
          "name": "stdout",
          "text": [
            "sp|A0A1D0BND9|TD1A_HADIN\tsp|P10646|TFPI1_HUMAN\t37.255\t102\t53\t1\t33\t123\t61\t162\t1.18e-18\t70.9\n",
            "sp|A0A1D0BND9|TD1A_HADIN\tsp|O43291|SPIT2_HUMAN\t27.737\t137\t64\t2\t21\t122\t33\t169\t1.33e-15\t62.0\n",
            "sp|A0A1D0BND9|TD1A_HADIN\tsp|P48307|TFPI2_HUMAN\t37.143\t105\t65\t1\t19\t122\t29\t133\t2.33e-15\t61.2\n",
            "sp|A0A1D0BND9|TD1A_HADIN\tsp|Q8TEU8|WFKN2_HUMAN\t33.673\t98\t61\t2\t26\t122\t328\t422\t1.12e-14\t60.1\n",
            "sp|A0A1D0BND9|TD1A_HADIN\tsp|P02760|AMBP_HUMAN\t39.560\t91\t51\t1\t32\t122\t237\t323\t8.24e-14\t57.8\n",
            "sp|A0A1D0BND9|TD1A_HADIN\tsp|P10646|TFPI1_HUMAN\t29.008\t131\t61\t2\t24\t122\t123\t253\t1.57e-13\t56.6\n",
            "sp|A0A1D0BND9|TD1A_HADIN\tsp|Q06481|APLP2_HUMAN\t39.655\t58\t35\t0\t19\t76\t303\t360\t3.38e-12\t53.1\n",
            "sp|A0A1D0BND9|TD1A_HADIN\tsp|P12111|CO6A3_HUMAN\t39.623\t53\t32\t0\t24\t76\t3110\t3162\t4.44e-12\t52.8\n",
            "sp|A0A1D0BND9|TD1A_HADIN\tsp|Q06481|APLP2_HUMAN\t47.619\t42\t22\t0\t81\t122\t305\t346\t6.16e-12\t52.4\n",
            "sp|A0A1D0BND9|TD1A_HADIN\tsp|P49223|SPIT3_HUMAN\t48.077\t52\t26\t1\t71\t122\t22\t72\t7.71e-12\t49.3\n"
          ]
        }
      ]
    },
    {
      "cell_type": "code",
      "source": [
        "!for i in `cat non-human-bpti.ids`; do grep \"|\"$i\"|\" non-human-bpti.blast | grep -v \"^#\" | sort -rgk 11 | head -n 1; done | head -n 10"
      ],
      "metadata": {
        "colab": {
          "base_uri": "https://localhost:8080/"
        },
        "id": "1dG_2AALhTKy",
        "outputId": "e0ea2349-7f2c-4863-fc65-52fae83569a8"
      },
      "execution_count": 54,
      "outputs": [
        {
          "output_type": "stream",
          "name": "stdout",
          "text": [
            "sp|A0A1D0BND9|TD1A_HADIN\tsp|P12111|CO6A3_HUMAN\t40.000\t10\t6\t0\t84\t93\t2589\t2598\t5.9\t17.7\n",
            "sp|A0A1Z0YU59|MAMB1_DENAN\tsp|P48307|TFPI2_HUMAN\t29.310\t58\t38\t2\t2\t56\t93\t150\t0.005\t24.3\n",
            "sp|A0A3G2FQK2|3DPD_HETMG\tsp|P12111|CO6A3_HUMAN\t50.000\t8\t4\t0\t33\t40\t1485\t1492\t9.4\t15.8\n",
            "sp|A0A6B7FA07|VKT2J_HETCR\tsp|P12111|CO6A3_HUMAN\t50.000\t8\t4\t0\t33\t40\t1485\t1492\t9.1\t15.8\n",
            "sp|A0A6B7FBD3|VKT2I_HETCR\tsp|Q2UY09|COSA1_HUMAN\t25.000\t40\t19\t1\t5\t33\t6\t45\t8.9\t16.2\n",
            "sp|A0A6B7FEJ3|VKT2K_HETCR\tsp|P12111|CO6A3_HUMAN\t34.615\t26\t14\t1\t18\t40\t1467\t1492\t8.0\t16.2\n",
            "sp|A0A6P8HC43|ATPI1_ACTTE\tsp|P12111|CO6A3_HUMAN\t54.545\t11\t5\t0\t44\t54\t497\t507\t7.6\t18.9\n",
            "sp|A5X2X1|VKT_SISCA\tsp|P12111|CO6A3_HUMAN\t36.842\t19\t12\t0\t92\t110\t2748\t2766\t8.5\t17.3\n",
            "sp|A6MFL1|VKT1_DEMVE\tsp|O95428|PPN_HUMAN\t22.857\t35\t19\t1\t16\t42\t32\t66\t9.9\t16.2\n",
            "sp|A6MFL2|VKT2_DEMVE\tsp|P12111|CO6A3_HUMAN\t40.000\t20\t5\t1\t40\t52\t775\t794\t9.4\t16.2\n"
          ]
        }
      ]
    },
    {
      "cell_type": "code",
      "source": [
        "!for i in `cat non-human-bpti.ids`; do grep \"|\"$i\"|\" non-human-bpti.blast | grep -v \"^#\" | sort -gk 11 | head -n 1; done > non-human-bpti.match"
      ],
      "metadata": {
        "id": "dFaWLt9ohnJ4"
      },
      "execution_count": 55,
      "outputs": []
    },
    {
      "cell_type": "code",
      "source": [
        "!grep \">\" reviewd_human.fasta | wc"
      ],
      "metadata": {
        "colab": {
          "base_uri": "https://localhost:8080/"
        },
        "id": "VaZ3PZNZh0Lr",
        "outputId": "1aeb1d8a-9033-4131-871e-3999a157df6f"
      },
      "execution_count": 56,
      "outputs": [
        {
          "output_type": "stream",
          "name": "stdout",
          "text": [
            "  20434  224167 2053803\n"
          ]
        }
      ]
    },
    {
      "cell_type": "code",
      "source": [
        "!du -h reviewd_human.fasta"
      ],
      "metadata": {
        "colab": {
          "base_uri": "https://localhost:8080/"
        },
        "id": "CyO23VLZkr0u",
        "outputId": "57bff528-7edd-431e-c18c-0ee7f139d52d"
      },
      "execution_count": 57,
      "outputs": [
        {
          "output_type": "stream",
          "name": "stdout",
          "text": [
            "14M\treviewd_human.fasta\n"
          ]
        }
      ]
    },
    {
      "cell_type": "markdown",
      "source": [
        "You can download the script from the github :)"
      ],
      "metadata": {
        "id": "hktR9-ojnGb2"
      }
    },
    {
      "cell_type": "code",
      "source": [
        "!wget https://raw.githubusercontent.com/heispv/bioinformatics/master/lab-of-bioinformatics/like-project-script1.py"
      ],
      "metadata": {
        "colab": {
          "base_uri": "https://localhost:8080/"
        },
        "id": "ob0VV_WgX0y4",
        "outputId": "d1f8a19e-290e-4d55-ef19-f83d3d7594ef"
      },
      "execution_count": 58,
      "outputs": [
        {
          "output_type": "stream",
          "name": "stdout",
          "text": [
            "--2024-04-05 08:51:47--  https://raw.githubusercontent.com/heispv/bioinformatics/master/lab-of-bioinformatics/like-project-script1.py\n",
            "Resolving raw.githubusercontent.com (raw.githubusercontent.com)... 185.199.110.133, 185.199.111.133, 185.199.108.133, ...\n",
            "Connecting to raw.githubusercontent.com (raw.githubusercontent.com)|185.199.110.133|:443... connected.\n",
            "HTTP request sent, awaiting response... 200 OK\n",
            "Length: 639 [text/plain]\n",
            "Saving to: ‘like-project-script1.py.1’\n",
            "\n",
            "like-project-script 100%[===================>]     639  --.-KB/s    in 0s      \n",
            "\n",
            "2024-04-05 08:51:47 (43.2 MB/s) - ‘like-project-script1.py.1’ saved [639/639]\n",
            "\n"
          ]
        }
      ]
    },
    {
      "cell_type": "code",
      "source": [
        "!python3 like-project-script1.py non-human-bpti.ids non_human_bpti.fasta > human_nobpti_r1.fasta"
      ],
      "metadata": {
        "id": "05qwj8l6X6Bn"
      },
      "execution_count": 59,
      "outputs": []
    },
    {
      "cell_type": "code",
      "source": [
        "!grep \">\" human_nobpti_r1.fasta | wc"
      ],
      "metadata": {
        "colab": {
          "base_uri": "https://localhost:8080/"
        },
        "id": "jZ0DS4PCYHyy",
        "outputId": "03a4942c-88bf-4f63-874a-e7da162b994f"
      },
      "execution_count": 60,
      "outputs": [
        {
          "output_type": "stream",
          "name": "stdout",
          "text": [
            "    373     373    3012\n"
          ]
        }
      ]
    },
    {
      "cell_type": "markdown",
      "source": [
        "remember these two codes:\n",
        "```bash\n",
        "!for i in `cat non-human-bpti.ids`; do grep \"|\"$i\"|\" non-human-bpti.blast | grep -v \"^#\" | sort -gk 11 | head -n 1; done > non-human-bpti.match\n",
        "```\n",
        "and\n",
        "```bash\n",
        "!blastp -query \"/content/non_human_bpti.fasta\" -db \"/content/human_bpti.fasta\" -out non-human-bpti.blast -outfmt 7\n",
        "```"
      ],
      "metadata": {
        "id": "AtgIs8KXbQzZ"
      }
    },
    {
      "cell_type": "code",
      "source": [
        "!cat non-human-bpti.blast | head -n 20"
      ],
      "metadata": {
        "colab": {
          "base_uri": "https://localhost:8080/"
        },
        "id": "ejKm26NfarVj",
        "outputId": "7edfe581-3b1e-4b28-cc97-be0a875c0c1f"
      },
      "execution_count": 61,
      "outputs": [
        {
          "output_type": "stream",
          "name": "stdout",
          "text": [
            "# BLASTP 2.12.0+\n",
            "# Query: sp|A0A1Z0YU59|MAMB1_DENAN Mambaquaretin-1 OS=Dendroaspis angusticeps OX=8618 PE=1 SV=2\n",
            "# Database: /content/human_bpti.fasta\n",
            "# Fields: query acc.ver, subject acc.ver, % identity, alignment length, mismatches, gap opens, q. start, q. end, s. start, s. end, evalue, bit score\n",
            "# 27 hits found\n",
            "sp|A0A1Z0YU59|MAMB1_DENAN\tsp|P10646|TFPI1_HUMAN\t43.636\t55\t31\t0\t1\t55\t121\t175\t2.98e-16\t61.2\n",
            "sp|A0A1Z0YU59|MAMB1_DENAN\tsp|P10646|TFPI1_HUMAN\t40.741\t54\t32\t0\t3\t56\t52\t105\t1.23e-14\t57.0\n",
            "sp|A0A1Z0YU59|MAMB1_DENAN\tsp|P10646|TFPI1_HUMAN\t40.741\t54\t32\t0\t2\t55\t214\t267\t4.03e-11\t47.0\n",
            "sp|A0A1Z0YU59|MAMB1_DENAN\tsp|Q02388|CO7A1_HUMAN\t46.296\t54\t26\t1\t5\t55\t2876\t2929\t8.17e-15\t57.8\n",
            "sp|A0A1Z0YU59|MAMB1_DENAN\tsp|P12111|CO6A3_HUMAN\t41.176\t51\t30\t0\t5\t55\t3112\t3162\t1.77e-14\t56.6\n",
            "sp|A0A1Z0YU59|MAMB1_DENAN\tsp|P48307|TFPI2_HUMAN\t45.283\t53\t29\t0\t3\t55\t34\t86\t3.12e-14\t55.5\n",
            "sp|A0A1Z0YU59|MAMB1_DENAN\tsp|P48307|TFPI2_HUMAN\t40.000\t50\t30\t0\t2\t51\t155\t204\t9.09e-10\t43.1\n",
            "sp|A0A1Z0YU59|MAMB1_DENAN\tsp|P48307|TFPI2_HUMAN\t29.310\t58\t38\t2\t2\t56\t93\t150\t0.005\t24.3\n",
            "sp|A0A1Z0YU59|MAMB1_DENAN\tsp|O95925|EPPI_HUMAN\t40.000\t55\t33\t0\t1\t55\t73\t127\t3.41e-14\t53.9\n",
            "sp|A0A1Z0YU59|MAMB1_DENAN\tsp|P49223|SPIT3_HUMAN\t38.889\t54\t33\t0\t2\t55\t33\t86\t4.53e-14\t52.4\n",
            "sp|A0A1Z0YU59|MAMB1_DENAN\tsp|Q8TEU8|WFKN2_HUMAN\t43.137\t51\t29\t0\t5\t55\t386\t436\t5.59e-14\t55.1\n",
            "sp|A0A1Z0YU59|MAMB1_DENAN\tsp|Q8TEU8|WFKN2_HUMAN\t30.769\t52\t36\t0\t5\t56\t328\t379\t9.18e-07\t34.7\n",
            "sp|A0A1Z0YU59|MAMB1_DENAN\tsp|P02760|AMBP_HUMAN\t43.137\t51\t29\t0\t5\t55\t287\t337\t4.15e-13\t52.8\n",
            "sp|A0A1Z0YU59|MAMB1_DENAN\tsp|P02760|AMBP_HUMAN\t43.137\t51\t29\t0\t5\t55\t231\t281\t3.29e-12\t50.1\n",
            "sp|A0A1Z0YU59|MAMB1_DENAN\tsp|Q96NZ8|WFKN1_HUMAN\t45.098\t51\t28\t0\t5\t55\t359\t409\t7.47e-13\t52.0\n"
          ]
        }
      ]
    },
    {
      "cell_type": "code",
      "source": [
        "!wc non-human-bpti.match"
      ],
      "metadata": {
        "colab": {
          "base_uri": "https://localhost:8080/"
        },
        "id": "qaEzo8yQbFcA",
        "outputId": "307e576e-123e-4966-c7c1-8409feac2059"
      },
      "execution_count": 62,
      "outputs": [
        {
          "output_type": "stream",
          "name": "stdout",
          "text": [
            "  373  4476 32109 non-human-bpti.match\n"
          ]
        }
      ]
    },
    {
      "cell_type": "code",
      "source": [
        "!sort -grk 11 non-human-bpti.match | head -n 20"
      ],
      "metadata": {
        "colab": {
          "base_uri": "https://localhost:8080/"
        },
        "id": "UZ7YSVRbblhD",
        "outputId": "208a0170-a049-4057-e2e6-860e2cdc01bc"
      },
      "execution_count": 63,
      "outputs": [
        {
          "output_type": "stream",
          "name": "stdout",
          "text": [
            "sp|D3GGZ8|BLI5_HAECO\tsp|Q2UY09|COSA1_HUMAN\t23.944\t71\t41\t4\t125\t191\t1062\t1123\t0.045\t25.0\n",
            "sp|O62247|BLI5_CAEEL\tsp|Q96NZ8|WFKN1_HUMAN\t29.167\t72\t48\t2\t115\t184\t339\t409\t2.44e-04\t32.0\n",
            "sp|Q8WPG5|KUNI_ORNKA\tsp|P12111|CO6A3_HUMAN\t37.143\t35\t21\t1\t97\t130\t3129\t3163\t4.05e-05\t33.1\n",
            "sp|Q11101|YL15_CAEEL\tsp|P05067|A4_HUMAN\t37.500\t40\t25\t0\t38\t77\t305\t344\t1.85e-07\t41.2\n",
            "sp|P86963|KCP2_PINMA\tsp|P12111|CO6A3_HUMAN\t36.207\t58\t30\t2\t98\t153\t3112\t3164\t1.33e-07\t43.9\n",
            "sp|D9IFL3|KUN1_RHIHE\tsp|O43278|SPIT1_HUMAN\t34.722\t72\t37\t2\t67\t138\t380\t441\t8.35e-08\t41.6\n",
            "sp|P0CAR0|VKTG1_MICPY\tsp|P12111|CO6A3_HUMAN\t44.828\t29\t16\t0\t6\t34\t3112\t3140\t6.47e-08\t37.0\n",
            "sp|Q09JW6|KUNI_ARGMO\tsp|Q6UDR6|SPIT4_HUMAN\t36.667\t60\t35\t3\t80\t139\t35\t91\t2.04e-08\t40.8\n",
            "sp|P0CH75|VKT25_CYRHA\tsp|P12111|CO6A3_HUMAN\t44.118\t34\t17\t1\t2\t33\t3110\t3143\t1.01e-09\t42.0\n",
            "sp|Q2ES49|VKT2_DABRR\tsp|P10646|TFPI1_HUMAN\t38.596\t57\t35\t0\t25\t81\t119\t175\t6.96e-10\t44.7\n",
            "sp|G9I929|VKTA_MICTN\tsp|P10646|TFPI1_HUMAN\t35.484\t62\t35\t2\t24\t83\t118\t176\t6.31e-10\t45.1\n",
            "sp|C0LNR2|VKT_VESBI\tsp|O95428|PPN_HUMAN\t38.710\t62\t33\t2\t20\t76\t743\t804\t9.51e-11\t47.0\n",
            "sp|Q7Z1K3|ANIS1_ANISI\tsp|Q02388|CO7A1_HUMAN\t41.558\t77\t34\t4\t28\t101\t2876\t2944\t5.74e-11\t52.0\n",
            "sp|I6VXS1|KUN2_RHIHE\tsp|P10646|TFPI1_HUMAN\t32.632\t95\t60\t1\t41\t131\t58\t152\t3.59e-11\t52.0\n",
            "sp|P0DMW9|VKT34_ACTEQ\tsp|O43291|SPIT2_HUMAN\t51.429\t35\t17\t0\t3\t37\t35\t69\t1.39e-11\t47.4\n",
            "sp|Q75S49|VKTH4_BUNCA\tsp|Q2UY09|COSA1_HUMAN\t37.097\t62\t38\t1\t20\t81\t1063\t1123\t7.00e-12\t50.4\n",
            "sp|P0DMW8|VKT33_ACTEQ\tsp|Q8TEU8|WFKN2_HUMAN\t56.250\t32\t14\t0\t4\t35\t386\t417\t5.41e-12\t48.5\n",
            "sp|P00987|VKTH1_BUNMU\tsp|Q2UY09|COSA1_HUMAN\t37.097\t62\t38\t1\t21\t82\t1063\t1123\t4.64e-12\t51.2\n",
            "sp|P26226|HTIA_MANSE\tsp|P48307|TFPI2_HUMAN\t54.762\t42\t16\t1\t18\t56\t29\t70\t4.62e-12\t49.3\n",
            "sp|P81658|VKTHC_DENAN\tsp|P05067|A4_HUMAN\t45.455\t44\t24\t0\t14\t57\t298\t341\t4.47e-12\t50.1\n"
          ]
        }
      ]
    },
    {
      "cell_type": "markdown",
      "source": [
        "note that the evalue sometimes are higher than expected, because the dataset is not large enough."
      ],
      "metadata": {
        "id": "VrM-2ZVbb1Zt"
      }
    },
    {
      "cell_type": "code",
      "source": [
        "!blastp -query human_nobpti_r1.fasta -db human_bpti.fasta -out human_nobpti_r1.match -outfmt 7"
      ],
      "metadata": {
        "id": "NtBHn6vxcBxV"
      },
      "execution_count": 79,
      "outputs": []
    },
    {
      "cell_type": "code",
      "source": [
        "!cat human_nobpti_r1.match | head -n 20"
      ],
      "metadata": {
        "colab": {
          "base_uri": "https://localhost:8080/"
        },
        "id": "e0M2PsoFcg1k",
        "outputId": "1783013c-73f4-490b-deb9-ab098d2e6e4c"
      },
      "execution_count": 80,
      "outputs": [
        {
          "output_type": "stream",
          "name": "stdout",
          "text": [
            "# BLASTP 2.12.0+\n",
            "# Query: A0A1D0BND9\n",
            "# Database: human_bpti.fasta\n",
            "# Fields: query acc.ver, subject acc.ver, % identity, alignment length, mismatches, gap opens, q. start, q. end, s. start, s. end, evalue, bit score\n",
            "# 48 hits found\n",
            "A0A1D0BND9\tsp|P10646|TFPI1_HUMAN\t37.255\t102\t53\t1\t33\t123\t61\t162\t1.18e-18\t70.9\n",
            "A0A1D0BND9\tsp|P10646|TFPI1_HUMAN\t29.008\t131\t61\t2\t24\t122\t123\t253\t1.57e-13\t56.6\n",
            "A0A1D0BND9\tsp|P10646|TFPI1_HUMAN\t43.137\t51\t29\t0\t26\t76\t217\t267\t2.71e-08\t42.0\n",
            "A0A1D0BND9\tsp|O43291|SPIT2_HUMAN\t27.737\t137\t64\t2\t21\t122\t33\t169\t1.33e-15\t62.0\n",
            "A0A1D0BND9\tsp|O43291|SPIT2_HUMAN\t32.558\t43\t29\t0\t24\t66\t131\t173\t5.63e-05\t32.3\n",
            "A0A1D0BND9\tsp|P48307|TFPI2_HUMAN\t37.143\t105\t65\t1\t19\t122\t29\t133\t2.33e-15\t61.2\n",
            "A0A1D0BND9\tsp|P48307|TFPI2_HUMAN\t31.250\t112\t71\t3\t15\t122\t85\t194\t2.81e-11\t50.1\n",
            "A0A1D0BND9\tsp|P48307|TFPI2_HUMAN\t42.308\t52\t30\t0\t21\t72\t153\t204\t1.18e-09\t45.4\n",
            "A0A1D0BND9\tsp|Q8TEU8|WFKN2_HUMAN\t33.673\t98\t61\t2\t26\t122\t328\t422\t1.12e-14\t60.1\n",
            "A0A1D0BND9\tsp|Q8TEU8|WFKN2_HUMAN\t38.462\t52\t32\t0\t26\t77\t386\t437\t1.21e-08\t43.1\n",
            "A0A1D0BND9\tsp|Q8TEU8|WFKN2_HUMAN\t26.316\t38\t28\t0\t86\t123\t328\t365\t0.040\t23.9\n",
            "A0A1D0BND9\tsp|Q8TEU8|WFKN2_HUMAN\t29.167\t24\t17\t0\t53\t76\t39\t62\t2.8\t18.5\n",
            "A0A1D0BND9\tsp|P02760|AMBP_HUMAN\t39.560\t91\t51\t1\t32\t122\t237\t323\t8.24e-14\t57.8\n",
            "A0A1D0BND9\tsp|P02760|AMBP_HUMAN\t48.718\t39\t20\t0\t84\t122\t229\t267\t4.60e-07\t38.1\n",
            "A0A1D0BND9\tsp|P02760|AMBP_HUMAN\t36.765\t68\t41\t1\t16\t81\t277\t344\t8.31e-06\t34.7\n"
          ]
        }
      ]
    },
    {
      "cell_type": "markdown",
      "source": [
        "* I am lost here now :|"
      ],
      "metadata": {
        "id": "j2aAeqHIc1mg"
      }
    },
    {
      "cell_type": "code",
      "source": [
        "!for i in `cat like-project-script1.py`; do grep \"|\"$i\"|\" human_nobpti_r1.match | grep -v \"^#\" | sort -gk 11 | head -n 1; done > human_nobpti_r1.match"
      ],
      "metadata": {
        "id": "IaEbl2tjdg3L"
      },
      "execution_count": 81,
      "outputs": []
    },
    {
      "cell_type": "code",
      "source": [
        "!cat human_nobpti_r1.match | head -n 20"
      ],
      "metadata": {
        "id": "uLYlETwngVB7"
      },
      "execution_count": 82,
      "outputs": []
    },
    {
      "cell_type": "markdown",
      "source": [
        "We have the `nonhuman-bpti.match` and `human-nonbpti.match`. we should check what is the best threshold for the `e-value` for the classification of the problem."
      ],
      "metadata": {
        "id": "AE0b7vRwgd8q"
      }
    },
    {
      "cell_type": "markdown",
      "source": [
        "You can search in the negative examples, and olnly select the ones which have the lowest e-value, so in this way we are putting the predictor in a criticial way."
      ],
      "metadata": {
        "id": "Xr1gbTRziXdX"
      }
    },
    {
      "cell_type": "code",
      "source": [],
      "metadata": {
        "id": "VBTr4D_Lj4Vq"
      },
      "execution_count": null,
      "outputs": []
    }
  ]
}