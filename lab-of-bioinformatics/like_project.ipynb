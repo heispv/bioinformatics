{
  "nbformat": 4,
  "nbformat_minor": 0,
  "metadata": {
    "colab": {
      "provenance": [],
      "authorship_tag": "ABX9TyMZuDedRMXFxGVncWDFNlv7",
      "include_colab_link": true
    },
    "kernelspec": {
      "name": "python3",
      "display_name": "Python 3"
    },
    "language_info": {
      "name": "python"
    }
  },
  "cells": [
    {
      "cell_type": "markdown",
      "metadata": {
        "id": "view-in-github",
        "colab_type": "text"
      },
      "source": [
        "<a href=\"https://colab.research.google.com/github/heispv/bioinformatics/blob/master/lab-of-bioinformatics/like_project.ipynb\" target=\"_parent\"><img src=\"https://colab.research.google.com/assets/colab-badge.svg\" alt=\"Open In Colab\"/></a>"
      ]
    },
    {
      "cell_type": "markdown",
      "source": [
        "The steps that we should take to solve the problem.\n",
        "\n",
        "1. First we ant to select all the proteins in swiss proit with the BPTI/Kunitz domain.\n",
        "    * kun + human / kun + non-human / review + human\n",
        "2. Separate human from non human proteins. Use the non human proteins\n",
        "as a positive in the testing set.\n",
        "3. Generate a random set of negative of the same size of the positive set.\n",
        "4. Remove both positives and negatives from SwissProt and perform the\n",
        "prediction based on the results of the blast search"
      ],
      "metadata": {
        "id": "PVj5UAppOuMZ"
      }
    },
    {
      "cell_type": "markdown",
      "source": [
        "PF00014 -> kunitz in pfam"
      ],
      "metadata": {
        "id": "udSQzhM_PsRH"
      }
    },
    {
      "cell_type": "markdown",
      "source": [
        "in the advanced search of the uniprot go to cross-reference -> family and domain databases -> pfam"
      ],
      "metadata": {
        "id": "7PW9wOOEQcaA"
      }
    },
    {
      "cell_type": "code",
      "source": [
        "!wget -O human_bpti.fasta.gz 'https://rest.uniprot.org/uniprotkb/stream?compressed=true&format=fasta&query=%28%28xref%3Apfam-PF00014%29%29+AND+%28reviewed%3Atrue%29+AND+%28model_organism%3A9606%29'\n"
      ],
      "metadata": {
        "colab": {
          "base_uri": "https://localhost:8080/"
        },
        "id": "wXlHlhHZRBG2",
        "outputId": "ef56a216-aa28-4a76-af6a-30e618d4b721"
      },
      "execution_count": 21,
      "outputs": [
        {
          "output_type": "stream",
          "name": "stdout",
          "text": [
            "--2024-04-04 13:34:07--  https://rest.uniprot.org/uniprotkb/stream?compressed=true&format=fasta&query=%28%28xref%3Apfam-PF00014%29%29+AND+%28reviewed%3Atrue%29+AND+%28model_organism%3A9606%29\n",
            "Resolving rest.uniprot.org (rest.uniprot.org)... 193.62.193.81\n",
            "Connecting to rest.uniprot.org (rest.uniprot.org)|193.62.193.81|:443... connected.\n",
            "HTTP request sent, awaiting response... 200 \n",
            "Length: unspecified [text/plain]\n",
            "Saving to: ‘human_bpti.fasta.gz’\n",
            "\n",
            "human_bpti.fasta.gz     [ <=>                ]   8.38K  --.-KB/s    in 0.001s  \n",
            "\n",
            "2024-04-04 13:34:07 (11.6 MB/s) - ‘human_bpti.fasta.gz’ saved [8581]\n",
            "\n"
          ]
        }
      ]
    },
    {
      "cell_type": "code",
      "source": [
        "!zcat -f /content/human_bpti.fasta.gz > human_bpti.fasta"
      ],
      "metadata": {
        "id": "bW6N-4_VRvfn"
      },
      "execution_count": 22,
      "outputs": []
    },
    {
      "cell_type": "code",
      "source": [
        "!grep \">\" /content/human_bpti.fasta | wc"
      ],
      "metadata": {
        "colab": {
          "base_uri": "https://localhost:8080/"
        },
        "id": "UrA7Tq0FSN7L",
        "outputId": "3129937e-ec7e-420f-b405-3f229ecf21dd"
      },
      "execution_count": 23,
      "outputs": [
        {
          "output_type": "stream",
          "name": "stdout",
          "text": [
            "     18     203    1793\n"
          ]
        }
      ]
    },
    {
      "cell_type": "code",
      "source": [
        "!wget -O non_human_bpti.fasta.gz \"https://rest.uniprot.org/uniprotkb/stream?compressed=true&format=fasta&query=%28%28xref%3Apfam-PF00014%29+NOT+%28organism_id%3A9606%29%29+AND+%28reviewed%3Atrue%29\"\n"
      ],
      "metadata": {
        "colab": {
          "base_uri": "https://localhost:8080/"
        },
        "id": "vkydh7bWS4FH",
        "outputId": "706e1015-814c-41b6-dc69-2bbeea227efa"
      },
      "execution_count": 24,
      "outputs": [
        {
          "output_type": "stream",
          "name": "stdout",
          "text": [
            "--2024-04-04 13:34:08--  https://rest.uniprot.org/uniprotkb/stream?compressed=true&format=fasta&query=%28%28xref%3Apfam-PF00014%29+NOT+%28organism_id%3A9606%29%29+AND+%28reviewed%3Atrue%29\n",
            "Resolving rest.uniprot.org (rest.uniprot.org)... 193.62.193.81\n",
            "Connecting to rest.uniprot.org (rest.uniprot.org)|193.62.193.81|:443... connected.\n",
            "HTTP request sent, awaiting response... 200 \n",
            "Length: unspecified [text/plain]\n",
            "Saving to: ‘non_human_bpti.fasta.gz’\n",
            "\n",
            "non_human_bpti.fast     [ <=>                ]  34.71K  --.-KB/s    in 0.09s   \n",
            "\n",
            "2024-04-04 13:34:09 (389 KB/s) - ‘non_human_bpti.fasta.gz’ saved [35542]\n",
            "\n"
          ]
        }
      ]
    },
    {
      "cell_type": "code",
      "source": [
        "!zcat -f /content/non_human_bpti.fasta.gz > non_human_bpti.fasta"
      ],
      "metadata": {
        "id": "8N1PWoTHS6Im"
      },
      "execution_count": 25,
      "outputs": []
    },
    {
      "cell_type": "code",
      "source": [
        "!grep \">\" /content/non_human_bpti.fasta | wc"
      ],
      "metadata": {
        "colab": {
          "base_uri": "https://localhost:8080/"
        },
        "id": "i_4K6h5QTHQ3",
        "outputId": "a5f394d4-3843-4b61-d231-caeccf8b95a3"
      },
      "execution_count": 26,
      "outputs": [
        {
          "output_type": "stream",
          "name": "stdout",
          "text": [
            "    373    3715   38651\n"
          ]
        }
      ]
    },
    {
      "cell_type": "code",
      "source": [
        "!wget -O reviewd_human.fasta.gz \"https://rest.uniprot.org/uniprotkb/stream?compressed=true&format=fasta&query=%28%28reviewed%3Atrue%29+AND+%28organism_id%3A9606%29%29\"\n"
      ],
      "metadata": {
        "colab": {
          "base_uri": "https://localhost:8080/"
        },
        "id": "cq3ruhWDTlR5",
        "outputId": "08aa23f3-7de0-4d55-e48e-f891953abdec"
      },
      "execution_count": 27,
      "outputs": [
        {
          "output_type": "stream",
          "name": "stdout",
          "text": [
            "--2024-04-04 13:34:09--  https://rest.uniprot.org/uniprotkb/stream?compressed=true&format=fasta&query=%28%28reviewed%3Atrue%29+AND+%28organism_id%3A9606%29%29\n",
            "Resolving rest.uniprot.org (rest.uniprot.org)... 193.62.193.81\n",
            "Connecting to rest.uniprot.org (rest.uniprot.org)|193.62.193.81|:443... connected.\n",
            "HTTP request sent, awaiting response... 200 \n",
            "Length: unspecified [text/plain]\n",
            "Saving to: ‘reviewd_human.fasta.gz’\n",
            "\n",
            "reviewd_human.fasta     [            <=>     ]   7.16M   498KB/s    in 18s     \n",
            "\n",
            "2024-04-04 13:34:27 (417 KB/s) - ‘reviewd_human.fasta.gz’ saved [7505825]\n",
            "\n"
          ]
        }
      ]
    },
    {
      "cell_type": "code",
      "source": [
        "!zcat -f /content/reviewd_human.fasta.gz > reviewd_human.fasta"
      ],
      "metadata": {
        "id": "7pOC50Y3TqIC"
      },
      "execution_count": 28,
      "outputs": []
    },
    {
      "cell_type": "code",
      "source": [
        "!grep \">\" /content/reviewd_human.fasta | wc"
      ],
      "metadata": {
        "colab": {
          "base_uri": "https://localhost:8080/"
        },
        "id": "hn_AmfuzTx_k",
        "outputId": "b8d31054-54a5-425f-af27-6b04a868f15e"
      },
      "execution_count": 29,
      "outputs": [
        {
          "output_type": "stream",
          "name": "stdout",
          "text": [
            "  20434  224167 2053803\n"
          ]
        }
      ]
    },
    {
      "cell_type": "markdown",
      "source": [
        "We want to use the BLAST and the reference would be the human one."
      ],
      "metadata": {
        "id": "EDgwpuipT2CI"
      }
    },
    {
      "cell_type": "code",
      "source": [
        "!sudo apt-get update"
      ],
      "metadata": {
        "id": "_bt8rozgaXc1"
      },
      "execution_count": null,
      "outputs": []
    },
    {
      "cell_type": "code",
      "source": [
        "!sudo apt upgrade"
      ],
      "metadata": {
        "id": "mHWIf85RetnL"
      },
      "execution_count": null,
      "outputs": []
    },
    {
      "cell_type": "code",
      "source": [
        "!sudo apt-get install ncbi-blast+"
      ],
      "metadata": {
        "id": "dMJX41OZae65"
      },
      "execution_count": null,
      "outputs": []
    },
    {
      "cell_type": "code",
      "source": [
        "!makeblastdb -in \"/content/human_bpti.fasta\" -dbtype prot"
      ],
      "metadata": {
        "colab": {
          "base_uri": "https://localhost:8080/"
        },
        "id": "vSdV8TtDarZb",
        "outputId": "c9ec9d7e-84cc-444a-9e3d-69cd3085ea7d"
      },
      "execution_count": 37,
      "outputs": [
        {
          "output_type": "stream",
          "name": "stdout",
          "text": [
            "\n",
            "\n",
            "Building a new DB, current time: 04/04/2024 14:04:47\n",
            "New DB name:   /content/human_bpti.fasta\n",
            "New DB title:  /content/human_bpti.fasta\n",
            "Sequence type: Protein\n",
            "Keep MBits: T\n",
            "Maximum file size: 1000000000B\n",
            "Adding sequences from FASTA; added 18 sequences in 0.00170112 seconds.\n",
            "\n",
            "\n"
          ]
        }
      ]
    },
    {
      "cell_type": "code",
      "source": [
        "!blastp -query \"/content/non_human_bpti.fasta\" -db \"/content/human_bpti.fasta\" -out non-human-bpti.blast -outfmt 7"
      ],
      "metadata": {
        "id": "CNnLgNY4axj_"
      },
      "execution_count": 41,
      "outputs": []
    },
    {
      "cell_type": "code",
      "source": [
        "!grep -v \"^#\" non-human-bpti.blast | head -n 50"
      ],
      "metadata": {
        "colab": {
          "base_uri": "https://localhost:8080/"
        },
        "id": "ArNXn1zGcIdw",
        "outputId": "1981bcd0-4491-4239-e0aa-08242fdbad93"
      },
      "execution_count": 45,
      "outputs": [
        {
          "output_type": "stream",
          "name": "stdout",
          "text": [
            "sp|A0A1Z0YU59|MAMB1_DENAN\tsp|P10646|TFPI1_HUMAN\t43.636\t55\t31\t0\t1\t55\t121\t175\t2.98e-16\t61.2\n",
            "sp|A0A1Z0YU59|MAMB1_DENAN\tsp|P10646|TFPI1_HUMAN\t40.741\t54\t32\t0\t3\t56\t52\t105\t1.23e-14\t57.0\n",
            "sp|A0A1Z0YU59|MAMB1_DENAN\tsp|P10646|TFPI1_HUMAN\t40.741\t54\t32\t0\t2\t55\t214\t267\t4.03e-11\t47.0\n",
            "sp|A0A1Z0YU59|MAMB1_DENAN\tsp|Q02388|CO7A1_HUMAN\t46.296\t54\t26\t1\t5\t55\t2876\t2929\t8.17e-15\t57.8\n",
            "sp|A0A1Z0YU59|MAMB1_DENAN\tsp|P12111|CO6A3_HUMAN\t41.176\t51\t30\t0\t5\t55\t3112\t3162\t1.77e-14\t56.6\n",
            "sp|A0A1Z0YU59|MAMB1_DENAN\tsp|P48307|TFPI2_HUMAN\t45.283\t53\t29\t0\t3\t55\t34\t86\t3.12e-14\t55.5\n",
            "sp|A0A1Z0YU59|MAMB1_DENAN\tsp|P48307|TFPI2_HUMAN\t40.000\t50\t30\t0\t2\t51\t155\t204\t9.09e-10\t43.1\n",
            "sp|A0A1Z0YU59|MAMB1_DENAN\tsp|P48307|TFPI2_HUMAN\t29.310\t58\t38\t2\t2\t56\t93\t150\t0.005\t24.3\n",
            "sp|A0A1Z0YU59|MAMB1_DENAN\tsp|O95925|EPPI_HUMAN\t40.000\t55\t33\t0\t1\t55\t73\t127\t3.41e-14\t53.9\n",
            "sp|A0A1Z0YU59|MAMB1_DENAN\tsp|P49223|SPIT3_HUMAN\t38.889\t54\t33\t0\t2\t55\t33\t86\t4.53e-14\t52.4\n",
            "sp|A0A1Z0YU59|MAMB1_DENAN\tsp|Q8TEU8|WFKN2_HUMAN\t43.137\t51\t29\t0\t5\t55\t386\t436\t5.59e-14\t55.1\n",
            "sp|A0A1Z0YU59|MAMB1_DENAN\tsp|Q8TEU8|WFKN2_HUMAN\t30.769\t52\t36\t0\t5\t56\t328\t379\t9.18e-07\t34.7\n",
            "sp|A0A1Z0YU59|MAMB1_DENAN\tsp|P02760|AMBP_HUMAN\t43.137\t51\t29\t0\t5\t55\t287\t337\t4.15e-13\t52.8\n",
            "sp|A0A1Z0YU59|MAMB1_DENAN\tsp|P02760|AMBP_HUMAN\t43.137\t51\t29\t0\t5\t55\t231\t281\t3.29e-12\t50.1\n",
            "sp|A0A1Z0YU59|MAMB1_DENAN\tsp|Q96NZ8|WFKN1_HUMAN\t45.098\t51\t28\t0\t5\t55\t359\t409\t7.47e-13\t52.0\n",
            "sp|A0A1Z0YU59|MAMB1_DENAN\tsp|Q96NZ8|WFKN1_HUMAN\t31.818\t44\t30\t0\t12\t55\t308\t351\t1.78e-05\t31.2\n",
            "sp|A0A1Z0YU59|MAMB1_DENAN\tsp|Q2UY09|COSA1_HUMAN\t36.538\t52\t33\t0\t5\t56\t1072\t1123\t8.32e-13\t52.0\n",
            "sp|A0A1Z0YU59|MAMB1_DENAN\tsp|P05067|A4_HUMAN\t45.455\t44\t24\t0\t12\t55\t298\t341\t3.23e-12\t50.1\n",
            "sp|A0A1Z0YU59|MAMB1_DENAN\tsp|O95428|PPN_HUMAN\t37.500\t56\t35\t0\t2\t57\t751\t806\t2.65e-11\t47.8\n",
            "sp|A0A1Z0YU59|MAMB1_DENAN\tsp|Q06481|APLP2_HUMAN\t33.962\t53\t35\t0\t3\t55\t308\t360\t4.39e-11\t47.0\n",
            "sp|A0A1Z0YU59|MAMB1_DENAN\tsp|O43291|SPIT2_HUMAN\t35.849\t53\t34\t0\t3\t55\t131\t183\t9.17e-11\t45.8\n",
            "sp|A0A1Z0YU59|MAMB1_DENAN\tsp|O43291|SPIT2_HUMAN\t33.962\t53\t35\t0\t3\t55\t36\t88\t3.95e-09\t41.6\n",
            "sp|A0A1Z0YU59|MAMB1_DENAN\tsp|Q8IUA0|WFDC8_HUMAN\t40.385\t52\t31\t0\t5\t56\t95\t146\t7.78e-10\t43.5\n",
            "sp|A0A1Z0YU59|MAMB1_DENAN\tsp|O43278|SPIT1_HUMAN\t40.000\t55\t33\t0\t3\t57\t248\t302\t8.61e-10\t43.5\n",
            "sp|A0A1Z0YU59|MAMB1_DENAN\tsp|O43278|SPIT1_HUMAN\t38.462\t52\t31\t1\t6\t57\t393\t443\t2.69e-08\t39.3\n",
            "sp|A0A1Z0YU59|MAMB1_DENAN\tsp|Q6UDR6|SPIT4_HUMAN\t28.302\t53\t38\t0\t5\t57\t41\t93\t9.83e-07\t33.9\n",
            "sp|A0A1Z0YU59|MAMB1_DENAN\tsp|Q9BQY6|WFDC6_HUMAN\t48.387\t31\t16\t0\t25\t55\t97\t127\t1.24e-05\t31.2\n",
            "sp|B2G331|VKT2B_HETCR\tsp|Q06481|APLP2_HUMAN\t50.909\t55\t27\t0\t24\t78\t308\t362\t3.66e-19\t70.9\n",
            "sp|B2G331|VKT2B_HETCR\tsp|Q8TEU8|WFKN2_HUMAN\t54.902\t51\t23\t0\t26\t76\t386\t436\t2.54e-18\t68.6\n",
            "sp|B2G331|VKT2B_HETCR\tsp|Q8TEU8|WFKN2_HUMAN\t37.255\t51\t32\t0\t26\t76\t328\t378\t2.71e-09\t43.1\n",
            "sp|B2G331|VKT2B_HETCR\tsp|O95925|EPPI_HUMAN\t42.593\t54\t31\t0\t24\t77\t75\t128\t4.07e-17\t62.4\n",
            "sp|B2G331|VKT2B_HETCR\tsp|P05067|A4_HUMAN\t56.818\t44\t19\t0\t33\t76\t298\t341\t1.68e-16\t63.5\n",
            "sp|B2G331|VKT2B_HETCR\tsp|P48307|TFPI2_HUMAN\t51.852\t54\t26\t0\t23\t76\t33\t86\t6.68e-16\t60.8\n",
            "sp|B2G331|VKT2B_HETCR\tsp|P48307|TFPI2_HUMAN\t42.857\t49\t28\t0\t24\t72\t156\t204\t9.64e-10\t43.9\n",
            "sp|B2G331|VKT2B_HETCR\tsp|P48307|TFPI2_HUMAN\t26.923\t52\t36\t1\t27\t76\t98\t149\t0.028\t23.1\n",
            "sp|B2G331|VKT2B_HETCR\tsp|P49223|SPIT3_HUMAN\t44.444\t54\t30\t0\t24\t77\t34\t87\t1.50e-15\t57.0\n",
            "sp|B2G331|VKT2B_HETCR\tsp|O43291|SPIT2_HUMAN\t49.020\t51\t26\t0\t26\t76\t133\t183\t1.86e-14\t57.0\n",
            "sp|B2G331|VKT2B_HETCR\tsp|O43291|SPIT2_HUMAN\t45.098\t51\t28\t0\t26\t76\t38\t88\t2.37e-13\t54.3\n",
            "sp|B2G331|VKT2B_HETCR\tsp|O43291|SPIT2_HUMAN\t43.750\t16\t9\t0\t1\t16\t201\t216\t6.8\t16.5\n",
            "sp|B2G331|VKT2B_HETCR\tsp|P02760|AMBP_HUMAN\t47.170\t53\t28\t0\t24\t76\t285\t337\t2.48e-14\t57.4\n",
            "sp|B2G331|VKT2B_HETCR\tsp|P02760|AMBP_HUMAN\t43.478\t46\t26\t0\t32\t77\t237\t282\t5.85e-11\t47.8\n",
            "sp|B2G331|VKT2B_HETCR\tsp|P10646|TFPI1_HUMAN\t54.545\t44\t20\t0\t33\t76\t61\t104\t3.48e-14\t56.6\n",
            "sp|B2G331|VKT2B_HETCR\tsp|P10646|TFPI1_HUMAN\t38.983\t59\t36\t0\t19\t77\t118\t176\t4.73e-13\t53.5\n",
            "sp|B2G331|VKT2B_HETCR\tsp|P10646|TFPI1_HUMAN\t46.296\t54\t29\t0\t24\t77\t215\t268\t1.03e-11\t49.7\n",
            "sp|B2G331|VKT2B_HETCR\tsp|Q96NZ8|WFKN1_HUMAN\t42.593\t54\t31\t0\t23\t76\t356\t409\t1.35e-13\t55.1\n",
            "sp|B2G331|VKT2B_HETCR\tsp|Q96NZ8|WFKN1_HUMAN\t34.091\t44\t29\t0\t33\t76\t308\t351\t1.85e-07\t37.7\n",
            "sp|B2G331|VKT2B_HETCR\tsp|O95428|PPN_HUMAN\t41.509\t53\t31\t0\t26\t78\t754\t806\t1.63e-13\t55.1\n",
            "sp|B2G331|VKT2B_HETCR\tsp|P12111|CO6A3_HUMAN\t40.385\t52\t31\t0\t25\t76\t3111\t3162\t5.95e-13\t53.5\n",
            "sp|B2G331|VKT2B_HETCR\tsp|Q2UY09|COSA1_HUMAN\t37.255\t51\t32\t0\t26\t76\t1072\t1122\t5.39e-12\t50.8\n",
            "sp|B2G331|VKT2B_HETCR\tsp|Q2UY09|COSA1_HUMAN\t40.000\t15\t9\t0\t53\t67\t929\t943\t4.5\t16.9\n"
          ]
        }
      ]
    },
    {
      "cell_type": "code",
      "source": [
        "!grep -v \"^#\" non-human-bpti.blast | cut -f 1 | sort | uniq -c | head -n 20"
      ],
      "metadata": {
        "colab": {
          "base_uri": "https://localhost:8080/"
        },
        "id": "RSDdWr80dHL7",
        "outputId": "aad4dd8a-518d-4530-a6fb-40a63e68d1af"
      },
      "execution_count": 53,
      "outputs": [
        {
          "output_type": "stream",
          "name": "stdout",
          "text": [
            "     48 sp|A0A1D0BND9|TD1A_HADIN\n",
            "     27 sp|A0A1Z0YU59|MAMB1_DENAN\n",
            "     30 sp|A0A3G2FQK2|3DPD_HETMG\n",
            "     31 sp|A0A6B7FA07|VKT2J_HETCR\n",
            "     32 sp|A0A6B7FBD3|VKT2I_HETCR\n",
            "     31 sp|A0A6B7FEJ3|VKT2K_HETCR\n",
            "     72 sp|A0A6P8HC43|ATPI1_ACTTE\n",
            "     34 sp|A5X2X1|VKT_SISCA\n",
            "     31 sp|A6MFL1|VKT1_DEMVE\n",
            "     32 sp|A6MFL2|VKT2_DEMVE\n",
            "     30 sp|A6MFL3|VKT3_DEMVE\n",
            "     28 sp|A6MFL4|VKT4_DEMVE\n",
            "     30 sp|A6MGX9|VKT5_DEMVE\n",
            "     31 sp|A6MGY1|VKT7_DEMVE\n",
            "     31 sp|A7X3V4|VKT1_TELDH\n",
            "     31 sp|A7X3V7|VKT1_PHIOL\n",
            "     29 sp|A8Y7N4|VKTC1_DABSI\n",
            "     29 sp|A8Y7N5|VKTC2_DABSI\n",
            "     32 sp|A8Y7N6|VKTC3_DABSI\n",
            "     32 sp|A8Y7N7|VKTC4_DABSI\n"
          ]
        }
      ]
    },
    {
      "cell_type": "markdown",
      "source": [
        "because BLAST is based on the local alignment, if the inputs are long maybe there are 2 matches between the first sequence and first seq in the blastdb"
      ],
      "metadata": {
        "id": "hmGGnwFbdkZl"
      }
    },
    {
      "cell_type": "code",
      "source": [
        "!grep -v \"^#\" non-human-bpti.blast | cut -f 1 | sort -u | cut -d \"|\" -f 2 > non-human-bpti.ids"
      ],
      "metadata": {
        "id": "yG3AGKXNebW2"
      },
      "execution_count": 58,
      "outputs": []
    },
    {
      "cell_type": "code",
      "source": [
        "!cat non-human-bpti.ids | head -n 10"
      ],
      "metadata": {
        "colab": {
          "base_uri": "https://localhost:8080/"
        },
        "id": "WD-ybDerfTJ9",
        "outputId": "0ea4f484-8c3e-454f-8fd1-2eb33d115e5c"
      },
      "execution_count": 61,
      "outputs": [
        {
          "output_type": "stream",
          "name": "stdout",
          "text": [
            "A0A1D0BND9\n",
            "A0A1Z0YU59\n",
            "A0A3G2FQK2\n",
            "A0A6B7FA07\n",
            "A0A6B7FBD3\n",
            "A0A6B7FEJ3\n",
            "A0A6P8HC43\n",
            "A5X2X1\n",
            "A6MFL1\n",
            "A6MFL2\n"
          ]
        }
      ]
    },
    {
      "cell_type": "code",
      "source": [
        "!for i in `cat non-human-bpti.ids`; do grep \"|\"$i\"|\" non-human-bpti.blast | grep -v \"^#\" | head -n 1; done | wc"
      ],
      "metadata": {
        "colab": {
          "base_uri": "https://localhost:8080/"
        },
        "id": "pa9AVRv-ftN_",
        "outputId": "6d8e8cca-b1c4-4884-e594-99cceb9a9bab"
      },
      "execution_count": 65,
      "outputs": [
        {
          "output_type": "stream",
          "name": "stdout",
          "text": [
            "    373    4476   32107\n"
          ]
        }
      ]
    },
    {
      "cell_type": "code",
      "source": [
        "!for i in `cat non-human-bpti.ids`; do grep \"|\"$i\"|\" non-human-bpti.blast | grep -v \"^#\" | sort -nrk 11; done | head -n 10"
      ],
      "metadata": {
        "colab": {
          "base_uri": "https://localhost:8080/"
        },
        "id": "_Zfejk6mgE2c",
        "outputId": "3d58906f-24fc-4be0-dd90-b07ddf063702"
      },
      "execution_count": 69,
      "outputs": [
        {
          "output_type": "stream",
          "name": "stdout",
          "text": [
            "sp|A0A1D0BND9|TD1A_HADIN\tsp|P02760|AMBP_HUMAN\t36.765\t68\t41\t1\t16\t81\t277\t344\t8.31e-06\t34.7\n",
            "sp|A0A1D0BND9|TD1A_HADIN\tsp|P02760|AMBP_HUMAN\t39.560\t91\t51\t1\t32\t122\t237\t323\t8.24e-14\t57.8\n",
            "sp|A0A1D0BND9|TD1A_HADIN\tsp|O43278|SPIT1_HUMAN\t30.645\t62\t43\t0\t17\t78\t241\t302\t7.91e-06\t34.7\n",
            "sp|A0A1D0BND9|TD1A_HADIN\tsp|P49223|SPIT3_HUMAN\t48.077\t52\t26\t1\t71\t122\t22\t72\t7.71e-12\t49.3\n",
            "sp|A0A1D0BND9|TD1A_HADIN\tsp|P49223|SPIT3_HUMAN\t38.182\t55\t34\t0\t22\t76\t32\t86\t6.68e-09\t41.6\n",
            "sp|A0A1D0BND9|TD1A_HADIN\tsp|Q6UDR6|SPIT4_HUMAN\t46.512\t43\t23\t0\t81\t123\t36\t78\t6.60e-10\t44.3\n",
            "sp|A0A1D0BND9|TD1A_HADIN\tsp|P12111|CO6A3_HUMAN\t39.583\t48\t29\t0\t75\t122\t3101\t3148\t6.41e-11\t49.7\n",
            "sp|A0A1D0BND9|TD1A_HADIN\tsp|Q06481|APLP2_HUMAN\t47.619\t42\t22\t0\t81\t122\t305\t346\t6.16e-12\t52.4\n",
            "sp|A0A1D0BND9|TD1A_HADIN\tsp|P05067|A4_HUMAN\t50.000\t34\t17\t0\t89\t122\t294\t327\t6.11e-10\t46.6\n",
            "sp|A0A1D0BND9|TD1A_HADIN\tsp|P12111|CO6A3_HUMAN\t40.000\t10\t6\t0\t84\t93\t2589\t2598\t5.9\t17.7\n"
          ]
        }
      ]
    },
    {
      "cell_type": "code",
      "source": [
        "!for i in `cat non-human-bpti.ids`; do grep \"|\"$i\"|\" non-human-bpti.blast | grep -v \"^#\" | sort -gk 11; done | head -n 10"
      ],
      "metadata": {
        "colab": {
          "base_uri": "https://localhost:8080/"
        },
        "id": "lCarRIHjgzAk",
        "outputId": "b7a50498-d139-472e-f3cd-a698809e8826"
      },
      "execution_count": 72,
      "outputs": [
        {
          "output_type": "stream",
          "name": "stdout",
          "text": [
            "sp|A0A1D0BND9|TD1A_HADIN\tsp|P10646|TFPI1_HUMAN\t37.255\t102\t53\t1\t33\t123\t61\t162\t1.18e-18\t70.9\n",
            "sp|A0A1D0BND9|TD1A_HADIN\tsp|O43291|SPIT2_HUMAN\t27.737\t137\t64\t2\t21\t122\t33\t169\t1.33e-15\t62.0\n",
            "sp|A0A1D0BND9|TD1A_HADIN\tsp|P48307|TFPI2_HUMAN\t37.143\t105\t65\t1\t19\t122\t29\t133\t2.33e-15\t61.2\n",
            "sp|A0A1D0BND9|TD1A_HADIN\tsp|Q8TEU8|WFKN2_HUMAN\t33.673\t98\t61\t2\t26\t122\t328\t422\t1.12e-14\t60.1\n",
            "sp|A0A1D0BND9|TD1A_HADIN\tsp|P02760|AMBP_HUMAN\t39.560\t91\t51\t1\t32\t122\t237\t323\t8.24e-14\t57.8\n",
            "sp|A0A1D0BND9|TD1A_HADIN\tsp|P10646|TFPI1_HUMAN\t29.008\t131\t61\t2\t24\t122\t123\t253\t1.57e-13\t56.6\n",
            "sp|A0A1D0BND9|TD1A_HADIN\tsp|Q06481|APLP2_HUMAN\t39.655\t58\t35\t0\t19\t76\t303\t360\t3.38e-12\t53.1\n",
            "sp|A0A1D0BND9|TD1A_HADIN\tsp|P12111|CO6A3_HUMAN\t39.623\t53\t32\t0\t24\t76\t3110\t3162\t4.44e-12\t52.8\n",
            "sp|A0A1D0BND9|TD1A_HADIN\tsp|Q06481|APLP2_HUMAN\t47.619\t42\t22\t0\t81\t122\t305\t346\t6.16e-12\t52.4\n",
            "sp|A0A1D0BND9|TD1A_HADIN\tsp|P49223|SPIT3_HUMAN\t48.077\t52\t26\t1\t71\t122\t22\t72\t7.71e-12\t49.3\n"
          ]
        }
      ]
    },
    {
      "cell_type": "code",
      "source": [
        "!for i in `cat non-human-bpti.ids`; do grep \"|\"$i\"|\" non-human-bpti.blast | grep -v \"^#\" | sort -rgk 11 | head -n 1; done | head -n 10"
      ],
      "metadata": {
        "colab": {
          "base_uri": "https://localhost:8080/"
        },
        "id": "1dG_2AALhTKy",
        "outputId": "c065ca63-42ea-490c-e6ee-bb8b57bbbdcf"
      },
      "execution_count": 77,
      "outputs": [
        {
          "output_type": "stream",
          "name": "stdout",
          "text": [
            "sp|A0A1D0BND9|TD1A_HADIN\tsp|P12111|CO6A3_HUMAN\t40.000\t10\t6\t0\t84\t93\t2589\t2598\t5.9\t17.7\n",
            "sp|A0A1Z0YU59|MAMB1_DENAN\tsp|P48307|TFPI2_HUMAN\t29.310\t58\t38\t2\t2\t56\t93\t150\t0.005\t24.3\n",
            "sp|A0A3G2FQK2|3DPD_HETMG\tsp|P12111|CO6A3_HUMAN\t50.000\t8\t4\t0\t33\t40\t1485\t1492\t9.4\t15.8\n",
            "sp|A0A6B7FA07|VKT2J_HETCR\tsp|P12111|CO6A3_HUMAN\t50.000\t8\t4\t0\t33\t40\t1485\t1492\t9.1\t15.8\n",
            "sp|A0A6B7FBD3|VKT2I_HETCR\tsp|Q2UY09|COSA1_HUMAN\t25.000\t40\t19\t1\t5\t33\t6\t45\t8.9\t16.2\n",
            "sp|A0A6B7FEJ3|VKT2K_HETCR\tsp|P12111|CO6A3_HUMAN\t34.615\t26\t14\t1\t18\t40\t1467\t1492\t8.0\t16.2\n",
            "sp|A0A6P8HC43|ATPI1_ACTTE\tsp|P12111|CO6A3_HUMAN\t54.545\t11\t5\t0\t44\t54\t497\t507\t7.6\t18.9\n",
            "sp|A5X2X1|VKT_SISCA\tsp|P12111|CO6A3_HUMAN\t36.842\t19\t12\t0\t92\t110\t2748\t2766\t8.5\t17.3\n",
            "sp|A6MFL1|VKT1_DEMVE\tsp|O95428|PPN_HUMAN\t22.857\t35\t19\t1\t16\t42\t32\t66\t9.9\t16.2\n",
            "sp|A6MFL2|VKT2_DEMVE\tsp|P12111|CO6A3_HUMAN\t40.000\t20\t5\t1\t40\t52\t775\t794\t9.4\t16.2\n"
          ]
        }
      ]
    },
    {
      "cell_type": "code",
      "source": [
        "!for i in `cat non-human-bpti.ids`; do grep \"|\"$i\"|\" non-human-bpti.blast | grep -v \"^#\" | sort -gk 11 | head -n 1; done > non-human-bpti.match"
      ],
      "metadata": {
        "id": "dFaWLt9ohnJ4"
      },
      "execution_count": 78,
      "outputs": []
    },
    {
      "cell_type": "code",
      "source": [
        "!grep \">\" reviewd_human.fasta | wc"
      ],
      "metadata": {
        "colab": {
          "base_uri": "https://localhost:8080/"
        },
        "id": "VaZ3PZNZh0Lr",
        "outputId": "29e88704-9535-49ef-c5de-b176a2204134"
      },
      "execution_count": 79,
      "outputs": [
        {
          "output_type": "stream",
          "name": "stdout",
          "text": [
            "  20434  224167 2053803\n"
          ]
        }
      ]
    },
    {
      "cell_type": "code",
      "source": [
        "!du -h reviewd_human.fasta"
      ],
      "metadata": {
        "colab": {
          "base_uri": "https://localhost:8080/"
        },
        "id": "CyO23VLZkr0u",
        "outputId": "4c9df3eb-fde1-41ff-ff9c-fe6972349c09"
      },
      "execution_count": 80,
      "outputs": [
        {
          "output_type": "stream",
          "name": "stdout",
          "text": [
            "14M\treviewd_human.fasta\n"
          ]
        }
      ]
    },
    {
      "cell_type": "markdown",
      "source": [
        "You cannot run the script below in the colab :)"
      ],
      "metadata": {
        "id": "hktR9-ojnGb2"
      }
    },
    {
      "cell_type": "code",
      "source": [
        "#!/usr/bin/env python3\n",
        "import sys\n",
        "\n",
        "def get_seqs(fileseq):\n",
        "    dseq = dict()\n",
        "    f = open(fileseq)\n",
        "    for line in f:\n",
        "        if line[0] == '>':\n",
        "            k = line.split('|')[1]\n",
        "            dseq[k] = ''\n",
        "            continue\n",
        "        dseq[k] += line.rstrip()\n",
        "    return dseq\n",
        "\n",
        "\n",
        "if __name__ == '__main__':\n",
        "    fields = sys.argv[1]\n",
        "    fileseq = sys.argv[2]\n",
        "    dseq = get_seqs(fileseq)\n",
        "    ids = open(fields).read().rstrip().split('\\n')\n",
        "    for i in ids:\n",
        "        if dseq.get(i, 0) != 0:\n",
        "            print(\">\" + i + '\\n' + dseq[i])"
      ],
      "metadata": {
        "colab": {
          "base_uri": "https://localhost:8080/",
          "height": 332
        },
        "id": "nfykzj1KiVS1",
        "outputId": "9a6b8158-5bc4-4a77-e899-569eb6293793"
      },
      "execution_count": 89,
      "outputs": [
        {
          "output_type": "error",
          "ename": "UnboundLocalError",
          "evalue": "local variable 'k' referenced before assignment",
          "traceback": [
            "\u001b[0;31m---------------------------------------------------------------------------\u001b[0m",
            "\u001b[0;31mUnboundLocalError\u001b[0m                         Traceback (most recent call last)",
            "\u001b[0;32m<ipython-input-89-96b38c429a79>\u001b[0m in \u001b[0;36m<cell line: 16>\u001b[0;34m()\u001b[0m\n\u001b[1;32m     17\u001b[0m     \u001b[0mfields\u001b[0m \u001b[0;34m=\u001b[0m \u001b[0msys\u001b[0m\u001b[0;34m.\u001b[0m\u001b[0margv\u001b[0m\u001b[0;34m[\u001b[0m\u001b[0;36m1\u001b[0m\u001b[0;34m]\u001b[0m\u001b[0;34m\u001b[0m\u001b[0;34m\u001b[0m\u001b[0m\n\u001b[1;32m     18\u001b[0m     \u001b[0mfileseq\u001b[0m \u001b[0;34m=\u001b[0m \u001b[0msys\u001b[0m\u001b[0;34m.\u001b[0m\u001b[0margv\u001b[0m\u001b[0;34m[\u001b[0m\u001b[0;36m2\u001b[0m\u001b[0;34m]\u001b[0m\u001b[0;34m\u001b[0m\u001b[0;34m\u001b[0m\u001b[0m\n\u001b[0;32m---> 19\u001b[0;31m     \u001b[0mdseq\u001b[0m \u001b[0;34m=\u001b[0m \u001b[0mget_seqs\u001b[0m\u001b[0;34m(\u001b[0m\u001b[0mfileseq\u001b[0m\u001b[0;34m)\u001b[0m\u001b[0;34m\u001b[0m\u001b[0;34m\u001b[0m\u001b[0m\n\u001b[0m\u001b[1;32m     20\u001b[0m     \u001b[0mids\u001b[0m \u001b[0;34m=\u001b[0m \u001b[0mopen\u001b[0m\u001b[0;34m(\u001b[0m\u001b[0mfields\u001b[0m\u001b[0;34m)\u001b[0m\u001b[0;34m.\u001b[0m\u001b[0mread\u001b[0m\u001b[0;34m(\u001b[0m\u001b[0;34m)\u001b[0m\u001b[0;34m.\u001b[0m\u001b[0mrstrip\u001b[0m\u001b[0;34m(\u001b[0m\u001b[0;34m)\u001b[0m\u001b[0;34m.\u001b[0m\u001b[0msplit\u001b[0m\u001b[0;34m(\u001b[0m\u001b[0;34m'\\n'\u001b[0m\u001b[0;34m)\u001b[0m\u001b[0;34m\u001b[0m\u001b[0;34m\u001b[0m\u001b[0m\n\u001b[1;32m     21\u001b[0m     \u001b[0;32mfor\u001b[0m \u001b[0mi\u001b[0m \u001b[0;32min\u001b[0m \u001b[0mids\u001b[0m\u001b[0;34m:\u001b[0m\u001b[0;34m\u001b[0m\u001b[0;34m\u001b[0m\u001b[0m\n",
            "\u001b[0;32m<ipython-input-89-96b38c429a79>\u001b[0m in \u001b[0;36mget_seqs\u001b[0;34m(fileseq)\u001b[0m\n\u001b[1;32m     10\u001b[0m             \u001b[0mdseq\u001b[0m\u001b[0;34m[\u001b[0m\u001b[0mk\u001b[0m\u001b[0;34m]\u001b[0m \u001b[0;34m=\u001b[0m \u001b[0;34m''\u001b[0m\u001b[0;34m\u001b[0m\u001b[0;34m\u001b[0m\u001b[0m\n\u001b[1;32m     11\u001b[0m             \u001b[0;32mcontinue\u001b[0m\u001b[0;34m\u001b[0m\u001b[0;34m\u001b[0m\u001b[0m\n\u001b[0;32m---> 12\u001b[0;31m         \u001b[0mdseq\u001b[0m\u001b[0;34m[\u001b[0m\u001b[0mk\u001b[0m\u001b[0;34m]\u001b[0m \u001b[0;34m+=\u001b[0m \u001b[0mline\u001b[0m\u001b[0;34m.\u001b[0m\u001b[0mrstrip\u001b[0m\u001b[0;34m(\u001b[0m\u001b[0;34m)\u001b[0m\u001b[0;34m\u001b[0m\u001b[0;34m\u001b[0m\u001b[0m\n\u001b[0m\u001b[1;32m     13\u001b[0m     \u001b[0;32mreturn\u001b[0m \u001b[0mdseq\u001b[0m\u001b[0;34m\u001b[0m\u001b[0;34m\u001b[0m\u001b[0m\n\u001b[1;32m     14\u001b[0m \u001b[0;34m\u001b[0m\u001b[0m\n",
            "\u001b[0;31mUnboundLocalError\u001b[0m: local variable 'k' referenced before assignment"
          ]
        }
      ]
    }
  ]
}