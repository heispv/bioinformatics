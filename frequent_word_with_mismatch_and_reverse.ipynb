{
  "cells": [
    {
      "cell_type": "markdown",
      "metadata": {
        "colab_type": "text",
        "id": "view-in-github"
      },
      "source": [
        "<a href=\"https://colab.research.google.com/github/heispv/bioinformatics/blob/master/frequent_word_with_mismatch_and_reverse.ipynb\" target=\"_parent\"><img src=\"https://colab.research.google.com/assets/colab-badge.svg\" alt=\"Open In Colab\"/></a>"
      ]
    },
    {
      "cell_type": "code",
      "execution_count": 7,
      "metadata": {
        "id": "dc9j2DdUcDt3"
      },
      "outputs": [],
      "source": [
        "import numpy as np\n",
        "from functions import reverse_complement"
      ]
    },
    {
      "cell_type": "code",
      "execution_count": 8,
      "metadata": {
        "id": "mh-8DQwkLhVA"
      },
      "outputs": [],
      "source": [
        "def hamming_distance(p, q):\n",
        "\n",
        "    distance = 0\n",
        "    for i in range(len(p)):\n",
        "        if p[i] != q[i]:\n",
        "            distance += 1\n",
        "\n",
        "    return distance"
      ]
    },
    {
      "cell_type": "code",
      "execution_count": 9,
      "metadata": {
        "id": "7zzZWJlvLdfc"
      },
      "outputs": [],
      "source": [
        "def neighborhood_list(pattern, d):\n",
        "    if d == 0:\n",
        "        return pattern\n",
        "    if len(pattern) == 1:\n",
        "        return {'A', 'T', 'C', 'G'}\n",
        "\n",
        "    neighbors = set()\n",
        "\n",
        "    suffix_pattern = pattern[1:]\n",
        "    suffix_neighbors = neighborhood_list(suffix_pattern, d)\n",
        "\n",
        "    for suffix_neighbor in suffix_neighbors:\n",
        "        if hamming_distance(suffix_pattern, suffix_neighbor) < d:\n",
        "            for x in 'ATCG':\n",
        "                neighbors.add(x + suffix_neighbor)\n",
        "        else:\n",
        "            neighbors.add(pattern[0] + suffix_neighbor)\n",
        "\n",
        "    return list(neighbors)"
      ]
    },
    {
      "cell_type": "code",
      "execution_count": 10,
      "metadata": {
        "id": "A35CL4Z7bP4h"
      },
      "outputs": [],
      "source": [
        "def freq_word_with_mistmatch_reverse(seq, k, d):\n",
        "    patterns = []\n",
        "    freq_map = {}\n",
        "    n = len(seq)\n",
        "\n",
        "    for i in range(n - k + 1):\n",
        "        pattern = seq[i : i+k]\n",
        "        neighbors = neighborhood_list(pattern, d)\n",
        "        rev_neighbors = [reverse_complement(neighbor) for neighbor in neighbors]\n",
        "\n",
        "        for neighbor in neighbors + rev_neighbors:\n",
        "            if neighbor not in freq_map:\n",
        "                freq_map[neighbor] = 1\n",
        "            else:\n",
        "                freq_map[neighbor] += 1\n",
        "\n",
        "    max_value = np.max(list(freq_map.values()))\n",
        "    for key, value in freq_map.items():\n",
        "        if value == max_value:\n",
        "            patterns.append(key)\n",
        "\n",
        "    return patterns"
      ]
    },
    {
      "cell_type": "code",
      "execution_count": 11,
      "metadata": {
        "id": "aJiclPtWkq2e"
      },
      "outputs": [],
      "source": [
        "seq = 'AACTGAACATATAATATGCATAACTGAACTGTGAACAACCATTGCATAATGTGAACAACAAAAAAAACTGTGATAATAATACATATAAACTGAATGAACAATGTGATACATAATGAACAACATAATAATACATTGATACATATATGAACATACATTGTGTGTGTGATAAAATAATAAACTGATATGAATGTGATACATATACATAAAACTGCATAACAACATACATAAAAC'\n",
        "k = 7\n",
        "d = 3"
      ]
    },
    {
      "cell_type": "code",
      "execution_count": 12,
      "metadata": {
        "colab": {
          "base_uri": "https://localhost:8080/"
        },
        "id": "n--Sq6u8k9jH",
        "outputId": "2ee13851-7fe1-44c1-f7d8-3c25fe950d25"
      },
      "outputs": [
        {
          "name": "stdout",
          "output_type": "stream",
          "text": [
            "AAATATA TATATTT\n"
          ]
        }
      ],
      "source": [
        "print(*freq_word_with_mistmatch_reverse(seq, k, d))"
      ]
    }
  ],
  "metadata": {
    "colab": {
      "authorship_tag": "ABX9TyOhYyGktp6Fgb+LkfaGX82V",
      "include_colab_link": true,
      "provenance": []
    },
    "kernelspec": {
      "display_name": "Python 3",
      "name": "python3"
    },
    "language_info": {
      "codemirror_mode": {
        "name": "ipython",
        "version": 3
      },
      "file_extension": ".py",
      "mimetype": "text/x-python",
      "name": "python",
      "nbconvert_exporter": "python",
      "pygments_lexer": "ipython3",
      "version": "3.11.4"
    }
  },
  "nbformat": 4,
  "nbformat_minor": 0
}
