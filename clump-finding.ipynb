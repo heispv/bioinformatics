{
  "nbformat": 4,
  "nbformat_minor": 0,
  "metadata": {
    "colab": {
      "provenance": [],
      "authorship_tag": "ABX9TyP3iK9OnjBIiETG23eJrMTi",
      "include_colab_link": true
    },
    "kernelspec": {
      "name": "python3",
      "display_name": "Python 3"
    },
    "language_info": {
      "name": "python"
    }
  },
  "cells": [
    {
      "cell_type": "markdown",
      "metadata": {
        "id": "view-in-github",
        "colab_type": "text"
      },
      "source": [
        "<a href=\"https://colab.research.google.com/github/heispv/bioinformatics/blob/master/clump-finding.ipynb\" target=\"_parent\"><img src=\"https://colab.research.google.com/assets/colab-badge.svg\" alt=\"Open In Colab\"/></a>"
      ]
    },
    {
      "cell_type": "markdown",
      "source": [
        "```\n",
        "FindClumps(Text, k, L, t)\n",
        "    Patterns ← an array of strings of length 0\n",
        "    n ← |Text|\n",
        "    for every integer i between 0 and n − L\n",
        "        Window ← Text(i, L)\n",
        "        freqMap ← FrequencyTable(Window, k)\n",
        "        for every key s in freqMap\n",
        "            if freqMap[s] ≥ t\n",
        "                append s to Patterns\n",
        "    remove duplicates from Patterns\n",
        "    return Patterns\n",
        "```"
      ],
      "metadata": {
        "id": "8-VLqak9al4n"
      }
    },
    {
      "cell_type": "code",
      "source": [
        "# We have it from previous notebooks\n",
        "def freqTable(text, k):\n",
        "  freq_table = {}\n",
        "  n = len(text)\n",
        "\n",
        "  for i in range(n - k + 1):\n",
        "    pattern = text[i : i+k]\n",
        "\n",
        "    if pattern not in freq_table.keys():\n",
        "      freq_table[pattern] = 1\n",
        "    else:\n",
        "      freq_table[pattern] += 1\n",
        "\n",
        "  return freq_table"
      ],
      "metadata": {
        "id": "Jv8T6W44cH_6"
      },
      "execution_count": 43,
      "outputs": []
    },
    {
      "cell_type": "code",
      "source": [
        "def findClumps(seq, k, L, t):\n",
        "  pattern = []\n",
        "  n = len(seq)\n",
        "\n",
        "  for i in range(n - L + 1):\n",
        "    window = seq[i : i+L]\n",
        "    freq_map = freqTable(window, k)\n",
        "    for key, value in freq_map.items():\n",
        "      if value >= t:\n",
        "        pattern.append(key)\n",
        "\n",
        "  return list(set(pattern))"
      ],
      "metadata": {
        "id": "OEbQroj1bCfn"
      },
      "execution_count": 54,
      "outputs": []
    },
    {
      "cell_type": "code",
      "source": [
        "seq = 'GGGAATAATAGAAATCCTTAACTTCCTTAACTTCCTTAACTACTTAGTGCCACTCTAATCCATACTAGCAGAGAGCAACTTACTGGACGGAAACGCATGAAGTGGATCAAACCATGCACAAAGCAGAAACCAGATTACTTTTGAAGAGTTGAGTCCTACGAAGCGTGGGTTTCACTTCATAGTTTACGATTAATAGGCACCTACGGAAGCTGGAGTGTGTTGCATAAATCGTACAAGCAACTAGATACTGATTTACGGTCGGCGTTGAGCCTCACCTCAACCAGAATGCGACGGCCCTGTTCCTCCCGGCACTAATACCTTCTGGTTGAGTAAAGCTTAGGAAGCTTAGGGGCTTAGGCCGGATTAAACCGCAATTGAAGACAATTGAAGAAGCAGTGAGTCCATGAGTCCATGGAGTCCATGGGGAGGTGGACCGAGAACGATCAGACGGCTATCTTTCTCTAATATAGGAAATGGAGCGGGGCAAAAGGGTGGGTAAGGGTCGTCTGGCGACTTTGGGGTTGATCCTTATAGGTATGGGGCTACATTTCCCGGGACGAGATCTAGGGGCAATATGGAGGACATACAATCTGTGCGGGTAAGGCAAGGCTACATTCACGGCTGCATGGGCCAGTCAATTTCAGCTGCTGAAGTACATTGCCGGATCAACCTGAAAGCGTGATCAAGGCAGCCAGCAGGCCCCGCCACAGCTCCGGATGCGGATGCTCCGGATGCTTTCCTGGTTTAATGTCTCCTGTTTACGGATGAGCCAATGCGTGTCTTTGCACGCAGGGCCTATGCGTCGTGCGTATTCCACGGCACCTCCCTGTCGCTTTCAAGTTTACAACGGGGTTTCTGTTCCTCATCCGGTAACGCTCTCCTACATGAGGGTAGTTCGGCAGCCCTATTGATTAAGCTTCGTACGTCGCCAAAGGCCATCAGGAATCCCACTCTGGGTTTGGATCGACTTGACCAGTTGGGGTTTTTCTGGGAAGTTCGGGAAAGGCGCCCACCGATTATGTTGTAGTTGGTTGGGGGTTGGGGGGCGGGCGCTGTGGCATGCGAAGTTTGGGATAACACGTATTGCCGGAGCCCGGTTTGAGACCGCCCACTATTCTCGACGTACACTGCTGTAGTGTGTTTCAATCTAATCTATCTAGTCACATCTAGTCAGCCCATTAGTAGTGTTTCGCGGCAGCCCGAACATACTTACAGGCCTCACACATAATAACTAAGCGTATCCTGGCATTATAGACGTGGAACTGGTAACATTGAGGGAACACATTCTAATTGTCGTTGTACGAAGCATGTTAAGTTCTTGACCGCACGCGGGTCCCCTAGAGACGCCACTGAGGCTGCCTTGGATTATACTGTGAGTTCTGCGAATACTGCGCCACTTGATACCTCAGTTCACGATGTTCGCATGGGGTTGATCCTCGAAGCAATGTAGATTACGTGGGCGACTAGACGGTGAGTTGATCAGGGACTTTGGACTCCGGGCTGCTGGTCCACACAGAAGGTGGAACAGCTAAAGTCGGCTACGCCCTTACCCGGACAATTAAAATCGTATTCTGAGTAGACTGAATAAACACCAAGTCTCATTTTACGGAATCGCTTCTGCCAACGTAAGATGGTCACACACGCTGCCCTTCCCGAACGTTTACTTACCATCCCTCTGACCGGACACCATATCTTTTCGTTCCAGGTGGGGTGCGCAAGACCTTTGGGCAATTCAGTGCGCTGACCTAAAGCTCTAAAGCTGGAGCTGGAAGATTGTACTGGTCCTTCCCAATAACTCCCAGTACTTTGACTGCATGTCGATGGACCATCTCGATAATTATCCTTCATACTTGGCACGCTCGCTCAAAGACTTTAACAAGG'"
      ],
      "metadata": {
        "id": "k-rqNi_1dbVj"
      },
      "execution_count": 55,
      "outputs": []
    },
    {
      "cell_type": "code",
      "source": [
        "findClumps(seq, 9, 26, 3)"
      ],
      "metadata": {
        "colab": {
          "base_uri": "https://localhost:8080/"
        },
        "id": "7aB4fGDpf5l9",
        "outputId": "4ee9958d-f24c-4042-90bb-e77c65175cd1"
      },
      "execution_count": 56,
      "outputs": [
        {
          "output_type": "execute_result",
          "data": {
            "text/plain": [
              "['GAGTCCATG']"
            ]
          },
          "metadata": {},
          "execution_count": 56
        }
      ]
    }
  ]
}