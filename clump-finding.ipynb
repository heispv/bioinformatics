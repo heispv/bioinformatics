{
  "cells": [
    {
      "cell_type": "markdown",
      "metadata": {
        "colab_type": "text",
        "id": "view-in-github"
      },
      "source": [
        "<a href=\"https://colab.research.google.com/github/heispv/bioinformatics/blob/master/clump-finding.ipynb\" target=\"_parent\"><img src=\"https://colab.research.google.com/assets/colab-badge.svg\" alt=\"Open In Colab\"/></a>"
      ]
    },
    {
      "cell_type": "markdown",
      "metadata": {
        "id": "8-VLqak9al4n"
      },
      "source": [
        "```\n",
        "FindClumps(Text, k, L, t)\n",
        "    Patterns ← an array of strings of length 0\n",
        "    n ← |Text|\n",
        "    for every integer i between 0 and n − L\n",
        "        Window ← Text(i, L)\n",
        "        freqMap ← FrequencyTable(Window, k)\n",
        "        for every key s in freqMap\n",
        "            if freqMap[s] ≥ t\n",
        "                append s to Patterns\n",
        "    remove duplicates from Patterns\n",
        "    return Patterns\n",
        "```"
      ]
    },
    {
      "cell_type": "code",
      "execution_count": 1,
      "metadata": {
        "id": "Jv8T6W44cH_6"
      },
      "outputs": [],
      "source": [
        "# We have it from previous notebooks\n",
        "def freq_table(text, k):\n",
        "  freq_table = {}\n",
        "  n = len(text)\n",
        "\n",
        "  for i in range(n - k + 1):\n",
        "    pattern = text[i : i+k]\n",
        "\n",
        "    if pattern not in freq_table.keys():\n",
        "      freq_table[pattern] = 1\n",
        "    else:\n",
        "      freq_table[pattern] += 1\n",
        "\n",
        "  return freq_table"
      ]
    },
    {
      "cell_type": "code",
      "execution_count": 2,
      "metadata": {
        "id": "OEbQroj1bCfn"
      },
      "outputs": [],
      "source": [
        "def find_clumps(seq, k, L, t):\n",
        "  pattern = []\n",
        "  n = len(seq)\n",
        "\n",
        "  for i in range(n - L + 1):\n",
        "    window = seq[i : i+L]\n",
        "    freq_map = freq_table(window, k)\n",
        "    for key, value in freq_map.items():\n",
        "      if value >= t:\n",
        "        pattern.append(key)\n",
        "\n",
        "  return list(set(pattern))"
      ]
    },
    {
      "cell_type": "code",
      "execution_count": 3,
      "metadata": {
        "id": "k-rqNi_1dbVj"
      },
      "outputs": [],
      "source": [
        "seq = 'GGGAATAATAGAAATCCTTAACTTCCTTAACTTCCTTAACTACTTAGTGCCACTCTAATCCATACTAGCAGAGAGCAACTTACTGGACGGAAACGCATGAAGTGGATCAAACCATGCACAAAGCAGAAACCAGATTACTTTTGAAGAGTTGAGTCCTACGAAGCGTGGGTTTCACTTCATAGTTTACGATTAATAGGCACCTACGGAAGCTGGAGTGTGTTGCATAAATCGTACAAGCAACTAGATACTGATTTACGGTCGGCGTTGAGCCTCACCTCAACCAGAATGCGACGGCCCTGTTCCTCCCGGCACTAATACCTTCTGGTTGAGTAAAGCTTAGGAAGCTTAGGGGCTTAGGCCGGATTAAACCGCAATTGAAGACAATTGAAGAAGCAGTGAGTCCATGAGTCCATGGAGTCCATGGGGAGGTGGACCGAGAACGATCAGACGGCTATCTTTCTCTAATATAGGAAATGGAGCGGGGCAAAAGGGTGGGTAAGGGTCGTCTGGCGACTTTGGGGTTGATCCTTATAGGTATGGGGCTACATTTCCCGGGACGAGATCTAGGGGCAATATGGAGGACATACAATCTGTGCGGGTAAGGCAAGGCTACATTCACGGCTGCATGGGCCAGTCAATTTCAGCTGCTGAAGTACATTGCCGGATCAACCTGAAAGCGTGATCAAGGCAGCCAGCAGGCCCCGCCACAGCTCCGGATGCGGATGCTCCGGATGCTTTCCTGGTTTAATGTCTCCTGTTTACGGATGAGCCAATGCGTGTCTTTGCACGCAGGGCCTATGCGTCGTGCGTATTCCACGGCACCTCCCTGTCGCTTTCAAGTTTACAACGGGGTTTCTGTTCCTCATCCGGTAACGCTCTCCTACATGAGGGTAGTTCGGCAGCCCTATTGATTAAGCTTCGTACGTCGCCAAAGGCCATCAGGAATCCCACTCTGGGTTTGGATCGACTTGACCAGTTGGGGTTTTTCTGGGAAGTTCGGGAAAGGCGCCCACCGATTATGTTGTAGTTGGTTGGGGGTTGGGGGGCGGGCGCTGTGGCATGCGAAGTTTGGGATAACACGTATTGCCGGAGCCCGGTTTGAGACCGCCCACTATTCTCGACGTACACTGCTGTAGTGTGTTTCAATCTAATCTATCTAGTCACATCTAGTCAGCCCATTAGTAGTGTTTCGCGGCAGCCCGAACATACTTACAGGCCTCACACATAATAACTAAGCGTATCCTGGCATTATAGACGTGGAACTGGTAACATTGAGGGAACACATTCTAATTGTCGTTGTACGAAGCATGTTAAGTTCTTGACCGCACGCGGGTCCCCTAGAGACGCCACTGAGGCTGCCTTGGATTATACTGTGAGTTCTGCGAATACTGCGCCACTTGATACCTCAGTTCACGATGTTCGCATGGGGTTGATCCTCGAAGCAATGTAGATTACGTGGGCGACTAGACGGTGAGTTGATCAGGGACTTTGGACTCCGGGCTGCTGGTCCACACAGAAGGTGGAACAGCTAAAGTCGGCTACGCCCTTACCCGGACAATTAAAATCGTATTCTGAGTAGACTGAATAAACACCAAGTCTCATTTTACGGAATCGCTTCTGCCAACGTAAGATGGTCACACACGCTGCCCTTCCCGAACGTTTACTTACCATCCCTCTGACCGGACACCATATCTTTTCGTTCCAGGTGGGGTGCGCAAGACCTTTGGGCAATTCAGTGCGCTGACCTAAAGCTCTAAAGCTGGAGCTGGAAGATTGTACTGGTCCTTCCCAATAACTCCCAGTACTTTGACTGCATGTCGATGGACCATCTCGATAATTATCCTTCATACTTGGCACGCTCGCTCAAAGACTTTAACAAGG'"
      ]
    },
    {
      "cell_type": "code",
      "execution_count": 4,
      "metadata": {
        "colab": {
          "base_uri": "https://localhost:8080/"
        },
        "id": "7aB4fGDpf5l9",
        "outputId": "4ee9958d-f24c-4042-90bb-e77c65175cd1"
      },
      "outputs": [
        {
          "data": {
            "text/plain": [
              "['GAGTCCATG']"
            ]
          },
          "execution_count": 4,
          "metadata": {},
          "output_type": "execute_result"
        }
      ],
      "source": [
        "find_clumps(seq, 9, 26, 3)"
      ]
    },
    {
      "cell_type": "code",
      "execution_count": null,
      "metadata": {},
      "outputs": [],
      "source": []
    }
  ],
  "metadata": {
    "colab": {
      "authorship_tag": "ABX9TyP3iK9OnjBIiETG23eJrMTi",
      "include_colab_link": true,
      "provenance": []
    },
    "kernelspec": {
      "display_name": "Python 3",
      "name": "python3"
    },
    "language_info": {
      "codemirror_mode": {
        "name": "ipython",
        "version": 3
      },
      "file_extension": ".py",
      "mimetype": "text/x-python",
      "name": "python",
      "nbconvert_exporter": "python",
      "pygments_lexer": "ipython3",
      "version": "3.11.4"
    }
  },
  "nbformat": 4,
  "nbformat_minor": 0
}
